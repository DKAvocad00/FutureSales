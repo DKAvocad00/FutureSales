{
 "cells": [
  {
   "cell_type": "code",
   "execution_count": null,
   "id": "initial_id",
   "metadata": {
    "collapsed": true
   },
   "outputs": [],
   "source": [
    "import pandas as pd\n",
    "import warnings\n",
    "from path_utils import sales_fix_path, test_fix_path, save_final_to, shops_fix_path, final_data_path\n",
    "from src.features.building_model import FeatureExtraction, ValidationSchema\n",
    "from src.features.building_model import train_model\n",
    "from src.features.utils import create_kaggle_data\n",
    "import numpy as np\n",
    "\n",
    "warnings.filterwarnings(\"ignore\")"
   ]
  },
  {
   "cell_type": "code",
   "outputs": [],
   "source": [
    "in_features = ['date_block_num', 'shop_id', 'item_id']\n",
    "target = ['item_cnt_month']\n",
    "cat_cols = ['date_block_num', 'shop_id', 'item_id']"
   ],
   "metadata": {
    "collapsed": false
   },
   "id": "849da7c2e3244fab"
  },
  {
   "cell_type": "code",
   "outputs": [],
   "source": [
    "train = pd.read_csv(sales_fix_path)\n",
    "test = pd.read_csv(test_fix_path)"
   ],
   "metadata": {
    "collapsed": false
   },
   "id": "ffe001bba3846022",
   "execution_count": null
  },
  {
   "cell_type": "code",
   "outputs": [],
   "source": [
    "fe_simple = FeatureExtraction()"
   ],
   "metadata": {
    "collapsed": false
   },
   "id": "1bcc9cc490bc2af9",
   "execution_count": null
  },
  {
   "cell_type": "code",
   "outputs": [],
   "source": [
    "fe_simple.create_final_data(train, test, make_big=False)"
   ],
   "metadata": {
    "collapsed": false
   },
   "id": "b37d283f809de84b",
   "execution_count": null
  },
  {
   "cell_type": "code",
   "outputs": [],
   "source": [
    "fe_simple.load_data(\"final_data\")"
   ],
   "metadata": {
    "collapsed": false
   },
   "id": "d8a6d41cfa651f96",
   "execution_count": null
  },
  {
   "cell_type": "code",
   "outputs": [],
   "source": [
    "vs = ValidationSchema(final_data_path=final_data_path)"
   ],
   "metadata": {
    "collapsed": false
   },
   "id": "ef30780780a6dfb7",
   "execution_count": null
  },
  {
   "cell_type": "code",
   "outputs": [],
   "source": [
    "validation_dict = vs.train_test_spliter(val_size=0.04)"
   ],
   "metadata": {
    "collapsed": false
   },
   "id": "3d61fce9f53831",
   "execution_count": null
  },
  {
   "cell_type": "code",
   "outputs": [],
   "source": [
    "preds = train_model(train=validation_dict['train'], val=validation_dict['val'], test=validation_dict['test'],\n",
    "                    in_features=in_features, target=target, cat_features=cat_cols)"
   ],
   "metadata": {
    "collapsed": false
   },
   "id": "3b6617aa8a4abe17",
   "execution_count": null
  },
  {
   "cell_type": "code",
   "outputs": [],
   "source": [
    "create_kaggle_data(predictions=preds, file_name=\"kaggle\", save_path=save_final_to)"
   ],
   "metadata": {
    "collapsed": false
   },
   "id": "442ddaeafd28101d"
  },
  {
   "cell_type": "markdown",
   "source": [
    "\n",
    "\n",
    "**Without any Feature Extraction methods and option to include all possible combination date_block_num, shop_id, and item_id if make_big, public kaggle score is 1.52 (what a fuck amigo)**\n",
    "\n",
    "\n",
    "<img src=\"../data/images/kaggle_score_1.png\">\n"
   ],
   "metadata": {
    "collapsed": false
   },
   "id": "6971b145a9de8876"
  },
  {
   "cell_type": "code",
   "outputs": [],
   "source": [
    "train = pd.read_csv(sales_fix_path)\n",
    "test = pd.read_csv(test_fix_path)"
   ],
   "metadata": {
    "collapsed": false
   },
   "id": "52907dcf2b3128f9",
   "execution_count": null
  },
  {
   "cell_type": "code",
   "outputs": [],
   "source": [
    "fe_with_comb = FeatureExtraction()"
   ],
   "metadata": {
    "collapsed": false
   },
   "id": "d8e96554b762a260",
   "execution_count": null
  },
  {
   "cell_type": "code",
   "outputs": [],
   "source": [
    "fe_with_comb.create_final_data(train=train, test=test, make_big=True)"
   ],
   "metadata": {
    "collapsed": false
   },
   "id": "8f894bc1b9af6fd3",
   "execution_count": null
  },
  {
   "cell_type": "code",
   "outputs": [],
   "source": [
    "fe_with_comb.load_data('final_data')"
   ],
   "metadata": {
    "collapsed": false
   },
   "id": "6cc3b0a8095ab6c6",
   "execution_count": null
  },
  {
   "cell_type": "code",
   "outputs": [],
   "source": [
    "vs = ValidationSchema(final_data_path)"
   ],
   "metadata": {
    "collapsed": false
   },
   "id": "7cce582f4a3daec2",
   "execution_count": null
  },
  {
   "cell_type": "code",
   "outputs": [],
   "source": [
    "validation_dict = vs.train_test_spliter()"
   ],
   "metadata": {
    "collapsed": false
   },
   "id": "b0acccbe190f796c",
   "execution_count": null
  },
  {
   "cell_type": "code",
   "outputs": [],
   "source": [
    "preds = train_model(train=validation_dict['train'], val=validation_dict['val'], test=validation_dict['test'],\n",
    "                    in_features=in_features, target=target, cat_features=cat_cols)"
   ],
   "metadata": {
    "collapsed": false
   },
   "id": "959daa0e904c7a5c",
   "execution_count": null
  },
  {
   "cell_type": "code",
   "outputs": [],
   "source": [
    "create_kaggle_data(predictions=preds, file_name=\"kaggle\", save_path=save_final_to)"
   ],
   "metadata": {
    "collapsed": false
   },
   "id": "252ca3a12db28d",
   "execution_count": null
  },
  {
   "cell_type": "markdown",
   "source": [
    "\n",
    "**Without Feature Extraction methods but using option to include all possible combination date_block_num, shop_id, and item_id if make_big, public kaggle score is 1.16**\n",
    "\n",
    "\n",
    "<img src=\"../data/images/kaggle_score_2.png\">\n"
   ],
   "metadata": {
    "collapsed": false
   },
   "id": "325dc96ff1344dbc"
  },
  {
   "cell_type": "code",
   "outputs": [],
   "source": [
    "train = pd.read_csv(sales_fix_path)\n",
    "test = pd.read_csv(test_fix_path)"
   ],
   "metadata": {
    "collapsed": false
   },
   "id": "d071c676144464fe",
   "execution_count": null
  },
  {
   "cell_type": "code",
   "outputs": [],
   "source": [
    "fe = FeatureExtraction()"
   ],
   "metadata": {
    "collapsed": false
   },
   "id": "ec9003c76f292ac3",
   "execution_count": null
  },
  {
   "cell_type": "code",
   "outputs": [],
   "source": [
    "fe.create_final_data(train=train, test=test, make_big=True)"
   ],
   "metadata": {
    "collapsed": false
   },
   "id": "fecafbd4fa627c02",
   "execution_count": null
  },
  {
   "cell_type": "code",
   "outputs": [],
   "source": [
    "df = fe.get_data()"
   ],
   "metadata": {
    "collapsed": false
   },
   "id": "2bcb571b2204d11a",
   "execution_count": null
  },
  {
   "cell_type": "code",
   "outputs": [],
   "source": [
    "# WARNING !!!! DON'T USE IT. CALCULATING 4 HOURS !!!\n",
    "\n",
    "# shop_item_df = df.groupby([\"shop_id\", \"item_id\"], as_index=False)['item_cnt_month'].sum()"
   ],
   "metadata": {
    "collapsed": false
   },
   "id": "1d26843a76bd94cf",
   "execution_count": null
  },
  {
   "cell_type": "code",
   "outputs": [],
   "source": [
    "# WARNING !!!! DON'T USE IT. CALCULATING 4 HOURS !!!\n",
    "\n",
    "# shop_item_df = shop_item_df[['shop_id', 'item_id']].to_dict(orient='records')"
   ],
   "metadata": {
    "collapsed": false
   },
   "id": "d1922b03f7e3b76e",
   "execution_count": null
  },
  {
   "cell_type": "code",
   "outputs": [],
   "source": [
    "# WARNING !!!! DON'T USE IT. CALCULATING 4 HOURS !!!\n",
    "\n",
    "# for it, row in enumerate(shop_item_df):\n",
    "#     shop_item_ts: pd.DataFrame = df[(df[\"shop_id\"] == row[\"shop_id\"]) & (df[\"item_id\"] == row[\"item_id\"])]\n",
    "#     if shop_item_ts.shape[0] >= 20:\n",
    "#         proc_shop_item_ts: pd.DataFrame = fe.ts_nonstatinarity_processing(shop_item_ts, \"item_cnt_month\")\n",
    "#         df.loc[\n",
    "#             (df[\"shop_id\"] == row[\"shop_id\"]) & (df[\"item_id\"] == row[\"item_id\"]), \"item_cnt_month\"] = proc_shop_item_ts\n",
    "#         print(\"Iter {}: TS for {} shop and {} item processed.\".format(it, row['shop_id'], row['item_id']))"
   ],
   "metadata": {
    "collapsed": false
   },
   "id": "b2d7b70c2a623444",
   "execution_count": null
  },
  {
   "cell_type": "code",
   "outputs": [],
   "source": [
    "df.to_csv(save_final_to + 'diff_data' + '.csv', index=False)"
   ],
   "metadata": {
    "collapsed": false
   },
   "id": "e1f2791668f2487e",
   "execution_count": null
  },
  {
   "cell_type": "code",
   "outputs": [],
   "source": [
    "vs = ValidationSchema('../data/final/diff_data.csv')"
   ],
   "metadata": {
    "collapsed": false
   },
   "id": "f9066e0824aff47a",
   "execution_count": null
  },
  {
   "cell_type": "code",
   "outputs": [],
   "source": [
    "validation_dict = vs.train_test_spliter()"
   ],
   "metadata": {
    "collapsed": false
   },
   "id": "cc16419ffd9604c3",
   "execution_count": null
  },
  {
   "cell_type": "code",
   "outputs": [],
   "source": [
    "preds = train_model(train=validation_dict['train'], val=validation_dict['val'], test=validation_dict['test'],\n",
    "                    in_features=in_features, target=target, cat_features=cat_cols)"
   ],
   "metadata": {
    "collapsed": false
   },
   "id": "d3aae286eac075d9",
   "execution_count": null
  },
  {
   "cell_type": "code",
   "outputs": [],
   "source": [
    "create_kaggle_data(predictions=preds, file_name=\"kaggle_diff\", save_path=save_final_to)"
   ],
   "metadata": {
    "collapsed": false
   },
   "id": "b7403c107e3fc79f",
   "execution_count": null
  },
  {
   "cell_type": "markdown",
   "source": [
    "**With using stationary methods and option to include all possible combination date_block_num, shop_id, and item_id if make_big, public kaggle score is 1.18**\n",
    "\n",
    "\n",
    "<img src=\"../data/images/kaggle_score_3.png\">"
   ],
   "metadata": {
    "collapsed": false
   },
   "id": "a1f8aa72b12b3b5e"
  }
 ],
 "metadata": {
  "kernelspec": {
   "display_name": "Python 3",
   "language": "python",
   "name": "python3"
  },
  "language_info": {
   "codemirror_mode": {
    "name": "ipython",
    "version": 2
   },
   "file_extension": ".py",
   "mimetype": "text/x-python",
   "name": "python",
   "nbconvert_exporter": "python",
   "pygments_lexer": "ipython2",
   "version": "2.7.6"
  }
 },
 "nbformat": 4,
 "nbformat_minor": 5
}
