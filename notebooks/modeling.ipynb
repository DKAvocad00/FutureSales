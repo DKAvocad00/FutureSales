{
 "cells": [
  {
   "cell_type": "code",
   "execution_count": 142,
   "id": "initial_id",
   "metadata": {
    "collapsed": true,
    "ExecuteTime": {
     "end_time": "2024-03-04T15:55:30.780877960Z",
     "start_time": "2024-03-04T15:55:30.766138283Z"
    }
   },
   "outputs": [],
   "source": [
    "import pandas as pd\n",
    "import numpy as np\n",
    "import warnings\n",
    "from path_utils import sales_fix_path, test_fix_path\n",
    "import catboost as cb\n",
    "from src.features.build_features import create_final_data\n",
    "from sklearn.model_selection import TimeSeriesSplit\n",
    "from sklearn.metrics import mean_squared_error, r2_score\n",
    "import time\n",
    "import math\n",
    "\n",
    "warnings.filterwarnings(\"ignore\")"
   ]
  },
  {
   "cell_type": "code",
   "outputs": [],
   "source": [
    "train = pd.read_csv(sales_fix_path)\n",
    "test = pd.read_csv(test_fix_path)"
   ],
   "metadata": {
    "collapsed": false,
    "ExecuteTime": {
     "end_time": "2024-03-04T15:55:32.606415397Z",
     "start_time": "2024-03-04T15:55:31.078171994Z"
    }
   },
   "id": "ffe001bba3846022",
   "execution_count": 143
  },
  {
   "cell_type": "code",
   "outputs": [
    {
     "data": {
      "text/plain": "               date  date_block_num  shop_id  item_id  item_price  \\\n0        02.01.2013               0       59    22154      999.00   \n1        03.01.2013               0       25     2552      899.00   \n2        06.01.2013               0       25     2554     1709.05   \n3        15.01.2013               0       25     2555     1099.00   \n4        10.01.2013               0       25     2564      349.00   \n...             ...             ...      ...      ...         ...   \n2583016  10.10.2015              33       25     7409      299.00   \n2583017  09.10.2015              33       25     7460      299.00   \n2583018  14.10.2015              33       25     7459      349.00   \n2583019  22.10.2015              33       25     7440      299.00   \n2583020  03.10.2015              33       25     7460      299.00   \n\n         item_cnt_day  revenue  \n0                 1.0   999.00  \n1                 1.0   899.00  \n2                 1.0  1709.05  \n3                 1.0  1099.00  \n4                 1.0   349.00  \n...               ...      ...  \n2583016           1.0   299.00  \n2583017           1.0   299.00  \n2583018           1.0   349.00  \n2583019           1.0   299.00  \n2583020           1.0   299.00  \n\n[2583021 rows x 7 columns]",
      "text/html": "<div>\n<style scoped>\n    .dataframe tbody tr th:only-of-type {\n        vertical-align: middle;\n    }\n\n    .dataframe tbody tr th {\n        vertical-align: top;\n    }\n\n    .dataframe thead th {\n        text-align: right;\n    }\n</style>\n<table border=\"1\" class=\"dataframe\">\n  <thead>\n    <tr style=\"text-align: right;\">\n      <th></th>\n      <th>date</th>\n      <th>date_block_num</th>\n      <th>shop_id</th>\n      <th>item_id</th>\n      <th>item_price</th>\n      <th>item_cnt_day</th>\n      <th>revenue</th>\n    </tr>\n  </thead>\n  <tbody>\n    <tr>\n      <th>0</th>\n      <td>02.01.2013</td>\n      <td>0</td>\n      <td>59</td>\n      <td>22154</td>\n      <td>999.00</td>\n      <td>1.0</td>\n      <td>999.00</td>\n    </tr>\n    <tr>\n      <th>1</th>\n      <td>03.01.2013</td>\n      <td>0</td>\n      <td>25</td>\n      <td>2552</td>\n      <td>899.00</td>\n      <td>1.0</td>\n      <td>899.00</td>\n    </tr>\n    <tr>\n      <th>2</th>\n      <td>06.01.2013</td>\n      <td>0</td>\n      <td>25</td>\n      <td>2554</td>\n      <td>1709.05</td>\n      <td>1.0</td>\n      <td>1709.05</td>\n    </tr>\n    <tr>\n      <th>3</th>\n      <td>15.01.2013</td>\n      <td>0</td>\n      <td>25</td>\n      <td>2555</td>\n      <td>1099.00</td>\n      <td>1.0</td>\n      <td>1099.00</td>\n    </tr>\n    <tr>\n      <th>4</th>\n      <td>10.01.2013</td>\n      <td>0</td>\n      <td>25</td>\n      <td>2564</td>\n      <td>349.00</td>\n      <td>1.0</td>\n      <td>349.00</td>\n    </tr>\n    <tr>\n      <th>...</th>\n      <td>...</td>\n      <td>...</td>\n      <td>...</td>\n      <td>...</td>\n      <td>...</td>\n      <td>...</td>\n      <td>...</td>\n    </tr>\n    <tr>\n      <th>2583016</th>\n      <td>10.10.2015</td>\n      <td>33</td>\n      <td>25</td>\n      <td>7409</td>\n      <td>299.00</td>\n      <td>1.0</td>\n      <td>299.00</td>\n    </tr>\n    <tr>\n      <th>2583017</th>\n      <td>09.10.2015</td>\n      <td>33</td>\n      <td>25</td>\n      <td>7460</td>\n      <td>299.00</td>\n      <td>1.0</td>\n      <td>299.00</td>\n    </tr>\n    <tr>\n      <th>2583018</th>\n      <td>14.10.2015</td>\n      <td>33</td>\n      <td>25</td>\n      <td>7459</td>\n      <td>349.00</td>\n      <td>1.0</td>\n      <td>349.00</td>\n    </tr>\n    <tr>\n      <th>2583019</th>\n      <td>22.10.2015</td>\n      <td>33</td>\n      <td>25</td>\n      <td>7440</td>\n      <td>299.00</td>\n      <td>1.0</td>\n      <td>299.00</td>\n    </tr>\n    <tr>\n      <th>2583020</th>\n      <td>03.10.2015</td>\n      <td>33</td>\n      <td>25</td>\n      <td>7460</td>\n      <td>299.00</td>\n      <td>1.0</td>\n      <td>299.00</td>\n    </tr>\n  </tbody>\n</table>\n<p>2583021 rows × 7 columns</p>\n</div>"
     },
     "execution_count": 144,
     "metadata": {},
     "output_type": "execute_result"
    }
   ],
   "source": [
    "train"
   ],
   "metadata": {
    "collapsed": false,
    "ExecuteTime": {
     "end_time": "2024-03-04T15:55:32.693266999Z",
     "start_time": "2024-03-04T15:55:32.616742663Z"
    }
   },
   "id": "f8e74109474532ac",
   "execution_count": 144
  },
  {
   "cell_type": "code",
   "outputs": [],
   "source": [
    "df = create_final_data(train, test)"
   ],
   "metadata": {
    "collapsed": false,
    "ExecuteTime": {
     "end_time": "2024-03-04T15:55:33.356387099Z",
     "start_time": "2024-03-04T15:55:32.681345519Z"
    }
   },
   "id": "b37d283f809de84b",
   "execution_count": 145
  },
  {
   "cell_type": "code",
   "outputs": [],
   "source": [
    "train = df[~df['date_block_num'].isin([34])]\n",
    "test = df[df['date_block_num'].isin([34])]"
   ],
   "metadata": {
    "collapsed": false,
    "ExecuteTime": {
     "end_time": "2024-03-04T15:55:34.893922783Z",
     "start_time": "2024-03-04T15:55:34.823069621Z"
    }
   },
   "id": "a499f9b7ec43a350",
   "execution_count": 146
  },
  {
   "cell_type": "code",
   "outputs": [
    {
     "data": {
      "text/plain": "         date_block_num  shop_id  item_id  item_cnt_month  item_revenue_month\n0                     0        2       27             1.0              2499.0\n1                     0        2       33             1.0               499.0\n2                     0        2      317             1.0               299.0\n3                     0        2      438             1.0               299.0\n4                     0        2      471             2.0               798.0\n...                 ...      ...      ...             ...                 ...\n1536102              33       59    22087             1.0               119.0\n1536103              33       59    22088             2.0               238.0\n1536104              33       59    22091             1.0               179.0\n1536105              33       59    22100             1.0               629.0\n1536106              33       59    22102             1.0              1250.0\n\n[1536107 rows x 5 columns]",
      "text/html": "<div>\n<style scoped>\n    .dataframe tbody tr th:only-of-type {\n        vertical-align: middle;\n    }\n\n    .dataframe tbody tr th {\n        vertical-align: top;\n    }\n\n    .dataframe thead th {\n        text-align: right;\n    }\n</style>\n<table border=\"1\" class=\"dataframe\">\n  <thead>\n    <tr style=\"text-align: right;\">\n      <th></th>\n      <th>date_block_num</th>\n      <th>shop_id</th>\n      <th>item_id</th>\n      <th>item_cnt_month</th>\n      <th>item_revenue_month</th>\n    </tr>\n  </thead>\n  <tbody>\n    <tr>\n      <th>0</th>\n      <td>0</td>\n      <td>2</td>\n      <td>27</td>\n      <td>1.0</td>\n      <td>2499.0</td>\n    </tr>\n    <tr>\n      <th>1</th>\n      <td>0</td>\n      <td>2</td>\n      <td>33</td>\n      <td>1.0</td>\n      <td>499.0</td>\n    </tr>\n    <tr>\n      <th>2</th>\n      <td>0</td>\n      <td>2</td>\n      <td>317</td>\n      <td>1.0</td>\n      <td>299.0</td>\n    </tr>\n    <tr>\n      <th>3</th>\n      <td>0</td>\n      <td>2</td>\n      <td>438</td>\n      <td>1.0</td>\n      <td>299.0</td>\n    </tr>\n    <tr>\n      <th>4</th>\n      <td>0</td>\n      <td>2</td>\n      <td>471</td>\n      <td>2.0</td>\n      <td>798.0</td>\n    </tr>\n    <tr>\n      <th>...</th>\n      <td>...</td>\n      <td>...</td>\n      <td>...</td>\n      <td>...</td>\n      <td>...</td>\n    </tr>\n    <tr>\n      <th>1536102</th>\n      <td>33</td>\n      <td>59</td>\n      <td>22087</td>\n      <td>1.0</td>\n      <td>119.0</td>\n    </tr>\n    <tr>\n      <th>1536103</th>\n      <td>33</td>\n      <td>59</td>\n      <td>22088</td>\n      <td>2.0</td>\n      <td>238.0</td>\n    </tr>\n    <tr>\n      <th>1536104</th>\n      <td>33</td>\n      <td>59</td>\n      <td>22091</td>\n      <td>1.0</td>\n      <td>179.0</td>\n    </tr>\n    <tr>\n      <th>1536105</th>\n      <td>33</td>\n      <td>59</td>\n      <td>22100</td>\n      <td>1.0</td>\n      <td>629.0</td>\n    </tr>\n    <tr>\n      <th>1536106</th>\n      <td>33</td>\n      <td>59</td>\n      <td>22102</td>\n      <td>1.0</td>\n      <td>1250.0</td>\n    </tr>\n  </tbody>\n</table>\n<p>1536107 rows × 5 columns</p>\n</div>"
     },
     "execution_count": 147,
     "metadata": {},
     "output_type": "execute_result"
    }
   ],
   "source": [
    "train"
   ],
   "metadata": {
    "collapsed": false,
    "ExecuteTime": {
     "end_time": "2024-03-04T15:55:35.040858600Z",
     "start_time": "2024-03-04T15:55:34.994315992Z"
    }
   },
   "id": "f4962e1cb3a549ee",
   "execution_count": 147
  },
  {
   "cell_type": "code",
   "outputs": [],
   "source": [
    "in_features = ['date_block_num', 'shop_id', 'item_id', 'item_revenue_month']\n",
    "target = ['item_cnt_month']\n",
    "cat_cols = ['date_block_num', 'shop_id', 'item_id']\n",
    "n_fold = 33"
   ],
   "metadata": {
    "collapsed": false,
    "ExecuteTime": {
     "end_time": "2024-03-04T16:12:39.028101510Z",
     "start_time": "2024-03-04T16:12:39.022265784Z"
    }
   },
   "id": "d25f590c19f7c4a0",
   "execution_count": 175
  },
  {
   "cell_type": "code",
   "outputs": [],
   "source": [
    "tscv = TimeSeriesSplit(n_splits=n_fold, test_size=1, gap=0)"
   ],
   "metadata": {
    "collapsed": false,
    "ExecuteTime": {
     "end_time": "2024-03-04T16:12:39.254358347Z",
     "start_time": "2024-03-04T16:12:39.236381340Z"
    }
   },
   "id": "2d52b445aa5bcd6",
   "execution_count": 176
  },
  {
   "cell_type": "code",
   "outputs": [],
   "source": [
    "\n",
    "def asMinutes(s):\n",
    "    m = math.floor(s / 60)\n",
    "    s -= m * 60\n",
    "    return '{}m {}s'.format(round(m), round(s))\n",
    "\n",
    "\n",
    "def timeSince(since, percent):\n",
    "    now = time.time()\n",
    "    s = now - since\n",
    "    es = s / (percent)\n",
    "    rs = es - s\n",
    "    return 'Total time: [{:5}]'.format(asMinutes(s))"
   ],
   "metadata": {
    "collapsed": false,
    "ExecuteTime": {
     "end_time": "2024-03-04T16:12:40.976113982Z",
     "start_time": "2024-03-04T16:12:40.969513973Z"
    }
   },
   "id": "74252ae6a89126b8",
   "execution_count": 178
  },
  {
   "cell_type": "code",
   "outputs": [],
   "source": [
    "def train_model():\n",
    "    template = 'Fold: [{:2} out of {:2}]\\tR2-score: [{:3.3f}]\\tRMSE: [{:3.3f}]\\tIter time: [{:5}]\\t{}'\n",
    "\n",
    "    start_time = time.time()\n",
    "\n",
    "    for idx, (train_index, val_index) in enumerate(tscv.split(train['date_block_num'].unique())):\n",
    "        start_iter = time.time()\n",
    "        train_df = train[train['date_block_num'].isin(train_index)]\n",
    "        val_df = train[train['date_block_num'].isin(val_index)]\n",
    "\n",
    "        train_data = cb.Pool(train_df[in_features], train_df[target], cat_features=cat_cols)\n",
    "        val_data = cb.Pool(val_df[in_features], val_df[target], cat_features=cat_cols)\n",
    "\n",
    "        model = cb.CatBoostRegressor(cat_features=cat_cols, task_type=\"GPU\", random_seed=42)\n",
    "        model.fit(train_data, eval_set=val_data, use_best_model=True, verbose=False)\n",
    "        preds = model.predict(val_df[in_features])\n",
    "\n",
    "        rmse = (np.sqrt(mean_squared_error(val_df[target], preds)))\n",
    "        r2 = r2_score(val_df[target], preds)\n",
    "\n",
    "        print(template.format(idx + 1, n_fold, r2, rmse, asMinutes(time.time() - start_iter),\n",
    "                              timeSince(start_time, idx + 1 / n_fold)))"
   ],
   "metadata": {
    "collapsed": false,
    "ExecuteTime": {
     "end_time": "2024-03-04T16:12:41.656948048Z",
     "start_time": "2024-03-04T16:12:41.648099194Z"
    }
   },
   "id": "c63718616b431877",
   "execution_count": 179
  },
  {
   "cell_type": "code",
   "outputs": [
    {
     "name": "stdout",
     "output_type": "stream",
     "text": [
      "Fold: [ 1 out of 33]\tR2-score: [0.776]\tRMSE: [0.782]\tIter time: [0m 10s]\tTotal time: [0m 10s]\n",
      "Fold: [ 2 out of 33]\tR2-score: [0.731]\tRMSE: [0.951]\tIter time: [0m 15s]\tTotal time: [0m 25s]\n",
      "Fold: [ 3 out of 33]\tR2-score: [0.771]\tRMSE: [0.768]\tIter time: [0m 20s]\tTotal time: [0m 44s]\n",
      "Fold: [ 4 out of 33]\tR2-score: [0.806]\tRMSE: [0.703]\tIter time: [0m 26s]\tTotal time: [1m 10s]\n",
      "Fold: [ 5 out of 33]\tR2-score: [0.789]\tRMSE: [0.750]\tIter time: [0m 31s]\tTotal time: [1m 42s]\n",
      "Fold: [ 6 out of 33]\tR2-score: [0.828]\tRMSE: [0.653]\tIter time: [0m 39s]\tTotal time: [2m 21s]\n",
      "Fold: [ 7 out of 33]\tR2-score: [0.764]\tRMSE: [0.830]\tIter time: [0m 46s]\tTotal time: [3m 7s]\n",
      "Fold: [ 8 out of 33]\tR2-score: [0.768]\tRMSE: [0.811]\tIter time: [0m 50s]\tTotal time: [3m 57s]\n",
      "Fold: [ 9 out of 33]\tR2-score: [0.792]\tRMSE: [0.777]\tIter time: [0m 57s]\tTotal time: [4m 53s]\n",
      "Fold: [10 out of 33]\tR2-score: [0.811]\tRMSE: [0.722]\tIter time: [1m 3s]\tTotal time: [5m 57s]\n",
      "Fold: [11 out of 33]\tR2-score: [0.781]\tRMSE: [0.950]\tIter time: [1m 12s]\tTotal time: [7m 9s]\n",
      "Fold: [12 out of 33]\tR2-score: [0.883]\tRMSE: [0.561]\tIter time: [1m 16s]\tTotal time: [8m 25s]\n"
     ]
    },
    {
     "ename": "KeyboardInterrupt",
     "evalue": "",
     "output_type": "error",
     "traceback": [
      "\u001B[0;31m---------------------------------------------------------------------------\u001B[0m",
      "\u001B[0;31mKeyboardInterrupt\u001B[0m                         Traceback (most recent call last)",
      "Cell \u001B[0;32mIn[180], line 1\u001B[0m\n\u001B[0;32m----> 1\u001B[0m \u001B[43mtrain_model\u001B[49m\u001B[43m(\u001B[49m\u001B[43m)\u001B[49m\n",
      "Cell \u001B[0;32mIn[179], line 15\u001B[0m, in \u001B[0;36mtrain_model\u001B[0;34m()\u001B[0m\n\u001B[1;32m     12\u001B[0m val_data \u001B[38;5;241m=\u001B[39m cb\u001B[38;5;241m.\u001B[39mPool(val_df[in_features], val_df[target], cat_features\u001B[38;5;241m=\u001B[39mcat_cols)\n\u001B[1;32m     14\u001B[0m model \u001B[38;5;241m=\u001B[39m cb\u001B[38;5;241m.\u001B[39mCatBoostRegressor(cat_features\u001B[38;5;241m=\u001B[39mcat_cols, task_type\u001B[38;5;241m=\u001B[39m\u001B[38;5;124m\"\u001B[39m\u001B[38;5;124mGPU\u001B[39m\u001B[38;5;124m\"\u001B[39m, random_seed\u001B[38;5;241m=\u001B[39m\u001B[38;5;241m42\u001B[39m)\n\u001B[0;32m---> 15\u001B[0m \u001B[43mmodel\u001B[49m\u001B[38;5;241;43m.\u001B[39;49m\u001B[43mfit\u001B[49m\u001B[43m(\u001B[49m\u001B[43mtrain_data\u001B[49m\u001B[43m,\u001B[49m\u001B[43m \u001B[49m\u001B[43meval_set\u001B[49m\u001B[38;5;241;43m=\u001B[39;49m\u001B[43mval_data\u001B[49m\u001B[43m,\u001B[49m\u001B[43m \u001B[49m\u001B[43muse_best_model\u001B[49m\u001B[38;5;241;43m=\u001B[39;49m\u001B[38;5;28;43;01mTrue\u001B[39;49;00m\u001B[43m,\u001B[49m\u001B[43m \u001B[49m\u001B[43mverbose\u001B[49m\u001B[38;5;241;43m=\u001B[39;49m\u001B[38;5;28;43;01mFalse\u001B[39;49;00m\u001B[43m)\u001B[49m\n\u001B[1;32m     16\u001B[0m preds \u001B[38;5;241m=\u001B[39m model\u001B[38;5;241m.\u001B[39mpredict(val_df[in_features])\n\u001B[1;32m     18\u001B[0m rmse \u001B[38;5;241m=\u001B[39m (np\u001B[38;5;241m.\u001B[39msqrt(mean_squared_error(val_df[target], preds)))\n",
      "File \u001B[0;32m~/InnowiseTrainee/FutureSales/venv/lib/python3.10/site-packages/catboost/core.py:5807\u001B[0m, in \u001B[0;36mCatBoostRegressor.fit\u001B[0;34m(self, X, y, cat_features, text_features, embedding_features, sample_weight, baseline, use_best_model, eval_set, verbose, logging_level, plot, plot_file, column_description, verbose_eval, metric_period, silent, early_stopping_rounds, save_snapshot, snapshot_file, snapshot_interval, init_model, callbacks, log_cout, log_cerr)\u001B[0m\n\u001B[1;32m   5804\u001B[0m \u001B[38;5;28;01mif\u001B[39;00m \u001B[38;5;124m'\u001B[39m\u001B[38;5;124mloss_function\u001B[39m\u001B[38;5;124m'\u001B[39m \u001B[38;5;129;01min\u001B[39;00m params:\n\u001B[1;32m   5805\u001B[0m     CatBoostRegressor\u001B[38;5;241m.\u001B[39m_check_is_compatible_loss(params[\u001B[38;5;124m'\u001B[39m\u001B[38;5;124mloss_function\u001B[39m\u001B[38;5;124m'\u001B[39m])\n\u001B[0;32m-> 5807\u001B[0m \u001B[38;5;28;01mreturn\u001B[39;00m \u001B[38;5;28;43mself\u001B[39;49m\u001B[38;5;241;43m.\u001B[39;49m\u001B[43m_fit\u001B[49m\u001B[43m(\u001B[49m\u001B[43mX\u001B[49m\u001B[43m,\u001B[49m\u001B[43m \u001B[49m\u001B[43my\u001B[49m\u001B[43m,\u001B[49m\u001B[43m \u001B[49m\u001B[43mcat_features\u001B[49m\u001B[43m,\u001B[49m\u001B[43m \u001B[49m\u001B[43mtext_features\u001B[49m\u001B[43m,\u001B[49m\u001B[43m \u001B[49m\u001B[43membedding_features\u001B[49m\u001B[43m,\u001B[49m\u001B[43m \u001B[49m\u001B[38;5;28;43;01mNone\u001B[39;49;00m\u001B[43m,\u001B[49m\u001B[43m \u001B[49m\u001B[43msample_weight\u001B[49m\u001B[43m,\u001B[49m\u001B[43m \u001B[49m\u001B[38;5;28;43;01mNone\u001B[39;49;00m\u001B[43m,\u001B[49m\u001B[43m \u001B[49m\u001B[38;5;28;43;01mNone\u001B[39;49;00m\u001B[43m,\u001B[49m\u001B[43m \u001B[49m\u001B[38;5;28;43;01mNone\u001B[39;49;00m\u001B[43m,\u001B[49m\u001B[43m \u001B[49m\u001B[38;5;28;43;01mNone\u001B[39;49;00m\u001B[43m,\u001B[49m\u001B[43m \u001B[49m\u001B[43mbaseline\u001B[49m\u001B[43m,\u001B[49m\n\u001B[1;32m   5808\u001B[0m \u001B[43m                 \u001B[49m\u001B[43muse_best_model\u001B[49m\u001B[43m,\u001B[49m\u001B[43m \u001B[49m\u001B[43meval_set\u001B[49m\u001B[43m,\u001B[49m\u001B[43m \u001B[49m\u001B[43mverbose\u001B[49m\u001B[43m,\u001B[49m\u001B[43m \u001B[49m\u001B[43mlogging_level\u001B[49m\u001B[43m,\u001B[49m\u001B[43m \u001B[49m\u001B[43mplot\u001B[49m\u001B[43m,\u001B[49m\u001B[43m \u001B[49m\u001B[43mplot_file\u001B[49m\u001B[43m,\u001B[49m\u001B[43m \u001B[49m\u001B[43mcolumn_description\u001B[49m\u001B[43m,\u001B[49m\n\u001B[1;32m   5809\u001B[0m \u001B[43m                 \u001B[49m\u001B[43mverbose_eval\u001B[49m\u001B[43m,\u001B[49m\u001B[43m \u001B[49m\u001B[43mmetric_period\u001B[49m\u001B[43m,\u001B[49m\u001B[43m \u001B[49m\u001B[43msilent\u001B[49m\u001B[43m,\u001B[49m\u001B[43m \u001B[49m\u001B[43mearly_stopping_rounds\u001B[49m\u001B[43m,\u001B[49m\n\u001B[1;32m   5810\u001B[0m \u001B[43m                 \u001B[49m\u001B[43msave_snapshot\u001B[49m\u001B[43m,\u001B[49m\u001B[43m \u001B[49m\u001B[43msnapshot_file\u001B[49m\u001B[43m,\u001B[49m\u001B[43m \u001B[49m\u001B[43msnapshot_interval\u001B[49m\u001B[43m,\u001B[49m\u001B[43m \u001B[49m\u001B[43minit_model\u001B[49m\u001B[43m,\u001B[49m\u001B[43m \u001B[49m\u001B[43mcallbacks\u001B[49m\u001B[43m,\u001B[49m\u001B[43m \u001B[49m\u001B[43mlog_cout\u001B[49m\u001B[43m,\u001B[49m\u001B[43m \u001B[49m\u001B[43mlog_cerr\u001B[49m\u001B[43m)\u001B[49m\n",
      "File \u001B[0;32m~/InnowiseTrainee/FutureSales/venv/lib/python3.10/site-packages/catboost/core.py:2396\u001B[0m, in \u001B[0;36mCatBoost._fit\u001B[0;34m(self, X, y, cat_features, text_features, embedding_features, pairs, sample_weight, group_id, group_weight, subgroup_id, pairs_weight, baseline, use_best_model, eval_set, verbose, logging_level, plot, plot_file, column_description, verbose_eval, metric_period, silent, early_stopping_rounds, save_snapshot, snapshot_file, snapshot_interval, init_model, callbacks, log_cout, log_cerr)\u001B[0m\n\u001B[1;32m   2393\u001B[0m allow_clear_pool \u001B[38;5;241m=\u001B[39m train_params[\u001B[38;5;124m\"\u001B[39m\u001B[38;5;124mallow_clear_pool\u001B[39m\u001B[38;5;124m\"\u001B[39m]\n\u001B[1;32m   2395\u001B[0m \u001B[38;5;28;01mwith\u001B[39;00m plot_wrapper(plot, plot_file, \u001B[38;5;124m'\u001B[39m\u001B[38;5;124mTraining plots\u001B[39m\u001B[38;5;124m'\u001B[39m, [_get_train_dir(\u001B[38;5;28mself\u001B[39m\u001B[38;5;241m.\u001B[39mget_params())]):\n\u001B[0;32m-> 2396\u001B[0m     \u001B[38;5;28;43mself\u001B[39;49m\u001B[38;5;241;43m.\u001B[39;49m\u001B[43m_train\u001B[49m\u001B[43m(\u001B[49m\n\u001B[1;32m   2397\u001B[0m \u001B[43m        \u001B[49m\u001B[43mtrain_pool\u001B[49m\u001B[43m,\u001B[49m\n\u001B[1;32m   2398\u001B[0m \u001B[43m        \u001B[49m\u001B[43mtrain_params\u001B[49m\u001B[43m[\u001B[49m\u001B[38;5;124;43m\"\u001B[39;49m\u001B[38;5;124;43meval_sets\u001B[39;49m\u001B[38;5;124;43m\"\u001B[39;49m\u001B[43m]\u001B[49m\u001B[43m,\u001B[49m\n\u001B[1;32m   2399\u001B[0m \u001B[43m        \u001B[49m\u001B[43mparams\u001B[49m\u001B[43m,\u001B[49m\n\u001B[1;32m   2400\u001B[0m \u001B[43m        \u001B[49m\u001B[43mallow_clear_pool\u001B[49m\u001B[43m,\u001B[49m\n\u001B[1;32m   2401\u001B[0m \u001B[43m        \u001B[49m\u001B[43mtrain_params\u001B[49m\u001B[43m[\u001B[49m\u001B[38;5;124;43m\"\u001B[39;49m\u001B[38;5;124;43minit_model\u001B[39;49m\u001B[38;5;124;43m\"\u001B[39;49m\u001B[43m]\u001B[49m\n\u001B[1;32m   2402\u001B[0m \u001B[43m    \u001B[49m\u001B[43m)\u001B[49m\n\u001B[1;32m   2404\u001B[0m \u001B[38;5;66;03m# Have property feature_importance possibly set\u001B[39;00m\n\u001B[1;32m   2405\u001B[0m loss \u001B[38;5;241m=\u001B[39m \u001B[38;5;28mself\u001B[39m\u001B[38;5;241m.\u001B[39m_object\u001B[38;5;241m.\u001B[39m_get_loss_function_name()\n",
      "File \u001B[0;32m~/InnowiseTrainee/FutureSales/venv/lib/python3.10/site-packages/catboost/core.py:1776\u001B[0m, in \u001B[0;36m_CatBoostBase._train\u001B[0;34m(self, train_pool, test_pool, params, allow_clear_pool, init_model)\u001B[0m\n\u001B[1;32m   1775\u001B[0m \u001B[38;5;28;01mdef\u001B[39;00m \u001B[38;5;21m_train\u001B[39m(\u001B[38;5;28mself\u001B[39m, train_pool, test_pool, params, allow_clear_pool, init_model):\n\u001B[0;32m-> 1776\u001B[0m     \u001B[38;5;28;43mself\u001B[39;49m\u001B[38;5;241;43m.\u001B[39;49m\u001B[43m_object\u001B[49m\u001B[38;5;241;43m.\u001B[39;49m\u001B[43m_train\u001B[49m\u001B[43m(\u001B[49m\u001B[43mtrain_pool\u001B[49m\u001B[43m,\u001B[49m\u001B[43m \u001B[49m\u001B[43mtest_pool\u001B[49m\u001B[43m,\u001B[49m\u001B[43m \u001B[49m\u001B[43mparams\u001B[49m\u001B[43m,\u001B[49m\u001B[43m \u001B[49m\u001B[43mallow_clear_pool\u001B[49m\u001B[43m,\u001B[49m\u001B[43m \u001B[49m\u001B[43minit_model\u001B[49m\u001B[38;5;241;43m.\u001B[39;49m\u001B[43m_object\u001B[49m\u001B[43m \u001B[49m\u001B[38;5;28;43;01mif\u001B[39;49;00m\u001B[43m \u001B[49m\u001B[43minit_model\u001B[49m\u001B[43m \u001B[49m\u001B[38;5;28;43;01melse\u001B[39;49;00m\u001B[43m \u001B[49m\u001B[38;5;28;43;01mNone\u001B[39;49;00m\u001B[43m)\u001B[49m\n\u001B[1;32m   1777\u001B[0m     \u001B[38;5;28mself\u001B[39m\u001B[38;5;241m.\u001B[39m_set_trained_model_attributes()\n",
      "File \u001B[0;32m_catboost.pyx:4833\u001B[0m, in \u001B[0;36m_catboost._CatBoost._train\u001B[0;34m()\u001B[0m\n",
      "File \u001B[0;32m_catboost.pyx:4882\u001B[0m, in \u001B[0;36m_catboost._CatBoost._train\u001B[0;34m()\u001B[0m\n",
      "\u001B[0;31mKeyboardInterrupt\u001B[0m: "
     ]
    }
   ],
   "source": [
    "train_model()"
   ],
   "metadata": {
    "collapsed": false,
    "ExecuteTime": {
     "end_time": "2024-03-04T16:21:57.736801287Z",
     "start_time": "2024-03-04T16:12:42.361605395Z"
    }
   },
   "id": "e67971a72f903ac9",
   "execution_count": 180
  }
 ],
 "metadata": {
  "kernelspec": {
   "display_name": "Python 3",
   "language": "python",
   "name": "python3"
  },
  "language_info": {
   "codemirror_mode": {
    "name": "ipython",
    "version": 2
   },
   "file_extension": ".py",
   "mimetype": "text/x-python",
   "name": "python",
   "nbconvert_exporter": "python",
   "pygments_lexer": "ipython2",
   "version": "2.7.6"
  }
 },
 "nbformat": 4,
 "nbformat_minor": 5
}
