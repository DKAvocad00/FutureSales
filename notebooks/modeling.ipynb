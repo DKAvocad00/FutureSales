{
 "cells": [
  {
   "cell_type": "code",
   "execution_count": 1,
   "id": "initial_id",
   "metadata": {
    "collapsed": true,
    "ExecuteTime": {
     "end_time": "2024-03-15T09:11:59.766075466Z",
     "start_time": "2024-03-15T09:11:58.800105136Z"
    }
   },
   "outputs": [
    {
     "name": "stdout",
     "output_type": "stream",
     "text": [
      "I see 1 GPU devices\n"
     ]
    }
   ],
   "source": [
    "import pandas as pd\n",
    "import warnings\n",
    "from path_utils import sales_fix_path, test_fix_path, save_final_to, shops_fix_path, final_data_path, \\\n",
    "    item_categories_fix_path, items_fix_path\n",
    "from src.modeling.building_features import FeatureModeling\n",
    "from src.modeling.validation_schema import ValidationSchema\n",
    "from src.modeling.training_schema import TrainingModel\n",
    "from src.modeling.utils import create_kaggle_data\n",
    "from hyperopt import hp\n",
    "\n",
    "\n",
    "warnings.filterwarnings(\"ignore\")"
   ]
  },
  {
   "cell_type": "code",
   "outputs": [],
   "source": [
    "in_features = ['date_block_num', 'shop_id', 'item_id']\n",
    "target = ['item_cnt_month']\n",
    "cat_cols = ['date_block_num', 'shop_id', 'item_id']"
   ],
   "metadata": {
    "collapsed": false
   },
   "id": "dab02d8b5f503ec6"
  },
  {
   "cell_type": "code",
   "outputs": [],
   "source": [
    "train = pd.read_csv(sales_fix_path)\n",
    "test = pd.read_csv(test_fix_path)"
   ],
   "metadata": {
    "collapsed": false
   },
   "id": "ffe001bba3846022",
   "execution_count": null
  },
  {
   "cell_type": "code",
   "outputs": [],
   "source": [
    "fe_simple = FeatureModeling()"
   ],
   "metadata": {
    "collapsed": false
   },
   "id": "1bcc9cc490bc2af9",
   "execution_count": null
  },
  {
   "cell_type": "code",
   "outputs": [],
   "source": [
    "fe_simple.set_data_paths(sales_path=sales_fix_path, shop_path=shops_fix_path, item_path=items_fix_path,\n",
    "                         item_categories_path=item_categories_fix_path)"
   ],
   "metadata": {
    "collapsed": false
   },
   "id": "27d53a1292496270"
  },
  {
   "cell_type": "code",
   "outputs": [],
   "source": [
    "fe_simple.create_final_data(train, test, make_big=False)"
   ],
   "metadata": {
    "collapsed": false
   },
   "id": "b37d283f809de84b",
   "execution_count": null
  },
  {
   "cell_type": "code",
   "outputs": [],
   "source": [
    "fe_simple.load_data(\"final_data\")"
   ],
   "metadata": {
    "collapsed": false
   },
   "id": "d8a6d41cfa651f96",
   "execution_count": null
  },
  {
   "cell_type": "code",
   "outputs": [],
   "source": [
    "vs = ValidationSchema(data=final_data_path)"
   ],
   "metadata": {
    "collapsed": false
   },
   "id": "ef30780780a6dfb7",
   "execution_count": null
  },
  {
   "cell_type": "code",
   "outputs": [],
   "source": [
    "validation_dict = vs.train_test_spliter(train_size=32)"
   ],
   "metadata": {
    "collapsed": false
   },
   "id": "3d61fce9f53831",
   "execution_count": null
  },
  {
   "cell_type": "code",
   "outputs": [],
   "source": [
    "model = TrainingModel(data=fe_simple.get_data(), validation_dict=validation_dict)"
   ],
   "metadata": {
    "collapsed": false
   },
   "id": "2bd68b5405bdb0a2"
  },
  {
   "cell_type": "code",
   "outputs": [],
   "source": [
    "preds = model.train_model(in_features=in_features, target=target, cat_features=cat_cols)"
   ],
   "metadata": {
    "collapsed": false
   },
   "id": "3b6617aa8a4abe17",
   "execution_count": null
  },
  {
   "cell_type": "code",
   "outputs": [],
   "source": [
    "create_kaggle_data(predictions=preds, file_name=\"kaggle\", save_path=save_final_to)"
   ],
   "metadata": {
    "collapsed": false
   },
   "id": "442ddaeafd28101d"
  },
  {
   "cell_type": "markdown",
   "source": [
    "\n",
    "\n",
    "**Without any Feature Extraction methods and option to include all possible combination date_block_num, shop_id, and item_id if make_big, public kaggle score is 1.52 (what a fuck amigo)**\n",
    "\n",
    "\n",
    "<img src=\"../data/images/kaggle_score_1.png\">\n"
   ],
   "metadata": {
    "collapsed": false
   },
   "id": "6971b145a9de8876"
  },
  {
   "cell_type": "code",
   "outputs": [],
   "source": [
    "train = pd.read_csv(sales_fix_path)\n",
    "test = pd.read_csv(test_fix_path)"
   ],
   "metadata": {
    "collapsed": false
   },
   "id": "52907dcf2b3128f9",
   "execution_count": null
  },
  {
   "cell_type": "code",
   "outputs": [],
   "source": [
    "fe_with_comb = FeatureModeling()"
   ],
   "metadata": {
    "collapsed": false
   },
   "id": "d8e96554b762a260",
   "execution_count": null
  },
  {
   "cell_type": "code",
   "outputs": [],
   "source": [
    "fe_with_comb.set_data_paths(sales_path=sales_fix_path, shop_path=shops_fix_path, item_path=items_fix_path,\n",
    "                            item_categories_path=item_categories_fix_path)"
   ],
   "metadata": {
    "collapsed": false
   },
   "id": "f2992cfe327e35a3"
  },
  {
   "cell_type": "code",
   "outputs": [],
   "source": [
    "fe_with_comb.create_final_data(train=train, test=test, make_big=True)"
   ],
   "metadata": {
    "collapsed": false
   },
   "id": "8f894bc1b9af6fd3",
   "execution_count": null
  },
  {
   "cell_type": "code",
   "outputs": [],
   "source": [
    "fe_with_comb.load_data('final_data')"
   ],
   "metadata": {
    "collapsed": false
   },
   "id": "6cc3b0a8095ab6c6",
   "execution_count": null
  },
  {
   "cell_type": "code",
   "outputs": [],
   "source": [
    "vs = ValidationSchema(final_data_path)"
   ],
   "metadata": {
    "collapsed": false
   },
   "id": "7cce582f4a3daec2",
   "execution_count": null
  },
  {
   "cell_type": "code",
   "outputs": [],
   "source": [
    "validation_dict = vs.train_test_spliter(train_size=32)"
   ],
   "metadata": {
    "collapsed": false
   },
   "id": "b0acccbe190f796c",
   "execution_count": null
  },
  {
   "cell_type": "code",
   "outputs": [],
   "source": [
    "model = TrainingModel(fe_with_comb.get_data(), validation_dict=validation_dict)"
   ],
   "metadata": {
    "collapsed": false
   },
   "id": "4431e6d813a42650"
  },
  {
   "cell_type": "code",
   "outputs": [],
   "source": [
    "preds = model.train_model(in_features=in_features, target=target, cat_features=cat_cols)"
   ],
   "metadata": {
    "collapsed": false
   },
   "id": "959daa0e904c7a5c",
   "execution_count": null
  },
  {
   "cell_type": "code",
   "outputs": [],
   "source": [
    "create_kaggle_data(predictions=preds, file_name=\"kaggle\", save_path=save_final_to)"
   ],
   "metadata": {
    "collapsed": false
   },
   "id": "252ca3a12db28d",
   "execution_count": null
  },
  {
   "cell_type": "markdown",
   "source": [
    "\n",
    "**Without Feature Extraction methods but using option to include all possible combination date_block_num, shop_id, and item_id if make_big, public kaggle score is 1.16**\n",
    "\n",
    "\n",
    "<img src=\"../data/images/kaggle_score_2.png\">\n"
   ],
   "metadata": {
    "collapsed": false
   },
   "id": "325dc96ff1344dbc"
  },
  {
   "cell_type": "code",
   "outputs": [],
   "source": [
    "train = pd.read_csv(sales_fix_path)\n",
    "test = pd.read_csv(test_fix_path)"
   ],
   "metadata": {
    "collapsed": false
   },
   "id": "d071c676144464fe",
   "execution_count": null
  },
  {
   "cell_type": "code",
   "outputs": [],
   "source": [
    "fe = FeatureModeling()"
   ],
   "metadata": {
    "collapsed": false
   },
   "id": "ec9003c76f292ac3",
   "execution_count": null
  },
  {
   "cell_type": "code",
   "outputs": [],
   "source": [
    "fe.create_final_data(train=train, test=test, make_big=True)"
   ],
   "metadata": {
    "collapsed": false
   },
   "id": "fecafbd4fa627c02",
   "execution_count": null
  },
  {
   "cell_type": "code",
   "outputs": [],
   "source": [
    "df = fe.get_data()"
   ],
   "metadata": {
    "collapsed": false
   },
   "id": "2bcb571b2204d11a",
   "execution_count": null
  },
  {
   "cell_type": "code",
   "outputs": [],
   "source": [
    "# WARNING !!!! DON'T USE IT. CALCULATING 4 HOURS !!!\n",
    "\n",
    "# shop_item_df = df.groupby([\"shop_id\", \"item_id\"], as_index=False)['item_cnt_month'].sum()"
   ],
   "metadata": {
    "collapsed": false
   },
   "id": "1d26843a76bd94cf",
   "execution_count": null
  },
  {
   "cell_type": "code",
   "outputs": [],
   "source": [
    "# WARNING !!!! DON'T USE IT. CALCULATING 4 HOURS !!!\n",
    "\n",
    "# shop_item_df = shop_item_df[['shop_id', 'item_id']].to_dict(orient='records')"
   ],
   "metadata": {
    "collapsed": false
   },
   "id": "d1922b03f7e3b76e",
   "execution_count": null
  },
  {
   "cell_type": "code",
   "outputs": [],
   "source": [
    "# WARNING !!!! DON'T USE IT. CALCULATING 4 HOURS !!!\n",
    "\n",
    "# for it, row in enumerate(shop_item_df):\n",
    "#     shop_item_ts: pd.DataFrame = df[(df[\"shop_id\"] == row[\"shop_id\"]) & (df[\"item_id\"] == row[\"item_id\"])]\n",
    "#     if shop_item_ts.shape[0] >= 20:\n",
    "#         proc_shop_item_ts: pd.DataFrame = fe.ts_nonstatinarity_processing(shop_item_ts, \"item_cnt_month\")\n",
    "#         df.loc[\n",
    "#             (df[\"shop_id\"] == row[\"shop_id\"]) & (df[\"item_id\"] == row[\"item_id\"]), \"item_cnt_month\"] = proc_shop_item_ts\n",
    "#         print(\"Iter {}: TS for {} shop and {} item processed.\".format(it, row['shop_id'], row['item_id']))"
   ],
   "metadata": {
    "collapsed": false
   },
   "id": "b2d7b70c2a623444",
   "execution_count": null
  },
  {
   "cell_type": "code",
   "outputs": [],
   "source": [
    "df.to_csv(save_final_to + 'diff_data' + '.csv', index=False)"
   ],
   "metadata": {
    "collapsed": false
   },
   "id": "e1f2791668f2487e",
   "execution_count": null
  },
  {
   "cell_type": "code",
   "outputs": [],
   "source": [
    "vs = ValidationSchema('../data/final/diff_data.csv')"
   ],
   "metadata": {
    "collapsed": false
   },
   "id": "f9066e0824aff47a",
   "execution_count": null
  },
  {
   "cell_type": "code",
   "outputs": [],
   "source": [
    "validation_dict = vs.train_test_spliter()"
   ],
   "metadata": {
    "collapsed": false
   },
   "id": "cc16419ffd9604c3",
   "execution_count": null
  },
  {
   "cell_type": "code",
   "outputs": [],
   "source": [
    "model = TrainingModel(data=df, validation_dict=validation_dict)"
   ],
   "metadata": {
    "collapsed": false
   },
   "id": "a6b7728bec43edfe"
  },
  {
   "cell_type": "code",
   "outputs": [],
   "source": [
    "preds = model.train_model(in_features=in_features, target=target, cat_features=cat_cols)"
   ],
   "metadata": {
    "collapsed": false
   },
   "id": "d3aae286eac075d9",
   "execution_count": null
  },
  {
   "cell_type": "code",
   "outputs": [],
   "source": [
    "create_kaggle_data(predictions=preds, file_name=\"kaggle_diff\", save_path=save_final_to)"
   ],
   "metadata": {
    "collapsed": false
   },
   "id": "b7403c107e3fc79f",
   "execution_count": null
  },
  {
   "cell_type": "markdown",
   "source": [
    "**With using stationary methods and option to include all possible combination date_block_num, shop_id, and item_id if make_big, public kaggle score is 1.18**\n",
    "\n",
    "\n",
    "<img src=\"../data/images/kaggle_score_3.png\">"
   ],
   "metadata": {
    "collapsed": false
   },
   "id": "a1f8aa72b12b3b5e"
  },
  {
   "cell_type": "code",
   "outputs": [],
   "source": [
    "train = pd.read_csv(sales_fix_path)\n",
    "test = pd.read_csv(test_fix_path)"
   ],
   "metadata": {
    "collapsed": false
   },
   "id": "4ea76ce5663cb05d",
   "execution_count": null
  },
  {
   "cell_type": "code",
   "outputs": [],
   "source": [
    "fe = FeatureModeling()"
   ],
   "metadata": {
    "collapsed": false
   },
   "id": "65168390ee283249",
   "execution_count": null
  },
  {
   "cell_type": "code",
   "outputs": [],
   "source": [
    "fe.set_data_paths(sales_path=sales_fix_path, shop_path=shops_fix_path, item_path=items_fix_path,\n",
    "                  item_categories_path=item_categories_fix_path)"
   ],
   "metadata": {
    "collapsed": false
   },
   "id": "36561f3e5f64919e",
   "execution_count": null
  },
  {
   "cell_type": "code",
   "outputs": [],
   "source": [
    "fe.create_final_data(train=train, test=test, make_big=True)"
   ],
   "metadata": {
    "collapsed": false
   },
   "id": "5f4d8ce5c87829b3",
   "execution_count": null
  },
  {
   "cell_type": "code",
   "outputs": [],
   "source": [
    "feature_functions = [\n",
    "    fe.add_mean_price,\n",
    "    fe.add_city_features,\n",
    "    fe.add_item_features,\n",
    "    fe.add_item_categories_features,\n",
    "    lambda: fe.add_mean_features(idx_features=['date_block_num', 'item_id']),\n",
    "    lambda: fe.add_mean_features(idx_features=['date_block_num', 'item_id', 'city']),\n",
    "    lambda: fe.add_lag_features(idx_features=['date_block_num', 'shop_id', 'item_id'], lag_feature='item_cnt_month',\n",
    "                                nlags=3, clip=True),\n",
    "    lambda: fe.add_lag_features(idx_features=['date_block_num', 'shop_id', 'item_id'], lag_feature='item_mean_price',\n",
    "                                nlags=3),\n",
    "    lambda: fe.add_lag_mean_features(idx_features=['date_block_num', 'shop_id', 'item_id'], drop_mean_features=True,\n",
    "                                     nlags=3),\n",
    "    lambda: fe.add_mean_features(idx_features=['date_block_num', 'shop_id', 'item_category_id']),\n",
    "    lambda: fe.add_lag_mean_features(idx_features=['date_block_num', 'shop_id', 'item_category_id'],\n",
    "                                     drop_mean_features=True, nlags=3),\n",
    "    fe.final_process\n",
    "]"
   ],
   "metadata": {
    "collapsed": false
   },
   "id": "7adf926173622589",
   "execution_count": null
  },
  {
   "cell_type": "code",
   "outputs": [],
   "source": [
    "fe.add_features(feature_functions)"
   ],
   "metadata": {
    "collapsed": false
   },
   "id": "76b74f12d0a073bd",
   "execution_count": null
  },
  {
   "cell_type": "code",
   "outputs": [],
   "source": [
    "fe.load_data(file_name='fina_data_simp')"
   ],
   "metadata": {
    "collapsed": false
   },
   "id": "787a187a47a279ff",
   "execution_count": null
  },
  {
   "cell_type": "code",
   "outputs": [],
   "source": [
    "vs = ValidationSchema(fe.get_data())"
   ],
   "metadata": {
    "collapsed": false
   },
   "id": "59371e99b9a5605d",
   "execution_count": null
  },
  {
   "cell_type": "code",
   "outputs": [],
   "source": [
    "validation_dict = vs.train_test_spliter()"
   ],
   "metadata": {
    "collapsed": false
   },
   "id": "1c3d5e877fe3b23a",
   "execution_count": null
  },
  {
   "cell_type": "code",
   "outputs": [],
   "source": [
    "model = TrainingModel(data=fe.get_data(), validation_dict=validation_dict)"
   ],
   "metadata": {
    "collapsed": false
   },
   "id": "e71e284e11b12111",
   "execution_count": null
  },
  {
   "cell_type": "code",
   "outputs": [],
   "source": [
    "df.columns"
   ],
   "metadata": {
    "collapsed": false
   },
   "id": "15b98dc34a1a0985",
   "execution_count": null
  },
  {
   "cell_type": "code",
   "outputs": [],
   "source": [
    "in_features = ['date_block_num', 'shop_id', 'item_id', 'month',\n",
    "               'city', 'shop_category', 'item_category_id',\n",
    "               'duration_after_first_sale', 'category', 'item_cnt_month_lag1',\n",
    "               'item_cnt_month_lag2', 'item_cnt_month_lag3', 'item_mean_price_lag1',\n",
    "               'item_mean_price_lag2', 'item_mean_price_lag3',\n",
    "               'item_id_mean_sales_lag1', 'item_id_mean_sales_lag2',\n",
    "               'item_id_mean_sales_lag3', 'item_id_city_mean_sales_lag1',\n",
    "               'item_id_city_mean_sales_lag2', 'item_id_city_mean_sales_lag3',\n",
    "               'shop_id_item_category_id_mean_sales_lag1',\n",
    "               'shop_id_item_category_id_mean_sales_lag2',\n",
    "               'shop_id_item_category_id_mean_sales_lag3']\n",
    "target = ['item_cnt_month']\n",
    "cat_cols = ['date_block_num', 'duration_after_first_sale', 'shop_id', 'item_id', 'month', 'city', 'shop_category',\n",
    "            'item_category_id', 'category']"
   ],
   "metadata": {
    "collapsed": false,
    "ExecuteTime": {
     "end_time": "2024-03-15T08:52:28.048403245Z",
     "start_time": "2024-03-15T08:52:28.040122543Z"
    }
   },
   "id": "1873f7712a2ccab9",
   "execution_count": 9
  },
  {
   "cell_type": "code",
   "outputs": [],
   "source": [
    "preds = model.train_model(in_features=in_features, target=target, cat_features=cat_cols)"
   ],
   "metadata": {
    "collapsed": false
   },
   "id": "ee47603696a98b5c",
   "execution_count": null
  },
  {
   "cell_type": "code",
   "outputs": [],
   "source": [
    "create_kaggle_data(predictions=preds, file_name='kaggle_with_features_1', save_path=save_final_to)"
   ],
   "metadata": {
    "collapsed": false
   },
   "id": "8e19f6c13ac3c7cd",
   "execution_count": null
  },
  {
   "cell_type": "markdown",
   "source": [
    "**With using feature modeling and option to include all possible combination date_block_num, shop_id, and item_id if make_big, public kaggle score is 1.07**\n",
    "\n",
    "\n",
    "<img src=\"../data/images/kaggle_score_4.png\">"
   ],
   "metadata": {
    "collapsed": false
   },
   "id": "3b060b4484d80014"
  },
  {
   "cell_type": "code",
   "outputs": [],
   "source": [
    "df = pd.read_csv('../data/final/fina_data_simp.csv')"
   ],
   "metadata": {
    "collapsed": false,
    "ExecuteTime": {
     "end_time": "2024-03-15T08:52:05.857589594Z",
     "start_time": "2024-03-15T08:51:48.294567708Z"
    }
   },
   "id": "3aa19276318a9b72",
   "execution_count": 2
  },
  {
   "cell_type": "code",
   "outputs": [
    {
     "data": {
      "text/plain": "25"
     },
     "execution_count": 9,
     "metadata": {},
     "output_type": "execute_result"
    }
   ],
   "source": [
    "len(df.columns.to_list())"
   ],
   "metadata": {
    "collapsed": false,
    "ExecuteTime": {
     "end_time": "2024-03-14T17:38:53.287048646Z",
     "start_time": "2024-03-14T17:38:53.211583350Z"
    }
   },
   "id": "b5768438d310f889",
   "execution_count": 9
  },
  {
   "cell_type": "code",
   "outputs": [],
   "source": [
    "vs = ValidationSchema(df)"
   ],
   "metadata": {
    "collapsed": false,
    "ExecuteTime": {
     "end_time": "2024-03-15T08:52:05.866884513Z",
     "start_time": "2024-03-15T08:52:05.860238481Z"
    }
   },
   "id": "bcacaf932b002310",
   "execution_count": 3
  },
  {
   "cell_type": "code",
   "outputs": [],
   "source": [
    "validation_dict = vs.train_test_spliter()"
   ],
   "metadata": {
    "collapsed": false,
    "ExecuteTime": {
     "end_time": "2024-03-15T08:51:02.280003276Z",
     "start_time": "2024-03-15T08:51:02.145354143Z"
    }
   },
   "id": "4f599a5b45722e73",
   "execution_count": 4
  },
  {
   "cell_type": "code",
   "outputs": [],
   "source": [
    "model = TrainingModel(data=df, validation_dict=validation_dict)"
   ],
   "metadata": {
    "collapsed": false,
    "ExecuteTime": {
     "end_time": "2024-03-15T08:52:06.721187706Z",
     "start_time": "2024-03-15T08:52:06.718448302Z"
    }
   },
   "id": "1deaf808ebd8caa3",
   "execution_count": 5
  },
  {
   "cell_type": "code",
   "outputs": [],
   "source": [
    "param_space = {'iterations': hp.randint('iterations', 100, 1000),\n",
    "               'depth': hp.randint('depth', 4, 24),\n",
    "               'learning_rate': hp.uniform('learning_rate', 0.01, 0.2),\n",
    "               'l2_leaf_reg': hp.randint('l2_leaf_reg', 1, 10)\n",
    "               }"
   ],
   "metadata": {
    "collapsed": false,
    "ExecuteTime": {
     "end_time": "2024-03-15T08:52:23.861756626Z",
     "start_time": "2024-03-15T08:52:23.812387804Z"
    }
   },
   "id": "152fbe5944217346",
   "execution_count": 7
  },
  {
   "cell_type": "code",
   "outputs": [
    {
     "ename": "ValueError",
     "evalue": "Invalid validation type technique. Requires full but got cv",
     "output_type": "error",
     "traceback": [
      "\u001B[0;31m---------------------------------------------------------------------------\u001B[0m",
      "\u001B[0;31mValueError\u001B[0m                                Traceback (most recent call last)",
      "Cell \u001B[0;32mIn[10], line 1\u001B[0m\n\u001B[0;32m----> 1\u001B[0m best_params \u001B[38;5;241m=\u001B[39m \u001B[43mmodel\u001B[49m\u001B[38;5;241;43m.\u001B[39;49m\u001B[43mparameter_search\u001B[49m\u001B[43m(\u001B[49m\u001B[43mparam_space\u001B[49m\u001B[38;5;241;43m=\u001B[39;49m\u001B[43mparam_space\u001B[49m\u001B[43m,\u001B[49m\u001B[43m \u001B[49m\u001B[43min_features\u001B[49m\u001B[38;5;241;43m=\u001B[39;49m\u001B[43min_features\u001B[49m\u001B[43m,\u001B[49m\u001B[43m \u001B[49m\u001B[43mtarget\u001B[49m\u001B[38;5;241;43m=\u001B[39;49m\u001B[43mtarget\u001B[49m\u001B[43m,\u001B[49m\n\u001B[1;32m      2\u001B[0m \u001B[43m                                     \u001B[49m\u001B[43mcat_features\u001B[49m\u001B[38;5;241;43m=\u001B[39;49m\u001B[43mcat_cols\u001B[49m\u001B[43m)\u001B[49m\n",
      "File \u001B[0;32m~/InnowiseTrainee/FutureSales/src/modeling/training_schema.py:41\u001B[0m, in \u001B[0;36mvalidate_validation_type.<locals>.decorator.<locals>.wrapper\u001B[0;34m(self, *args, **kwargs)\u001B[0m\n\u001B[1;32m     31\u001B[0m \u001B[38;5;250m\u001B[39m\u001B[38;5;124;03m\"\"\"\u001B[39;00m\n\u001B[1;32m     32\u001B[0m \u001B[38;5;124;03m**Wrapper function to perform validation of validation type technique.**\u001B[39;00m\n\u001B[1;32m     33\u001B[0m \n\u001B[0;32m   (...)\u001B[0m\n\u001B[1;32m     38\u001B[0m \u001B[38;5;124;03m:return: The result of the decorated function.\u001B[39;00m\n\u001B[1;32m     39\u001B[0m \u001B[38;5;124;03m\"\"\"\u001B[39;00m\n\u001B[1;32m     40\u001B[0m \u001B[38;5;28;01mif\u001B[39;00m \u001B[38;5;28mself\u001B[39m\u001B[38;5;241m.\u001B[39mvalidation_dict[\u001B[38;5;124m'\u001B[39m\u001B[38;5;124mvalidation_type\u001B[39m\u001B[38;5;124m'\u001B[39m] \u001B[38;5;241m!=\u001B[39m expected_type:\n\u001B[0;32m---> 41\u001B[0m     \u001B[38;5;28;01mraise\u001B[39;00m \u001B[38;5;167;01mValueError\u001B[39;00m(\u001B[38;5;124m\"\u001B[39m\u001B[38;5;124mInvalid validation type technique. Requires \u001B[39m\u001B[38;5;132;01m{}\u001B[39;00m\u001B[38;5;124m but got \u001B[39m\u001B[38;5;132;01m{}\u001B[39;00m\u001B[38;5;124m\"\u001B[39m\u001B[38;5;241m.\u001B[39mformat(\n\u001B[1;32m     42\u001B[0m         expected_type, \u001B[38;5;28mself\u001B[39m\u001B[38;5;241m.\u001B[39mvalidation_dict[\u001B[38;5;124m\"\u001B[39m\u001B[38;5;124mvalidation_type\u001B[39m\u001B[38;5;124m\"\u001B[39m])\n\u001B[1;32m     43\u001B[0m     )\n\u001B[1;32m     44\u001B[0m \u001B[38;5;28;01mreturn\u001B[39;00m func(\u001B[38;5;28mself\u001B[39m, \u001B[38;5;241m*\u001B[39margs, \u001B[38;5;241m*\u001B[39m\u001B[38;5;241m*\u001B[39mkwargs)\n",
      "\u001B[0;31mValueError\u001B[0m: Invalid validation type technique. Requires full but got cv"
     ]
    }
   ],
   "source": [
    "best_params = model.parameter_search(param_space=param_space, in_features=in_features, target=target,\n",
    "                                     cat_features=cat_cols)"
   ],
   "metadata": {
    "collapsed": false,
    "ExecuteTime": {
     "end_time": "2024-03-15T08:52:30.034776560Z",
     "start_time": "2024-03-15T08:52:29.999455998Z"
    }
   },
   "id": "89567fc2305ec4b6",
   "execution_count": 10
  },
  {
   "cell_type": "code",
   "outputs": [],
   "source": [],
   "metadata": {
    "collapsed": false
   },
   "id": "88a921913991549e"
  }
 ],
 "metadata": {
  "kernelspec": {
   "display_name": "Python 3",
   "language": "python",
   "name": "python3"
  },
  "language_info": {
   "codemirror_mode": {
    "name": "ipython",
    "version": 2
   },
   "file_extension": ".py",
   "mimetype": "text/x-python",
   "name": "python",
   "nbconvert_exporter": "python",
   "pygments_lexer": "ipython2",
   "version": "2.7.6"
  }
 },
 "nbformat": 4,
 "nbformat_minor": 5
}
