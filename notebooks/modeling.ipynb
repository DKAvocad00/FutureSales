{
 "cells": [
  {
   "cell_type": "code",
   "execution_count": null,
   "id": "initial_id",
   "metadata": {
    "collapsed": true
   },
   "outputs": [],
   "source": [
    "import pandas as pd\n",
    "import warnings\n",
    "from path_utils import sales_fix_path, test_fix_path, save_final_to, shops_fix_path, final_data_path, \\\n",
    "    item_categories_fix_path, items_fix_path\n",
    "from src.modeling.building_features import FeatureModeling\n",
    "from src.modeling.validation_schema import ValidationSchema\n",
    "from src.modeling.training_schema import TrainingModel\n",
    "from src.modeling.utils import create_kaggle_data, downcast\n",
    "import numpy as np\n",
    "\n",
    "warnings.filterwarnings(\"ignore\")"
   ]
  },
  {
   "cell_type": "code",
   "outputs": [],
   "source": [
    "in_features = ['date_block_num', 'shop_id', 'item_id']\n",
    "target = ['item_cnt_month']\n",
    "cat_cols = ['date_block_num', 'shop_id', 'item_id']"
   ],
   "metadata": {
    "collapsed": false
   },
   "id": "849da7c2e3244fab"
  },
  {
   "cell_type": "code",
   "outputs": [],
   "source": [
    "train = pd.read_csv(sales_fix_path)\n",
    "test = pd.read_csv(test_fix_path)"
   ],
   "metadata": {
    "collapsed": false
   },
   "id": "ffe001bba3846022",
   "execution_count": null
  },
  {
   "cell_type": "code",
   "outputs": [],
   "source": [
    "fe_simple = FeatureModeling()"
   ],
   "metadata": {
    "collapsed": false
   },
   "id": "1bcc9cc490bc2af9",
   "execution_count": null
  },
  {
   "cell_type": "code",
   "outputs": [],
   "source": [
    "fe_simple.create_final_data(train, test, make_big=False)"
   ],
   "metadata": {
    "collapsed": false
   },
   "id": "b37d283f809de84b",
   "execution_count": null
  },
  {
   "cell_type": "code",
   "outputs": [],
   "source": [
    "fe_simple.load_data(\"final_data\")"
   ],
   "metadata": {
    "collapsed": false
   },
   "id": "d8a6d41cfa651f96",
   "execution_count": null
  },
  {
   "cell_type": "code",
   "outputs": [],
   "source": [
    "vs = ValidationSchema(data=final_data_path)"
   ],
   "metadata": {
    "collapsed": false
   },
   "id": "ef30780780a6dfb7",
   "execution_count": null
  },
  {
   "cell_type": "code",
   "outputs": [],
   "source": [
    "validation_dict = vs.train_test_spliter(val_size=0.04)"
   ],
   "metadata": {
    "collapsed": false
   },
   "id": "3d61fce9f53831",
   "execution_count": null
  },
  {
   "cell_type": "code",
   "outputs": [],
   "source": [
    "model = TrainingModel()"
   ],
   "metadata": {
    "collapsed": false
   },
   "id": "2bd68b5405bdb0a2"
  },
  {
   "cell_type": "code",
   "outputs": [],
   "source": [
    "preds = model.train_model(train=validation_dict['train'], val=validation_dict['val'], test=validation_dict['test'],\n",
    "                          in_features=in_features, target=target, cat_features=cat_cols)"
   ],
   "metadata": {
    "collapsed": false
   },
   "id": "3b6617aa8a4abe17",
   "execution_count": null
  },
  {
   "cell_type": "code",
   "outputs": [],
   "source": [
    "create_kaggle_data(predictions=preds, file_name=\"kaggle\", save_path=save_final_to)"
   ],
   "metadata": {
    "collapsed": false
   },
   "id": "442ddaeafd28101d"
  },
  {
   "cell_type": "markdown",
   "source": [
    "\n",
    "\n",
    "**Without any Feature Extraction methods and option to include all possible combination date_block_num, shop_id, and item_id if make_big, public kaggle score is 1.52 (what a fuck amigo)**\n",
    "\n",
    "\n",
    "<img src=\"../data/images/kaggle_score_1.png\">\n"
   ],
   "metadata": {
    "collapsed": false
   },
   "id": "6971b145a9de8876"
  },
  {
   "cell_type": "code",
   "outputs": [],
   "source": [
    "train = pd.read_csv(sales_fix_path)\n",
    "test = pd.read_csv(test_fix_path)"
   ],
   "metadata": {
    "collapsed": false
   },
   "id": "52907dcf2b3128f9",
   "execution_count": null
  },
  {
   "cell_type": "code",
   "outputs": [],
   "source": [
    "fe_with_comb = FeatureModeling()"
   ],
   "metadata": {
    "collapsed": false
   },
   "id": "d8e96554b762a260",
   "execution_count": null
  },
  {
   "cell_type": "code",
   "outputs": [],
   "source": [
    "fe_with_comb.create_final_data(train=train, test=test, make_big=True)"
   ],
   "metadata": {
    "collapsed": false
   },
   "id": "8f894bc1b9af6fd3",
   "execution_count": null
  },
  {
   "cell_type": "code",
   "outputs": [],
   "source": [
    "fe_with_comb.load_data('final_data')"
   ],
   "metadata": {
    "collapsed": false
   },
   "id": "6cc3b0a8095ab6c6",
   "execution_count": null
  },
  {
   "cell_type": "code",
   "outputs": [],
   "source": [
    "vs = ValidationSchema(final_data_path)"
   ],
   "metadata": {
    "collapsed": false
   },
   "id": "7cce582f4a3daec2",
   "execution_count": null
  },
  {
   "cell_type": "code",
   "outputs": [],
   "source": [
    "validation_dict = vs.train_test_spliter()"
   ],
   "metadata": {
    "collapsed": false
   },
   "id": "b0acccbe190f796c",
   "execution_count": null
  },
  {
   "cell_type": "code",
   "outputs": [],
   "source": [
    "model = TrainingModel()"
   ],
   "metadata": {
    "collapsed": false
   },
   "id": "4431e6d813a42650"
  },
  {
   "cell_type": "code",
   "outputs": [],
   "source": [
    "preds = model.train_model(train=validation_dict['train'], val=validation_dict['val'], test=validation_dict['test'],\n",
    "                          in_features=in_features, target=target, cat_features=cat_cols)"
   ],
   "metadata": {
    "collapsed": false
   },
   "id": "959daa0e904c7a5c",
   "execution_count": null
  },
  {
   "cell_type": "code",
   "outputs": [],
   "source": [
    "create_kaggle_data(predictions=preds, file_name=\"kaggle\", save_path=save_final_to)"
   ],
   "metadata": {
    "collapsed": false
   },
   "id": "252ca3a12db28d",
   "execution_count": null
  },
  {
   "cell_type": "markdown",
   "source": [
    "\n",
    "**Without Feature Extraction methods but using option to include all possible combination date_block_num, shop_id, and item_id if make_big, public kaggle score is 1.16**\n",
    "\n",
    "\n",
    "<img src=\"../data/images/kaggle_score_2.png\">\n"
   ],
   "metadata": {
    "collapsed": false
   },
   "id": "325dc96ff1344dbc"
  },
  {
   "cell_type": "code",
   "outputs": [],
   "source": [
    "train = pd.read_csv(sales_fix_path)\n",
    "test = pd.read_csv(test_fix_path)"
   ],
   "metadata": {
    "collapsed": false
   },
   "id": "d071c676144464fe",
   "execution_count": null
  },
  {
   "cell_type": "code",
   "outputs": [],
   "source": [
    "fe = FeatureModeling()"
   ],
   "metadata": {
    "collapsed": false
   },
   "id": "ec9003c76f292ac3",
   "execution_count": null
  },
  {
   "cell_type": "code",
   "outputs": [],
   "source": [
    "fe.create_final_data(train=train, test=test, make_big=True)"
   ],
   "metadata": {
    "collapsed": false
   },
   "id": "fecafbd4fa627c02",
   "execution_count": null
  },
  {
   "cell_type": "code",
   "outputs": [],
   "source": [
    "df = fe.get_data()"
   ],
   "metadata": {
    "collapsed": false
   },
   "id": "2bcb571b2204d11a",
   "execution_count": null
  },
  {
   "cell_type": "code",
   "outputs": [],
   "source": [
    "# WARNING !!!! DON'T USE IT. CALCULATING 4 HOURS !!!\n",
    "\n",
    "# shop_item_df = df.groupby([\"shop_id\", \"item_id\"], as_index=False)['item_cnt_month'].sum()"
   ],
   "metadata": {
    "collapsed": false
   },
   "id": "1d26843a76bd94cf",
   "execution_count": null
  },
  {
   "cell_type": "code",
   "outputs": [],
   "source": [
    "# WARNING !!!! DON'T USE IT. CALCULATING 4 HOURS !!!\n",
    "\n",
    "# shop_item_df = shop_item_df[['shop_id', 'item_id']].to_dict(orient='records')"
   ],
   "metadata": {
    "collapsed": false
   },
   "id": "d1922b03f7e3b76e",
   "execution_count": null
  },
  {
   "cell_type": "code",
   "outputs": [],
   "source": [
    "# WARNING !!!! DON'T USE IT. CALCULATING 4 HOURS !!!\n",
    "\n",
    "# for it, row in enumerate(shop_item_df):\n",
    "#     shop_item_ts: pd.DataFrame = df[(df[\"shop_id\"] == row[\"shop_id\"]) & (df[\"item_id\"] == row[\"item_id\"])]\n",
    "#     if shop_item_ts.shape[0] >= 20:\n",
    "#         proc_shop_item_ts: pd.DataFrame = fe.ts_nonstatinarity_processing(shop_item_ts, \"item_cnt_month\")\n",
    "#         df.loc[\n",
    "#             (df[\"shop_id\"] == row[\"shop_id\"]) & (df[\"item_id\"] == row[\"item_id\"]), \"item_cnt_month\"] = proc_shop_item_ts\n",
    "#         print(\"Iter {}: TS for {} shop and {} item processed.\".format(it, row['shop_id'], row['item_id']))"
   ],
   "metadata": {
    "collapsed": false
   },
   "id": "b2d7b70c2a623444",
   "execution_count": null
  },
  {
   "cell_type": "code",
   "outputs": [],
   "source": [
    "df.to_csv(save_final_to + 'diff_data' + '.csv', index=False)"
   ],
   "metadata": {
    "collapsed": false
   },
   "id": "e1f2791668f2487e",
   "execution_count": null
  },
  {
   "cell_type": "code",
   "outputs": [],
   "source": [
    "vs = ValidationSchema('../data/final/diff_data.csv')"
   ],
   "metadata": {
    "collapsed": false
   },
   "id": "f9066e0824aff47a",
   "execution_count": null
  },
  {
   "cell_type": "code",
   "outputs": [],
   "source": [
    "validation_dict = vs.train_test_spliter()"
   ],
   "metadata": {
    "collapsed": false
   },
   "id": "cc16419ffd9604c3",
   "execution_count": null
  },
  {
   "cell_type": "code",
   "outputs": [],
   "source": [
    "model = FeatureModeling()"
   ],
   "metadata": {
    "collapsed": false
   },
   "id": "a6b7728bec43edfe"
  },
  {
   "cell_type": "code",
   "outputs": [],
   "source": [
    "preds = model.train_model(train=validation_dict['train'], val=validation_dict['val'], test=validation_dict['test'],\n",
    "                          in_features=in_features, target=target, cat_features=cat_cols)"
   ],
   "metadata": {
    "collapsed": false
   },
   "id": "d3aae286eac075d9",
   "execution_count": null
  },
  {
   "cell_type": "code",
   "outputs": [],
   "source": [
    "create_kaggle_data(predictions=preds, file_name=\"kaggle_diff\", save_path=save_final_to)"
   ],
   "metadata": {
    "collapsed": false
   },
   "id": "b7403c107e3fc79f",
   "execution_count": null
  },
  {
   "cell_type": "markdown",
   "source": [
    "**With using stationary methods and option to include all possible combination date_block_num, shop_id, and item_id if make_big, public kaggle score is 1.18**\n",
    "\n",
    "\n",
    "<img src=\"../data/images/kaggle_score_3.png\">"
   ],
   "metadata": {
    "collapsed": false
   },
   "id": "a1f8aa72b12b3b5e"
  },
  {
   "cell_type": "code",
   "outputs": [],
   "source": [
    "train = pd.read_csv(sales_fix_path)\n",
    "test = pd.read_csv(test_fix_path)"
   ],
   "metadata": {
    "collapsed": false
   },
   "id": "4ea76ce5663cb05d",
   "execution_count": null
  },
  {
   "cell_type": "code",
   "outputs": [],
   "source": [
    "fe = FeatureModeling()"
   ],
   "metadata": {
    "collapsed": false
   },
   "id": "65168390ee283249",
   "execution_count": null
  },
  {
   "cell_type": "code",
   "outputs": [],
   "source": [
    "fe.create_final_data(train=train, test=test, make_big=True)"
   ],
   "metadata": {
    "collapsed": false
   },
   "id": "5f4d8ce5c87829b3",
   "execution_count": null
  },
  {
   "cell_type": "code",
   "outputs": [],
   "source": [
    "fe.add_mean_price(sales_path=sales_fix_path)"
   ],
   "metadata": {
    "collapsed": false
   },
   "id": "8f9e56823b5d6830",
   "execution_count": null
  },
  {
   "cell_type": "code",
   "outputs": [],
   "source": [
    "fe.add_city_features(shop_path=shops_fix_path)"
   ],
   "metadata": {
    "collapsed": false
   },
   "id": "7d70e0331667d8ac",
   "execution_count": null
  },
  {
   "cell_type": "code",
   "outputs": [],
   "source": [
    "fe.add_item_features(item_path=items_fix_path, sales_path=sales_fix_path)"
   ],
   "metadata": {
    "collapsed": false
   },
   "id": "4233f251b4bc381f",
   "execution_count": null
  },
  {
   "cell_type": "code",
   "outputs": [],
   "source": [
    "fe.add_item_categories_features(item_categories_path=item_categories_fix_path)"
   ],
   "metadata": {
    "collapsed": false
   },
   "id": "1a1202242ce09c11",
   "execution_count": null
  },
  {
   "cell_type": "code",
   "outputs": [],
   "source": [
    "fe.add_mean_features(idx_features=['date_block_num', 'item_id'])"
   ],
   "metadata": {
    "collapsed": false
   },
   "id": "54d3babcb284f2cc",
   "execution_count": null
  },
  {
   "cell_type": "code",
   "outputs": [],
   "source": [
    "fe.add_mean_features(idx_features=['date_block_num', 'item_id', 'city'])"
   ],
   "metadata": {
    "collapsed": false
   },
   "id": "174e8bf12432c0aa",
   "execution_count": null
  },
  {
   "cell_type": "code",
   "outputs": [],
   "source": [
    "idx_features = ['date_block_num', 'shop_id', 'item_id']"
   ],
   "metadata": {
    "collapsed": false
   },
   "id": "ec55ee4c6b0d9102",
   "execution_count": null
  },
  {
   "cell_type": "code",
   "outputs": [],
   "source": [
    "fe.add_lag_features(idx_features=idx_features, lag_feature='item_cnt_month', nlags=3, clip=True)"
   ],
   "metadata": {
    "collapsed": false
   },
   "id": "cf11e7bbbe3e89df",
   "execution_count": null
  },
  {
   "cell_type": "code",
   "outputs": [],
   "source": [
    "fe.add_lag_features(idx_features=idx_features, lag_feature='item_mean_price', nlags=3)"
   ],
   "metadata": {
    "collapsed": false
   },
   "id": "1a26d966be7de16b",
   "execution_count": null
  },
  {
   "cell_type": "code",
   "outputs": [],
   "source": [
    "fe.add_lag_mean_features(idx_features=idx_features, drop_mean_features=True, nlags=3)"
   ],
   "metadata": {
    "collapsed": false
   },
   "id": "27a0315f019b0766",
   "execution_count": null
  },
  {
   "cell_type": "code",
   "outputs": [],
   "source": [
    "fe.add_mean_features(idx_features=['date_block_num', 'shop_id', 'item_category_id'])"
   ],
   "metadata": {
    "collapsed": false
   },
   "id": "bfb7c4ad10c0957",
   "execution_count": null
  },
  {
   "cell_type": "code",
   "outputs": [],
   "source": [
    "fe.add_lag_mean_features(idx_features=['date_block_num', 'shop_id', 'item_category_id'], drop_mean_features=True,\n",
    "                         nlags=3)"
   ],
   "metadata": {
    "collapsed": false
   },
   "id": "fe9295955f974e97",
   "execution_count": null
  },
  {
   "cell_type": "code",
   "outputs": [],
   "source": [
    "df = fe.get_data()"
   ],
   "metadata": {
    "collapsed": false
   },
   "id": "348738be65e5cc75",
   "execution_count": null
  },
  {
   "cell_type": "code",
   "outputs": [],
   "source": [
    "df = df.drop('item_mean_price', axis=1)"
   ],
   "metadata": {
    "collapsed": false
   },
   "id": "3ebf09a71bf93e0b",
   "execution_count": null
  },
  {
   "cell_type": "code",
   "outputs": [],
   "source": [
    "df = downcast(df, verbose=True)"
   ],
   "metadata": {
    "collapsed": false
   },
   "id": "181c27855387808e",
   "execution_count": null
  },
  {
   "cell_type": "code",
   "outputs": [],
   "source": [
    "vs = ValidationSchema(df)"
   ],
   "metadata": {
    "collapsed": false
   },
   "id": "59371e99b9a5605d",
   "execution_count": null
  },
  {
   "cell_type": "code",
   "outputs": [],
   "source": [
    "validation_dict = vs.train_test_spliter()"
   ],
   "metadata": {
    "collapsed": false
   },
   "id": "1c3d5e877fe3b23a",
   "execution_count": null
  },
  {
   "cell_type": "code",
   "outputs": [],
   "source": [
    "model = TrainingModel()"
   ],
   "metadata": {
    "collapsed": false
   },
   "id": "e71e284e11b12111",
   "execution_count": null
  },
  {
   "cell_type": "code",
   "outputs": [],
   "source": [
    "df.columns"
   ],
   "metadata": {
    "collapsed": false
   },
   "id": "15b98dc34a1a0985",
   "execution_count": null
  },
  {
   "cell_type": "code",
   "outputs": [],
   "source": [
    "in_features = ['date_block_num', 'shop_id', 'item_id', 'month',\n",
    "               'city', 'shop_category', 'item_category_id',\n",
    "               'duration_after_first_sale', 'category', 'item_cnt_month_lag1',\n",
    "               'item_cnt_month_lag2', 'item_cnt_month_lag3', 'item_mean_price_lag1',\n",
    "               'item_mean_price_lag2', 'item_mean_price_lag3',\n",
    "               'item_id_mean_sales_lag1', 'item_id_mean_sales_lag2',\n",
    "               'item_id_mean_sales_lag3', 'item_id_city_mean_sales_lag1',\n",
    "               'item_id_city_mean_sales_lag2', 'item_id_city_mean_sales_lag3',\n",
    "               'shop_id_item_category_id_mean_sales_lag1',\n",
    "               'shop_id_item_category_id_mean_sales_lag2',\n",
    "               'shop_id_item_category_id_mean_sales_lag3']\n",
    "target = ['item_cnt_month']\n",
    "cat_cols = ['shop_id', 'city', 'item_category_id','shop_category', 'category', 'month']"
   ],
   "metadata": {
    "collapsed": false
   },
   "id": "1873f7712a2ccab9",
   "execution_count": null
  },
  {
   "cell_type": "code",
   "outputs": [],
   "source": [
    "preds = model.train_model(train=validation_dict['train'], val=validation_dict['val'], test=validation_dict['test'],\n",
    "                          in_features=in_features, target=target, cat_features=cat_cols)"
   ],
   "metadata": {
    "collapsed": false
   },
   "id": "ee47603696a98b5c",
   "execution_count": null
  },
  {
   "cell_type": "code",
   "outputs": [],
   "source": [
    "create_kaggle_data(predictions=preds,file_name='kaggle_with_features',save_path=save_final_to)"
   ],
   "metadata": {
    "collapsed": false
   },
   "id": "8e19f6c13ac3c7cd",
   "execution_count": null
  },
  {
   "cell_type": "markdown",
   "source": [
    "**With using feature modeling and option to include all possible combination date_block_num, shop_id, and item_id if make_big, public kaggle score is 1.07**\n",
    "\n",
    "\n",
    "<img src=\"../data/images/kaggle_score_4.png\">"
   ],
   "metadata": {
    "collapsed": false
   },
   "id": "3b060b4484d80014"
  },
  {
   "cell_type": "code",
   "outputs": [],
   "source": [
    "# df['item_cnt_month_lag_mean'] = df[['item_cnt_month_lag1',\n",
    "#                                          'item_cnt_month_lag2', \n",
    "#                                          'item_cnt_month_lag3']].mean(axis=1)"
   ],
   "metadata": {
    "collapsed": false
   },
   "id": "23e4685f2dfc74f"
  },
  {
   "cell_type": "code",
   "outputs": [],
   "source": [
    "# df[lag_features_to_clip + ['item_cnt_month', 'item_cnt_month_lag_mean']] = df[lag_features_to_clip +['item_cnt_month', 'item_cnt_month_lag_mean']].clip(0, 20)"
   ],
   "metadata": {
    "collapsed": false
   },
   "id": "4fdc9195f6c80082"
  },
  {
   "cell_type": "code",
   "outputs": [],
   "source": [
    "# df = df.drop(df[df['date_block_num'] < 3].index)"
   ],
   "metadata": {
    "collapsed": false
   },
   "id": "b60c0d360791335e"
  }
 ],
 "metadata": {
  "kernelspec": {
   "display_name": "Python 3",
   "language": "python",
   "name": "python3"
  },
  "language_info": {
   "codemirror_mode": {
    "name": "ipython",
    "version": 2
   },
   "file_extension": ".py",
   "mimetype": "text/x-python",
   "name": "python",
   "nbconvert_exporter": "python",
   "pygments_lexer": "ipython2",
   "version": "2.7.6"
  }
 },
 "nbformat": 4,
 "nbformat_minor": 5
}
