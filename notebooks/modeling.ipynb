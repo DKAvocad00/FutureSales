{
 "cells": [
  {
   "cell_type": "code",
   "execution_count": 4,
   "id": "initial_id",
   "metadata": {
    "collapsed": true,
    "ExecuteTime": {
     "end_time": "2024-03-18T01:19:55.652246Z",
     "start_time": "2024-03-18T01:19:55.647862Z"
    }
   },
   "outputs": [],
   "source": [
    "import pandas as pd\n",
    "import warnings\n",
    "from src.path_utils import sales_fix_path, test_fix_path, shops_fix_path, item_categories_fix_path, items_fix_path, \\\n",
    "    save_final_to, catboost_model_path\n",
    "from src.modeling.building_features import FeatureModeling\n",
    "from src.modeling.validation_schema import ValidationSchema\n",
    "from src.modeling.training_schema import TrainingModel\n",
    "from src.modeling.utils import create_kaggle_data, downcast\n",
    "from src.analytics.explainability import Explainability\n",
    "import catboost as cb\n",
    "\n",
    "warnings.filterwarnings(\"ignore\")"
   ]
  },
  {
   "cell_type": "code",
   "outputs": [],
   "source": [
    "in_features = ['date_block_num', 'shop_id', 'item_id']\n",
    "target = ['item_cnt_month']\n",
    "cat_cols = ['date_block_num', 'shop_id', 'item_id']"
   ],
   "metadata": {
    "collapsed": false
   },
   "id": "dab02d8b5f503ec6",
   "execution_count": null
  },
  {
   "cell_type": "code",
   "outputs": [],
   "source": [
    "fe_simple = FeatureModeling(sales_path=sales_fix_path, shop_path=shops_fix_path, item_path=items_fix_path,\n",
    "                            item_categories_path=item_categories_fix_path, test_path=test_fix_path)"
   ],
   "metadata": {
    "collapsed": false
   },
   "id": "1bcc9cc490bc2af9",
   "execution_count": null
  },
  {
   "cell_type": "code",
   "outputs": [],
   "source": [
    "fe_simple.create_final_data(make_big=False)"
   ],
   "metadata": {
    "collapsed": false
   },
   "id": "b37d283f809de84b",
   "execution_count": null
  },
  {
   "cell_type": "code",
   "outputs": [],
   "source": [
    "fe_simple.load_data(\"final_data\")"
   ],
   "metadata": {
    "collapsed": false
   },
   "id": "d8a6d41cfa651f96",
   "execution_count": null
  },
  {
   "cell_type": "code",
   "outputs": [],
   "source": [
    "vs = ValidationSchema(data=final_data_path)"
   ],
   "metadata": {
    "collapsed": false
   },
   "id": "ef30780780a6dfb7",
   "execution_count": null
  },
  {
   "cell_type": "code",
   "outputs": [],
   "source": [
    "validation_dict = vs.train_test_spliter(train_size=32)"
   ],
   "metadata": {
    "collapsed": false
   },
   "id": "3d61fce9f53831",
   "execution_count": null
  },
  {
   "cell_type": "code",
   "outputs": [],
   "source": [
    "model = TrainingModel(data=fe_simple.get_data(), validation_dict=validation_dict)"
   ],
   "metadata": {
    "collapsed": false
   },
   "id": "2bd68b5405bdb0a2"
  },
  {
   "cell_type": "code",
   "outputs": [],
   "source": [
    "preds = model.train_model(in_features=in_features, target=target, cat_features=cat_cols)"
   ],
   "metadata": {
    "collapsed": false
   },
   "id": "3b6617aa8a4abe17",
   "execution_count": null
  },
  {
   "cell_type": "code",
   "outputs": [],
   "source": [
    "create_kaggle_data(predictions=preds, file_name=\"kaggle\", save_path=save_final_to)"
   ],
   "metadata": {
    "collapsed": false
   },
   "id": "442ddaeafd28101d"
  },
  {
   "cell_type": "markdown",
   "source": [
    "\n",
    "\n",
    "**Without any Feature Extraction methods and option to include all possible combination date_block_num, shop_id, and item_id if make_big, public kaggle score is 1.52 (what a fuck amigo)**\n",
    "\n",
    "\n",
    "<img src=\"../data/images/kaggle_score_1.png\">\n"
   ],
   "metadata": {
    "collapsed": false
   },
   "id": "6971b145a9de8876"
  },
  {
   "cell_type": "code",
   "outputs": [],
   "source": [
    "fe_with_comb = FeatureModeling(sales_path=sales_fix_path, shop_path=shops_fix_path, item_path=items_fix_path,\n",
    "                               item_categories_path=item_categories_fix_path, test_path=test_fix_path)"
   ],
   "metadata": {
    "collapsed": false
   },
   "id": "d8e96554b762a260",
   "execution_count": null
  },
  {
   "cell_type": "code",
   "outputs": [],
   "source": [
    "fe_with_comb.create_final_data(make_big=True)"
   ],
   "metadata": {
    "collapsed": false
   },
   "id": "8f894bc1b9af6fd3",
   "execution_count": null
  },
  {
   "cell_type": "code",
   "outputs": [],
   "source": [
    "fe_with_comb.load_data('final_data')"
   ],
   "metadata": {
    "collapsed": false
   },
   "id": "6cc3b0a8095ab6c6",
   "execution_count": null
  },
  {
   "cell_type": "code",
   "outputs": [],
   "source": [
    "vs = ValidationSchema(final_data_path)"
   ],
   "metadata": {
    "collapsed": false
   },
   "id": "7cce582f4a3daec2",
   "execution_count": null
  },
  {
   "cell_type": "code",
   "outputs": [],
   "source": [
    "validation_dict = vs.train_test_spliter(train_size=32)"
   ],
   "metadata": {
    "collapsed": false
   },
   "id": "b0acccbe190f796c",
   "execution_count": null
  },
  {
   "cell_type": "code",
   "outputs": [],
   "source": [
    "model = TrainingModel(fe_with_comb.get_data(), validation_dict=validation_dict)"
   ],
   "metadata": {
    "collapsed": false
   },
   "id": "4431e6d813a42650"
  },
  {
   "cell_type": "code",
   "outputs": [],
   "source": [
    "preds = model.train_model(in_features=in_features, target=target, cat_features=cat_cols)"
   ],
   "metadata": {
    "collapsed": false
   },
   "id": "959daa0e904c7a5c",
   "execution_count": null
  },
  {
   "cell_type": "code",
   "outputs": [],
   "source": [
    "create_kaggle_data(predictions=preds, file_name=\"kaggle\", save_path=save_final_to)"
   ],
   "metadata": {
    "collapsed": false
   },
   "id": "252ca3a12db28d",
   "execution_count": null
  },
  {
   "cell_type": "markdown",
   "source": [
    "\n",
    "**Without Feature Extraction methods but using option to include all possible combination date_block_num, shop_id, and item_id if make_big, public kaggle score is 1.16**\n",
    "\n",
    "\n",
    "<img src=\"../data/images/kaggle_score_2.png\">\n"
   ],
   "metadata": {
    "collapsed": false
   },
   "id": "325dc96ff1344dbc"
  },
  {
   "cell_type": "code",
   "outputs": [],
   "source": [
    "fe = FeatureModeling(sales_path=sales_fix_path, shop_path=shops_fix_path, item_path=items_fix_path,\n",
    "                     item_categories_path=item_categories_fix_path, test_path=test_fix_path)"
   ],
   "metadata": {
    "collapsed": false
   },
   "id": "65168390ee283249",
   "execution_count": null
  },
  {
   "cell_type": "code",
   "outputs": [],
   "source": [
    "fe.create_final_data(make_big=True)"
   ],
   "metadata": {
    "collapsed": false
   },
   "id": "5f4d8ce5c87829b3",
   "execution_count": null
  },
  {
   "cell_type": "code",
   "outputs": [],
   "source": [
    "vs = ValidationSchema(fe.get_data())"
   ],
   "metadata": {
    "collapsed": false
   },
   "id": "215b652fe170dad4",
   "execution_count": null
  },
  {
   "cell_type": "code",
   "outputs": [],
   "source": [
    "validation_dict = vs.train_test_spliter()"
   ],
   "metadata": {
    "collapsed": false
   },
   "id": "8b6793d9619c7b4e",
   "execution_count": null
  },
  {
   "cell_type": "code",
   "outputs": [],
   "source": [
    "validation_dict"
   ],
   "metadata": {
    "collapsed": false
   },
   "id": "36316753ec4b5347",
   "execution_count": null
  },
  {
   "cell_type": "code",
   "outputs": [],
   "source": [
    "feature_functions = [\n",
    "    fe.add_mean_price,\n",
    "    fe.add_city_features,\n",
    "    fe.add_item_features,\n",
    "    fe.add_item_categories_features,\n",
    "    lambda: fe.add_mean_features(idx_features=['date_block_num', 'item_id']),\n",
    "    lambda: fe.add_mean_features(idx_features=['date_block_num', 'item_id', 'city']),\n",
    "    lambda: fe.add_lag_features(idx_features=['date_block_num', 'shop_id', 'item_id'], lag_feature='item_cnt_month',\n",
    "                                validation_dict=validation_dict, nlags=3),\n",
    "    lambda: fe.add_lag_features(idx_features=['date_block_num', 'shop_id', 'item_id'], lag_feature='item_mean_price',\n",
    "                                validation_dict=validation_dict, nlags=3),\n",
    "    lambda: fe.add_lag_mean_features(idx_features=['date_block_num', 'shop_id', 'item_id'],\n",
    "                                     validation_dict=validation_dict, nlags=3, drop_mean_features=True),\n",
    "    lambda: fe.add_mean_features(idx_features=['date_block_num', 'shop_id', 'item_category_id']),\n",
    "    lambda: fe.add_lag_mean_features(idx_features=['date_block_num', 'shop_id', 'item_category_id'],\n",
    "                                     validation_dict=validation_dict, nlags=3, drop_mean_features=True),\n",
    "    fe.final_process\n",
    "]"
   ],
   "metadata": {
    "collapsed": false
   },
   "id": "7adf926173622589",
   "execution_count": null
  },
  {
   "cell_type": "code",
   "outputs": [],
   "source": [
    "fe.add_features(feature_functions)"
   ],
   "metadata": {
    "collapsed": false
   },
   "id": "b8e8c69a9fdbf10c"
  },
  {
   "cell_type": "code",
   "outputs": [],
   "source": [
    "fe.load_data(file_name='final_full_data')"
   ],
   "metadata": {
    "collapsed": false
   },
   "id": "787a187a47a279ff",
   "execution_count": null
  },
  {
   "cell_type": "code",
   "outputs": [],
   "source": [
    "df = pd.read_csv('../data/final/final_full_data.csv')"
   ],
   "metadata": {
    "collapsed": false,
    "ExecuteTime": {
     "end_time": "2024-03-17T21:23:42.058039301Z",
     "start_time": "2024-03-17T21:23:39.671521961Z"
    }
   },
   "id": "d63da66d30f4828c",
   "execution_count": 26
  },
  {
   "cell_type": "code",
   "outputs": [],
   "source": [
    "vs = ValidationSchema(df)"
   ],
   "metadata": {
    "collapsed": false
   },
   "id": "eae986c70410709a",
   "execution_count": null
  },
  {
   "cell_type": "code",
   "outputs": [],
   "source": [
    "validation_dict = vs.train_test_spliter()"
   ],
   "metadata": {
    "collapsed": false
   },
   "id": "35b125331da8b4cc",
   "execution_count": null
  },
  {
   "cell_type": "code",
   "outputs": [],
   "source": [
    "# lag features for final full data\n",
    "\n",
    "lag_features = {0: ['item_cnt_month_lag1_0',\n",
    "                    'item_cnt_month_lag2_0',\n",
    "                    'item_cnt_month_lag3_0',\n",
    "                    'item_mean_price_lag1_0',\n",
    "                    'item_mean_price_lag2_0',\n",
    "                    'item_mean_price_lag3_0',\n",
    "                    'item_id_mean_sales_lag1_0',\n",
    "                    'item_id_mean_sales_lag2_0',\n",
    "                    'item_id_mean_sales_lag3_0',\n",
    "                    'item_id_city_mean_sales_lag1_0',\n",
    "                    'item_id_city_mean_sales_lag2_0',\n",
    "                    'item_id_city_mean_sales_lag3_0',\n",
    "                    'shop_id_item_category_id_mean_sales_lag1_0',\n",
    "                    'shop_id_item_category_id_mean_sales_lag2_0',\n",
    "                    'shop_id_item_category_id_mean_sales_lag3_0',\n",
    "                    'item_cnt_month_lag_mean_0']}"
   ],
   "metadata": {
    "collapsed": false
   },
   "id": "5f27828323462c8b",
   "execution_count": null
  },
  {
   "cell_type": "code",
   "outputs": [],
   "source": [
    "in_features = ['date_block_num', 'shop_id', 'item_id', 'month',\n",
    "               'city', 'shop_category', 'item_category_id',\n",
    "               'duration_after_first_sale', 'category']\n",
    "target = ['item_cnt_month']\n",
    "cat_cols = ['date_block_num', 'shop_id', 'item_id', 'month',\n",
    "            'city', 'shop_category', 'item_category_id',\n",
    "            'duration_after_first_sale', 'category']"
   ],
   "metadata": {
    "collapsed": false
   },
   "id": "383260419f4ab315",
   "execution_count": null
  },
  {
   "cell_type": "code",
   "outputs": [],
   "source": [
    "model = TrainingModel(data=df, validation_dict=validation_dict, params={})"
   ],
   "metadata": {
    "collapsed": false
   },
   "id": "e71e284e11b12111",
   "execution_count": null
  },
  {
   "cell_type": "code",
   "outputs": [],
   "source": [
    "preds = model.train_model(in_features=in_features, lag_features=lag_features, target=target, cat_features=cat_cols,\n",
    "                          save_model=True, model_name='catboost_full')"
   ],
   "metadata": {
    "collapsed": false
   },
   "id": "ee47603696a98b5c",
   "execution_count": null
  },
  {
   "cell_type": "code",
   "outputs": [],
   "source": [
    "create_kaggle_data(predictions=preds, file_name='kaggle_with_features_1', save_path=save_final_to)"
   ],
   "metadata": {
    "collapsed": false
   },
   "id": "8e19f6c13ac3c7cd",
   "execution_count": null
  },
  {
   "cell_type": "markdown",
   "source": [
    "**With using feature modeling and option to include all possible combination date_block_num, shop_id, and item_id if make_big, public kaggle score is 1.07**\n",
    "\n",
    "\n",
    "<img src=\"../data/images/kaggle_score_4.png\">"
   ],
   "metadata": {
    "collapsed": false
   },
   "id": "3b060b4484d80014"
  },
  {
   "cell_type": "code",
   "outputs": [],
   "source": [
    "df = pd.read_csv('../data/final/final_full_data.csv')"
   ],
   "metadata": {
    "collapsed": false,
    "ExecuteTime": {
     "start_time": "2024-03-18T01:19:58.428080Z"
    }
   },
   "id": "f4c895469de93ee1",
   "execution_count": null
  },
  {
   "cell_type": "code",
   "outputs": [],
   "source": [
    "df = downcast(df)"
   ],
   "metadata": {
    "collapsed": false
   },
   "id": "20ad40e91562c93d",
   "execution_count": null
  },
  {
   "cell_type": "code",
   "outputs": [],
   "source": [
    "vs = ValidationSchema(df)"
   ],
   "metadata": {
    "collapsed": false
   },
   "id": "7336f2cf9013f518"
  },
  {
   "cell_type": "code",
   "outputs": [],
   "source": [
    "validation_dict = vs.train_test_spliter()"
   ],
   "metadata": {
    "collapsed": false
   },
   "id": "10d9385402005efe"
  },
  {
   "cell_type": "code",
   "outputs": [],
   "source": [
    "model = cb.CatBoostRegressor()"
   ],
   "metadata": {
    "collapsed": false,
    "ExecuteTime": {
     "end_time": "2024-03-18T01:16:54.207968Z",
     "start_time": "2024-03-18T01:16:54.203414Z"
    }
   },
   "id": "5ce25f9a9a40ef4c",
   "execution_count": 3
  },
  {
   "cell_type": "code",
   "outputs": [
    {
     "data": {
      "text/plain": "<catboost.core.CatBoostRegressor at 0x7f50b860fa30>"
     },
     "execution_count": 7,
     "metadata": {},
     "output_type": "execute_result"
    }
   ],
   "source": [
    "model.load_model('../models/catboost_full')"
   ],
   "metadata": {
    "collapsed": false,
    "ExecuteTime": {
     "end_time": "2024-03-18T01:17:28.516008Z",
     "start_time": "2024-03-18T01:17:28.173898Z"
    }
   },
   "id": "77f178c995f12646",
   "execution_count": 7
  },
  {
   "cell_type": "code",
   "outputs": [],
   "source": [
    "expl = Explainability(model, )"
   ],
   "metadata": {
    "collapsed": false
   },
   "id": "6cc732f32ced8d07"
  }
 ],
 "metadata": {
  "kernelspec": {
   "display_name": "Python 3",
   "language": "python",
   "name": "python3"
  },
  "language_info": {
   "codemirror_mode": {
    "name": "ipython",
    "version": 2
   },
   "file_extension": ".py",
   "mimetype": "text/x-python",
   "name": "python",
   "nbconvert_exporter": "python",
   "pygments_lexer": "ipython2",
   "version": "2.7.6"
  }
 },
 "nbformat": 4,
 "nbformat_minor": 5
}
