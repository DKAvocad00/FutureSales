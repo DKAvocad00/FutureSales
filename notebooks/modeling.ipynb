{
 "cells": [
  {
   "cell_type": "code",
   "execution_count": 93,
   "id": "initial_id",
   "metadata": {
    "collapsed": true,
    "ExecuteTime": {
     "end_time": "2024-03-05T12:38:00.289879466Z",
     "start_time": "2024-03-05T12:38:00.245786429Z"
    }
   },
   "outputs": [],
   "source": [
    "import pandas as pd\n",
    "import numpy as np\n",
    "import warnings\n",
    "from path_utils import sales_fix_path, test_fix_path, final_data_path, save_final_to\n",
    "import catboost as cb\n",
    "from src.features.build_features import FeatureExtraction\n",
    "from sklearn.model_selection import TimeSeriesSplit\n",
    "from sklearn.metrics import mean_squared_error, r2_score\n",
    "import time\n",
    "from src.features.utils import asMinutes\n",
    "\n",
    "warnings.filterwarnings(\"ignore\")"
   ]
  },
  {
   "cell_type": "code",
   "outputs": [],
   "source": [
    "in_features = ['date_block_num', 'shop_id', 'item_id']\n",
    "target = ['item_cnt_month']\n",
    "cat_cols = ['date_block_num', 'shop_id', 'item_id']\n",
    "n_fold = 33"
   ],
   "metadata": {
    "collapsed": false,
    "ExecuteTime": {
     "end_time": "2024-03-05T12:42:26.468737524Z",
     "start_time": "2024-03-05T12:42:26.455860106Z"
    }
   },
   "id": "9963d61fdcebe4e0",
   "execution_count": 112
  },
  {
   "cell_type": "code",
   "outputs": [],
   "source": [
    "train = pd.read_csv(sales_fix_path)\n",
    "test = pd.read_csv(test_fix_path)"
   ],
   "metadata": {
    "collapsed": false,
    "ExecuteTime": {
     "end_time": "2024-03-05T12:38:01.431589714Z",
     "start_time": "2024-03-05T12:38:00.446560440Z"
    }
   },
   "id": "ffe001bba3846022",
   "execution_count": 94
  },
  {
   "cell_type": "code",
   "outputs": [
    {
     "data": {
      "text/plain": "               date  date_block_num  shop_id  item_id  item_price  \\\n0        02.01.2013               0       59    22154      999.00   \n1        03.01.2013               0       25     2552      899.00   \n2        06.01.2013               0       25     2554     1709.05   \n3        15.01.2013               0       25     2555     1099.00   \n4        10.01.2013               0       25     2564      349.00   \n...             ...             ...      ...      ...         ...   \n2564451  10.10.2015              33       25     7409      299.00   \n2564452  09.10.2015              33       25     7460      299.00   \n2564453  14.10.2015              33       25     7459      349.00   \n2564454  22.10.2015              33       25     7440      299.00   \n2564455  03.10.2015              33       25     7460      299.00   \n\n         item_cnt_day  revenue  \n0                 1.0   999.00  \n1                 1.0   899.00  \n2                 1.0  1709.05  \n3                 1.0  1099.00  \n4                 1.0   349.00  \n...               ...      ...  \n2564451           1.0   299.00  \n2564452           1.0   299.00  \n2564453           1.0   349.00  \n2564454           1.0   299.00  \n2564455           1.0   299.00  \n\n[2564456 rows x 7 columns]",
      "text/html": "<div>\n<style scoped>\n    .dataframe tbody tr th:only-of-type {\n        vertical-align: middle;\n    }\n\n    .dataframe tbody tr th {\n        vertical-align: top;\n    }\n\n    .dataframe thead th {\n        text-align: right;\n    }\n</style>\n<table border=\"1\" class=\"dataframe\">\n  <thead>\n    <tr style=\"text-align: right;\">\n      <th></th>\n      <th>date</th>\n      <th>date_block_num</th>\n      <th>shop_id</th>\n      <th>item_id</th>\n      <th>item_price</th>\n      <th>item_cnt_day</th>\n      <th>revenue</th>\n    </tr>\n  </thead>\n  <tbody>\n    <tr>\n      <th>0</th>\n      <td>02.01.2013</td>\n      <td>0</td>\n      <td>59</td>\n      <td>22154</td>\n      <td>999.00</td>\n      <td>1.0</td>\n      <td>999.00</td>\n    </tr>\n    <tr>\n      <th>1</th>\n      <td>03.01.2013</td>\n      <td>0</td>\n      <td>25</td>\n      <td>2552</td>\n      <td>899.00</td>\n      <td>1.0</td>\n      <td>899.00</td>\n    </tr>\n    <tr>\n      <th>2</th>\n      <td>06.01.2013</td>\n      <td>0</td>\n      <td>25</td>\n      <td>2554</td>\n      <td>1709.05</td>\n      <td>1.0</td>\n      <td>1709.05</td>\n    </tr>\n    <tr>\n      <th>3</th>\n      <td>15.01.2013</td>\n      <td>0</td>\n      <td>25</td>\n      <td>2555</td>\n      <td>1099.00</td>\n      <td>1.0</td>\n      <td>1099.00</td>\n    </tr>\n    <tr>\n      <th>4</th>\n      <td>10.01.2013</td>\n      <td>0</td>\n      <td>25</td>\n      <td>2564</td>\n      <td>349.00</td>\n      <td>1.0</td>\n      <td>349.00</td>\n    </tr>\n    <tr>\n      <th>...</th>\n      <td>...</td>\n      <td>...</td>\n      <td>...</td>\n      <td>...</td>\n      <td>...</td>\n      <td>...</td>\n      <td>...</td>\n    </tr>\n    <tr>\n      <th>2564451</th>\n      <td>10.10.2015</td>\n      <td>33</td>\n      <td>25</td>\n      <td>7409</td>\n      <td>299.00</td>\n      <td>1.0</td>\n      <td>299.00</td>\n    </tr>\n    <tr>\n      <th>2564452</th>\n      <td>09.10.2015</td>\n      <td>33</td>\n      <td>25</td>\n      <td>7460</td>\n      <td>299.00</td>\n      <td>1.0</td>\n      <td>299.00</td>\n    </tr>\n    <tr>\n      <th>2564453</th>\n      <td>14.10.2015</td>\n      <td>33</td>\n      <td>25</td>\n      <td>7459</td>\n      <td>349.00</td>\n      <td>1.0</td>\n      <td>349.00</td>\n    </tr>\n    <tr>\n      <th>2564454</th>\n      <td>22.10.2015</td>\n      <td>33</td>\n      <td>25</td>\n      <td>7440</td>\n      <td>299.00</td>\n      <td>1.0</td>\n      <td>299.00</td>\n    </tr>\n    <tr>\n      <th>2564455</th>\n      <td>03.10.2015</td>\n      <td>33</td>\n      <td>25</td>\n      <td>7460</td>\n      <td>299.00</td>\n      <td>1.0</td>\n      <td>299.00</td>\n    </tr>\n  </tbody>\n</table>\n<p>2564456 rows × 7 columns</p>\n</div>"
     },
     "execution_count": 95,
     "metadata": {},
     "output_type": "execute_result"
    }
   ],
   "source": [
    "train"
   ],
   "metadata": {
    "collapsed": false,
    "ExecuteTime": {
     "end_time": "2024-03-05T12:38:01.445262909Z",
     "start_time": "2024-03-05T12:38:01.439557608Z"
    }
   },
   "id": "f8e74109474532ac",
   "execution_count": 95
  },
  {
   "cell_type": "code",
   "outputs": [],
   "source": [
    "fe_simple = FeatureExtraction()"
   ],
   "metadata": {
    "collapsed": false,
    "ExecuteTime": {
     "end_time": "2024-03-05T12:38:01.460731175Z",
     "start_time": "2024-03-05T12:38:01.442997592Z"
    }
   },
   "id": "1bcc9cc490bc2af9",
   "execution_count": 96
  },
  {
   "cell_type": "code",
   "outputs": [],
   "source": [
    "fe_simple.create_final_data(train, test, make_big=False)"
   ],
   "metadata": {
    "collapsed": false,
    "ExecuteTime": {
     "end_time": "2024-03-05T12:38:02.048969346Z",
     "start_time": "2024-03-05T12:38:01.559644241Z"
    }
   },
   "id": "b37d283f809de84b",
   "execution_count": 97
  },
  {
   "cell_type": "code",
   "outputs": [],
   "source": [
    "df = fe_simple.get_data()"
   ],
   "metadata": {
    "collapsed": false,
    "ExecuteTime": {
     "end_time": "2024-03-05T12:38:02.116765339Z",
     "start_time": "2024-03-05T12:38:02.076162781Z"
    }
   },
   "id": "d8a6d41cfa651f96",
   "execution_count": 98
  },
  {
   "cell_type": "code",
   "outputs": [],
   "source": [
    "train = df[~df['date_block_num'].isin([34])]\n",
    "test = df[df['date_block_num'].isin([34])]"
   ],
   "metadata": {
    "collapsed": false,
    "ExecuteTime": {
     "end_time": "2024-03-05T12:38:02.140373588Z",
     "start_time": "2024-03-05T12:38:02.079533971Z"
    }
   },
   "id": "a499f9b7ec43a350",
   "execution_count": 99
  },
  {
   "cell_type": "code",
   "outputs": [
    {
     "data": {
      "text/plain": "         date_block_num  shop_id  item_id  item_cnt_month  item_revenue_month\n0                     0        2       27             1.0              2499.0\n1                     0        2       33             1.0               499.0\n2                     0        2      317             1.0               299.0\n3                     0        2      438             1.0               299.0\n4                     0        2      471             2.0               798.0\n...                 ...      ...      ...             ...                 ...\n1527272              33       59    22087             1.0               119.0\n1527273              33       59    22088             2.0               238.0\n1527274              33       59    22091             1.0               179.0\n1527275              33       59    22100             1.0               629.0\n1527276              33       59    22102             1.0              1250.0\n\n[1527277 rows x 5 columns]",
      "text/html": "<div>\n<style scoped>\n    .dataframe tbody tr th:only-of-type {\n        vertical-align: middle;\n    }\n\n    .dataframe tbody tr th {\n        vertical-align: top;\n    }\n\n    .dataframe thead th {\n        text-align: right;\n    }\n</style>\n<table border=\"1\" class=\"dataframe\">\n  <thead>\n    <tr style=\"text-align: right;\">\n      <th></th>\n      <th>date_block_num</th>\n      <th>shop_id</th>\n      <th>item_id</th>\n      <th>item_cnt_month</th>\n      <th>item_revenue_month</th>\n    </tr>\n  </thead>\n  <tbody>\n    <tr>\n      <th>0</th>\n      <td>0</td>\n      <td>2</td>\n      <td>27</td>\n      <td>1.0</td>\n      <td>2499.0</td>\n    </tr>\n    <tr>\n      <th>1</th>\n      <td>0</td>\n      <td>2</td>\n      <td>33</td>\n      <td>1.0</td>\n      <td>499.0</td>\n    </tr>\n    <tr>\n      <th>2</th>\n      <td>0</td>\n      <td>2</td>\n      <td>317</td>\n      <td>1.0</td>\n      <td>299.0</td>\n    </tr>\n    <tr>\n      <th>3</th>\n      <td>0</td>\n      <td>2</td>\n      <td>438</td>\n      <td>1.0</td>\n      <td>299.0</td>\n    </tr>\n    <tr>\n      <th>4</th>\n      <td>0</td>\n      <td>2</td>\n      <td>471</td>\n      <td>2.0</td>\n      <td>798.0</td>\n    </tr>\n    <tr>\n      <th>...</th>\n      <td>...</td>\n      <td>...</td>\n      <td>...</td>\n      <td>...</td>\n      <td>...</td>\n    </tr>\n    <tr>\n      <th>1527272</th>\n      <td>33</td>\n      <td>59</td>\n      <td>22087</td>\n      <td>1.0</td>\n      <td>119.0</td>\n    </tr>\n    <tr>\n      <th>1527273</th>\n      <td>33</td>\n      <td>59</td>\n      <td>22088</td>\n      <td>2.0</td>\n      <td>238.0</td>\n    </tr>\n    <tr>\n      <th>1527274</th>\n      <td>33</td>\n      <td>59</td>\n      <td>22091</td>\n      <td>1.0</td>\n      <td>179.0</td>\n    </tr>\n    <tr>\n      <th>1527275</th>\n      <td>33</td>\n      <td>59</td>\n      <td>22100</td>\n      <td>1.0</td>\n      <td>629.0</td>\n    </tr>\n    <tr>\n      <th>1527276</th>\n      <td>33</td>\n      <td>59</td>\n      <td>22102</td>\n      <td>1.0</td>\n      <td>1250.0</td>\n    </tr>\n  </tbody>\n</table>\n<p>1527277 rows × 5 columns</p>\n</div>"
     },
     "execution_count": 101,
     "metadata": {},
     "output_type": "execute_result"
    }
   ],
   "source": [
    "train"
   ],
   "metadata": {
    "collapsed": false,
    "ExecuteTime": {
     "end_time": "2024-03-05T12:38:20.006981625Z",
     "start_time": "2024-03-05T12:38:19.989427466Z"
    }
   },
   "id": "f4962e1cb3a549ee",
   "execution_count": 101
  },
  {
   "cell_type": "code",
   "outputs": [],
   "source": [
    "# tscv = TimeSeriesSplit(n_splits=n_fold, test_size=1, gap=0)"
   ],
   "metadata": {
    "collapsed": false,
    "ExecuteTime": {
     "end_time": "2024-03-05T12:38:25.457587754Z",
     "start_time": "2024-03-05T12:38:25.448479695Z"
    }
   },
   "id": "2d52b445aa5bcd6",
   "execution_count": 103
  },
  {
   "cell_type": "code",
   "outputs": [],
   "source": [
    "# def train_cv_model():\n",
    "#     template = 'Fold: [{:2} out of {:2}]\\tR2-score: [{:3.3f}]\\tRMSE: [{:3.3f}]\\tIter time: [{:5}]\\tTotal time: [{:5}]'\n",
    "# \n",
    "#     start_time = time.time()\n",
    "# \n",
    "#     for idx, (train_index, val_index) in enumerate(tscv.split(train['date_block_num'].unique())):\n",
    "#         start_iter = time.time()\n",
    "#         train_df = train[train['date_block_num'].isin(train_index)]\n",
    "#         val_df = train[train['date_block_num'].isin(val_index)]\n",
    "# \n",
    "#         train_data = cb.Pool(train_df[in_features], train_df[target], cat_features=cat_cols)\n",
    "#         val_data = cb.Pool(val_df[in_features], val_df[target], cat_features=cat_cols)\n",
    "# \n",
    "#         model = cb.CatBoostRegressor(cat_features=cat_cols, task_type=\"GPU\", random_seed=42)\n",
    "#         model.fit(train_data, eval_set=val_data, use_best_model=True, verbose=False)\n",
    "#         preds = model.predict(val_df[in_features])\n",
    "# \n",
    "#         rmse = (np.sqrt(mean_squared_error(val_df[target], preds)))\n",
    "#         r2 = r2_score(val_df[target], preds)\n",
    "# \n",
    "#         print(template.format(idx + 1, n_fold, r2, rmse, asMinutes(time.time() - start_iter),\n",
    "#                               asMinutes(time.time() - start_time)))"
   ],
   "metadata": {
    "collapsed": false,
    "ExecuteTime": {
     "end_time": "2024-03-05T12:38:25.711769106Z",
     "start_time": "2024-03-05T12:38:25.703089595Z"
    }
   },
   "id": "c63718616b431877",
   "execution_count": 104
  },
  {
   "cell_type": "code",
   "outputs": [],
   "source": [
    "# train_cv_model()"
   ],
   "metadata": {
    "collapsed": false,
    "ExecuteTime": {
     "end_time": "2024-03-05T12:38:26.068028402Z",
     "start_time": "2024-03-05T12:38:26.061040598Z"
    }
   },
   "id": "e67971a72f903ac9",
   "execution_count": 105
  },
  {
   "cell_type": "code",
   "outputs": [],
   "source": [
    "def train_model(train: pd.DataFrame, test: pd.DataFrame) -> list:\n",
    "    train_data = cb.Pool(train[train['date_block_num'] < 33][in_features],\n",
    "                         train[train['date_block_num'] < 33][target],\n",
    "                         cat_features=cat_cols)\n",
    "    val_data = cb.Pool(train[train['date_block_num'] == 33][in_features],\n",
    "                       train[train['date_block_num'] == 33][target],\n",
    "                       cat_features=cat_cols)\n",
    "\n",
    "    model = cb.CatBoostRegressor(cat_features=cat_cols, task_type=\"GPU\", random_seed=42)\n",
    "    model.fit(train_data, eval_set=val_data, use_best_model=True, verbose=True, early_stopping_rounds=50)\n",
    "    return model.predict(test[in_features])\n"
   ],
   "metadata": {
    "collapsed": false,
    "ExecuteTime": {
     "end_time": "2024-03-05T12:38:31.222073781Z",
     "start_time": "2024-03-05T12:38:31.176760399Z"
    }
   },
   "id": "3f482d64884c9e56",
   "execution_count": 106
  },
  {
   "cell_type": "code",
   "outputs": [],
   "source": [
    "preds = train_model(train, test)"
   ],
   "metadata": {
    "collapsed": false
   },
   "id": "3b6617aa8a4abe17"
  },
  {
   "cell_type": "code",
   "outputs": [],
   "source": [
    "kaggle = pd.DataFrame({'item_cnt_month': preds})"
   ],
   "metadata": {
    "collapsed": false,
    "ExecuteTime": {
     "end_time": "2024-03-05T12:09:06.297109101Z",
     "start_time": "2024-03-05T12:09:06.293586171Z"
    }
   },
   "id": "73a8d1c70a40e4e2",
   "execution_count": 75
  },
  {
   "cell_type": "code",
   "outputs": [],
   "source": [
    "kaggle.to_csv(save_final_to + 'kaggle' + '.csv',\n",
    "              index=True, index_label=\"ID\")"
   ],
   "metadata": {
    "collapsed": false,
    "ExecuteTime": {
     "end_time": "2024-03-05T12:09:08.741240757Z",
     "start_time": "2024-03-05T12:09:08.446688683Z"
    }
   },
   "id": "3aace9603c38c516",
   "execution_count": 76
  },
  {
   "cell_type": "markdown",
   "source": [
    "\n",
    "\n",
    "**Without any Feature Extraction methods and option to include all possible combination date_block_num, shop_id, and item_id if make_big, public kaggle score is 1.52 (what a fuck amigo)**\n",
    "\n",
    "\n",
    "<img src=\"../data/images/kaggle_score_1.png\">\n"
   ],
   "metadata": {
    "collapsed": false
   },
   "id": "6971b145a9de8876"
  },
  {
   "cell_type": "code",
   "outputs": [],
   "source": [
    "train = pd.read_csv(sales_fix_path)\n",
    "test = pd.read_csv(test_fix_path)"
   ],
   "metadata": {
    "collapsed": false,
    "ExecuteTime": {
     "end_time": "2024-03-05T12:43:38.427784416Z",
     "start_time": "2024-03-05T12:43:37.505174278Z"
    }
   },
   "id": "52907dcf2b3128f9",
   "execution_count": 114
  },
  {
   "cell_type": "code",
   "outputs": [],
   "source": [
    "fe_with_comb = FeatureExtraction()"
   ],
   "metadata": {
    "collapsed": false,
    "ExecuteTime": {
     "end_time": "2024-03-05T12:43:38.440229514Z",
     "start_time": "2024-03-05T12:43:38.432687794Z"
    }
   },
   "id": "d8e96554b762a260",
   "execution_count": 115
  },
  {
   "cell_type": "code",
   "outputs": [],
   "source": [
    "fe_with_comb.create_final_data(train=train, test=test, make_big=True)"
   ],
   "metadata": {
    "collapsed": false,
    "ExecuteTime": {
     "end_time": "2024-03-05T12:43:48.575466892Z",
     "start_time": "2024-03-05T12:43:39.497651089Z"
    }
   },
   "id": "8f894bc1b9af6fd3",
   "execution_count": 116
  },
  {
   "cell_type": "code",
   "outputs": [],
   "source": [
    "df = fe_with_comb.get_data()"
   ],
   "metadata": {
    "collapsed": false,
    "ExecuteTime": {
     "end_time": "2024-03-05T12:43:48.587867151Z",
     "start_time": "2024-03-05T12:43:48.580127780Z"
    }
   },
   "id": "9405c626511f140b",
   "execution_count": 117
  },
  {
   "cell_type": "code",
   "outputs": [],
   "source": [
    "train = df[~df['date_block_num'].isin([34])]\n",
    "test = df[df['date_block_num'].isin([34])]"
   ],
   "metadata": {
    "collapsed": false,
    "ExecuteTime": {
     "end_time": "2024-03-05T12:43:48.894019904Z",
     "start_time": "2024-03-05T12:43:48.584861862Z"
    }
   },
   "id": "6952df7a75457f1c",
   "execution_count": 118
  },
  {
   "cell_type": "code",
   "outputs": [],
   "source": [
    "preds = train_model(train, test)"
   ],
   "metadata": {
    "collapsed": false
   },
   "id": "959daa0e904c7a5c"
  },
  {
   "cell_type": "code",
   "outputs": [],
   "source": [
    "kaggle = pd.DataFrame({'item_cnt_month':preds})"
   ],
   "metadata": {
    "collapsed": false
   },
   "id": "252ca3a12db28d"
  },
  {
   "cell_type": "code",
   "outputs": [],
   "source": [
    "kaggle.to_csv(save_final_to + 'kaggle' + '.csv',\n",
    "              index=True, index_label=\"ID\")"
   ],
   "metadata": {
    "collapsed": false
   },
   "id": "a342b4f68688628e"
  },
  {
   "cell_type": "markdown",
   "source": [
    "\n",
    "\n",
    "**Without Feature Extraction methods but using option to include all possible combination date_block_num, shop_id, and item_id if make_big, public kaggle score is 1.16 (what a fuck amigo)**\n",
    "\n",
    "\n",
    "<img src=\"../data/images/kaggle_score_2.png\">\n"
   ],
   "metadata": {
    "collapsed": false
   },
   "id": "325dc96ff1344dbc"
  },
  {
   "cell_type": "code",
   "outputs": [],
   "source": [],
   "metadata": {
    "collapsed": false
   },
   "id": "39c4d7667355195d"
  }
 ],
 "metadata": {
  "kernelspec": {
   "display_name": "Python 3",
   "language": "python",
   "name": "python3"
  },
  "language_info": {
   "codemirror_mode": {
    "name": "ipython",
    "version": 2
   },
   "file_extension": ".py",
   "mimetype": "text/x-python",
   "name": "python",
   "nbconvert_exporter": "python",
   "pygments_lexer": "ipython2",
   "version": "2.7.6"
  }
 },
 "nbformat": 4,
 "nbformat_minor": 5
}
