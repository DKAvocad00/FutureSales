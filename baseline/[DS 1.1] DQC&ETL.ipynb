{
 "cells": [
  {
   "cell_type": "markdown",
   "source": [
    "<font size=\"24\">FUTURE SALES FORECASTING </font>"
   ],
   "metadata": {
    "collapsed": false
   },
   "id": "c3030d07ebf64860"
  },
  {
   "cell_type": "markdown",
   "source": [
    "**File description**:\n",
    "\n",
    "<font size=\"5\">\n",
    "\n",
    "- **sales_train.csv** : The training set. Daily historical data from January 2013 to October 2015.\n",
    "- **test.csv**: The test set. You need to forecast the sales for these shops and products for November 2015.\n",
    "- **sample_submission**: A sample submission file in the correct format.\n",
    "- **items.csv**: Supplemental information about the items/products.\n",
    "- **item_categories**: Supplemental information about the items categories.\n",
    "- **shops.csv**: Supplemental information about the shops.\n",
    "\n",
    "</font>"
   ],
   "metadata": {
    "collapsed": false
   },
   "id": "3166dba258777e6d"
  },
  {
   "cell_type": "markdown",
   "source": [
    "**Data fields**:\n",
    "\n",
    "<font size=\"5\">\n",
    "\n",
    "- **ID**:  An Id that represents a (Shop, Item) tuple within the test set\n",
    "- **shop_id**:  Unique identifier of a shop\n",
    "- **item_id**: Unique identifier of a product\n",
    "- **item_category_id**: Unique identifier of item category\n",
    "- **item_cnt_day**: Number of products sold. You are predicting a monthly amount of this measure\n",
    "- **item_price**: Current price of an item\n",
    "- **date**: Date in format dd/mm/yyyy\n",
    "- **date_block_num**: A consecutive month number, used for convenience. January 2013 is 0, February 2013 is 1,..., October 2015 is 33\n",
    "- **item_name**: Name of item\n",
    "- **shop_name**: Name of shop\n",
    "- **item_category_name**: Name of item category\n",
    "\n",
    "</font>"
   ],
   "metadata": {
    "collapsed": false
   },
   "id": "9c6cd6f1fdfbc3d4"
  },
  {
   "cell_type": "code",
   "execution_count": 323,
   "id": "initial_id",
   "metadata": {
    "collapsed": true,
    "ExecuteTime": {
     "end_time": "2024-01-22T16:46:33.234469751Z",
     "start_time": "2024-01-22T16:46:32.970839580Z"
    }
   },
   "outputs": [],
   "source": [
    "import pandas as pd\n",
    "import matplotlib.pyplot as plt\n",
    "import seaborn as sns\n",
    "import numpy as np\n",
    "import warnings\n",
    "import re\n",
    "\n",
    "import os\n",
    "from sklearn.ensemble import IsolationForest\n",
    "from sklearn.neighbors import LocalOutlierFactor\n",
    "\n",
    "warnings.filterwarnings(\"ignore\")"
   ]
  },
  {
   "cell_type": "code",
   "outputs": [],
   "source": [
    "class ETL:\n",
    "    def __init__(self, data_path):\n",
    "        self.option = ['shop', 'train', 'item', 'test', 'category']\n",
    "        self.file_name = os.path.basename(data_path)\n",
    "\n",
    "        self.df = pd.read_csv(data_path)\n",
    "        print(\"{} rows and {} columns has been read from {}\".format(self.df.shape[0], self.df.shape[1], self.file_name))\n",
    "\n",
    "        self.df_dqc = DQC(self.df)\n",
    "\n",
    "    def transform_data(self, option):\n",
    "        if option.lower() == 'train' and option in self.option:\n",
    "            self.df = self.df_dqc.train_fix()\n",
    "            self.df = self.df_dqc.isolation_forest(['item_price', 'item_cnt_day'], change=True)\n",
    "\n",
    "        if option.lower() == 'test' and option.lower() in self.option:\n",
    "            self.df = self.df_dqc.test_fix()\n",
    "\n",
    "        if option.lower() == 'item' and option.lower() in self.option:\n",
    "            self.df = self.df_dqc.item_fix()\n",
    "\n",
    "        if option.lower() == 'shop' and option.lower() in self.option:\n",
    "            self.df = self.df_dqc.shop_fix()\n",
    "        \n",
    "        if option.lower() == 'category' and option.lower() in self.option:\n",
    "            self.df = self.df_dqc.item_category_fix()\n",
    "        \n",
    "        return self.df\n",
    "    \n",
    "    def get_data(self):\n",
    "        return self.df\n",
    "\n",
    "    def load_data(self, file_name):\n",
    "        self.df.to_csv(file_name + '.csv')\n",
    "        print(\"File {} was successfully saved\".format(file_name))\n"
   ],
   "metadata": {
    "collapsed": false,
    "ExecuteTime": {
     "end_time": "2024-01-22T16:46:33.294232046Z",
     "start_time": "2024-01-22T16:46:33.245924510Z"
    }
   },
   "id": "e9b6cc04adcb9f49",
   "execution_count": 324
  },
  {
   "cell_type": "code",
   "outputs": [],
   "source": [
    "class DQC:\n",
    "    def __init__(self, df=None):\n",
    "        self.df = df\n",
    "\n",
    "    # Basic functions\n",
    "    def get_data(self):\n",
    "        return self.df\n",
    "\n",
    "    # Statistic\n",
    "    def statistic(self):\n",
    "        print(\"Information about data:\\n\")\n",
    "        print(f\"{self.df.info()}\\n\\n{'=' * 50}\\n\")\n",
    "        print(\"Some examples of data:\\n\")\n",
    "        print(f\"{self.df.head(10)}\\n\\n{'=' * 50}\\n\")\n",
    "        print(\"Number of unique data:\\n\")\n",
    "        print(f\"{self.df.nunique()}\\n\\n{'=' * 50}\\n\")\n",
    "        print(f\"Number of dublicated data: {self.df.duplicated().sum()}\")\n",
    "\n",
    "    def describe_matrix(self, column_list):\n",
    "        print(self.df[column_list].describe().T)\n",
    "\n",
    "    # Items fix\n",
    "    def item_fix(self):\n",
    "        # fix item name\n",
    "        def clean_name(string):\n",
    "            string = re.sub(r\"\\[.*?\\]\", \"\", string)\n",
    "            string = re.sub(r\"\\(.*?\\)\", \"\", string)\n",
    "            string = re.sub(r\"[^A-ZА-Яa-zа-я0-9 ]\", \"\", string)\n",
    "            string = re.sub(r\"\\s{2,}\", \" \", string)\n",
    "            string = string.lower()\n",
    "            return string\n",
    "\n",
    "        self.df[\"cleaned_name\"] = self.df[\"item_name\"].apply(clean_name)\n",
    "\n",
    "        return self.df\n",
    "\n",
    "    # Shops fix\n",
    "    def shop_fix(self):\n",
    "        # shop id fix\n",
    "        shops_id_fix = {0: 57, 1: 58, 10: 11, 40: 39}\n",
    "        self.df.drop(index=shops_id_fix.keys(), inplace=True)\n",
    "\n",
    "        # add new column city\n",
    "        self.df.loc[self.df.shop_name == 'Сергиев Посад ТЦ \"7Я\"', \"shop_name\"] = 'СергиевПосад ТЦ \"7Я\"'\n",
    "        self.df['city'] = self.df['shop_name'].str.split(' ').map(lambda x: x[0])\n",
    "\n",
    "        return self.df\n",
    "\n",
    "    # train fix\n",
    "    def train_fix(self):\n",
    "        #drop duplicates\n",
    "        self.df.drop_duplicates(inplace=True)\n",
    "\n",
    "        # datetime fix\n",
    "        self.df['date'] = pd.to_datetime(self.df['date'], format='%d.%m.%Y')\n",
    "\n",
    "        # shop id fix\n",
    "        shops_id_fix = {0: 57, 1: 58, 10: 11, 40: 39}\n",
    "        self.df = self.df.replace({'shop_id': shops_id_fix})\n",
    "\n",
    "        # drop extreme or negative values \n",
    "        self.df = self.df.loc[(self.df['item_price'] < 50000) & (self.df['item_price'] > 0)]\n",
    "        self.df = self.df.loc[(self.df['item_cnt_day'] < 700) & (self.df['item_cnt_day'] > 0)]\n",
    "\n",
    "        return self.df\n",
    "\n",
    "    # test fix\n",
    "    def test_fix(self):\n",
    "        # shop id fix\n",
    "        shops_id_fix = {0: 57, 1: 58, 10: 11, 40: 39}\n",
    "        self.df = self.df.replace({'shop_id': shops_id_fix})\n",
    "\n",
    "        return self.df\n",
    "\n",
    "    # item category fix\n",
    "    def item_category_fix(self):\n",
    "        # add new column global category \n",
    "        self.df['category'] = self.df['item_category_name'].apply(lambda x: x.split()[0])\n",
    "        return self.df\n",
    "\n",
    "    # Outliers\n",
    "    def boxplot(self, column_name):\n",
    "        sns.boxplot(data=self.df, x=column_name)\n",
    "\n",
    "    def z_score(self, column_name, change=False):\n",
    "        self.df['z_score'] = (self.df[column_name] - self.df[column_name].mean()) / self.df[column_name].std()\n",
    "        outliers = self.df[(self.df['z_score'] < -3) | (self.df['z_score'] > 3)]\n",
    "\n",
    "        print(\"Number of outliers: {}\".format(outliers.shape[0]))\n",
    "\n",
    "        if change:\n",
    "            self.df = self.df[(self.df['z_score'] > -3) & (self.df['z_score'] < 3)]\n",
    "\n",
    "    def standard_deviation(self, column_name, change=False):\n",
    "        lower_limit = self.df[column_name].mean() - 3 * (self.df[column_name].std())\n",
    "        upper_limit = self.df[column_name].mean() + 3 * (self.df[column_name].std())\n",
    "        outliers = self.df[(self.df[column_name] < lower_limit) | (self.df[column_name] > upper_limit)]\n",
    "\n",
    "        print(\"Number of outliers: {}\".format(outliers.shape[0]))\n",
    "\n",
    "        if change:\n",
    "            self.df = self.df[(self.df[column_name] > lower_limit) & (self.df[column_name] < upper_limit)]\n",
    "\n",
    "    def isolation_forest(self, column_name_list, info = False, change=False):\n",
    "        clf = IsolationForest(n_jobs=-1)\n",
    "        labels = clf.fit_predict(self.df[column_name_list].to_numpy())\n",
    "        \n",
    "        if info:\n",
    "            print(\"Number of outliers: {}\".format(np.count_nonzero(labels == -1)))\n",
    "\n",
    "        if change:\n",
    "            outliers = [i for i in range(0, len(labels)) if labels[i] == -1]\n",
    "            self.df = self.df.drop(self.df.iloc[outliers].index, axis=0).copy(deep=True)\n",
    "\n",
    "        return self.df"
   ],
   "metadata": {
    "collapsed": false,
    "ExecuteTime": {
     "end_time": "2024-01-22T16:46:33.324368289Z",
     "start_time": "2024-01-22T16:46:33.257165967Z"
    }
   },
   "id": "dba237bb6c30985f",
   "execution_count": 325
  },
  {
   "cell_type": "code",
   "outputs": [
    {
     "name": "stdout",
     "output_type": "stream",
     "text": [
      "84 rows and 2 columns has been read from item_categories.csv\n",
      "22170 rows and 3 columns has been read from items.csv\n",
      "2935849 rows and 6 columns has been read from sales_train.csv\n",
      "60 rows and 2 columns has been read from shops.csv\n",
      "214200 rows and 3 columns has been read from test.csv\n"
     ]
    }
   ],
   "source": [
    "item_categories = ETL('/home/avocad00/InnowiseTrainee/FutureSales/data/item_categories.csv')\n",
    "items = ETL('/home/avocad00/InnowiseTrainee/FutureSales/data/items.csv')\n",
    "sales = ETL('/home/avocad00/InnowiseTrainee/FutureSales/data/sales_train.csv')\n",
    "shops = ETL('/home/avocad00/InnowiseTrainee/FutureSales/data/shops.csv')\n",
    "test = ETL('/home/avocad00/InnowiseTrainee/FutureSales/data/test.csv')"
   ],
   "metadata": {
    "collapsed": false,
    "ExecuteTime": {
     "end_time": "2024-01-22T16:46:34.189790274Z",
     "start_time": "2024-01-22T16:46:33.294997611Z"
    }
   },
   "id": "87cff99318e9ab89",
   "execution_count": 326
  },
  {
   "cell_type": "markdown",
   "source": [
    "<font size = 8>\n",
    "\n",
    "**item categories**:\n",
    "\n",
    "</font>"
   ],
   "metadata": {
    "collapsed": false
   },
   "id": "c409783d3ec25733"
  },
  {
   "cell_type": "code",
   "outputs": [
    {
     "name": "stdout",
     "output_type": "stream",
     "text": [
      "Information about data:\n",
      "\n",
      "<class 'pandas.core.frame.DataFrame'>\n",
      "RangeIndex: 84 entries, 0 to 83\n",
      "Data columns (total 2 columns):\n",
      " #   Column              Non-Null Count  Dtype \n",
      "---  ------              --------------  ----- \n",
      " 0   item_category_name  84 non-null     object\n",
      " 1   item_category_id    84 non-null     int64 \n",
      "dtypes: int64(1), object(1)\n",
      "memory usage: 1.4+ KB\n",
      "None\n",
      "\n",
      "==================================================\n",
      "\n",
      "Some examples of data:\n",
      "\n",
      "        item_category_name  item_category_id\n",
      "0  PC - Гарнитуры/Наушники                 0\n",
      "1         Аксессуары - PS2                 1\n",
      "2         Аксессуары - PS3                 2\n",
      "3         Аксессуары - PS4                 3\n",
      "4         Аксессуары - PSP                 4\n",
      "5      Аксессуары - PSVita                 5\n",
      "6    Аксессуары - XBOX 360                 6\n",
      "7    Аксессуары - XBOX ONE                 7\n",
      "8           Билеты (Цифра)                 8\n",
      "9          Доставка товара                 9\n",
      "\n",
      "==================================================\n",
      "\n",
      "Number of unique data:\n",
      "\n",
      "item_category_name    84\n",
      "item_category_id      84\n",
      "dtype: int64\n",
      "\n",
      "==================================================\n",
      "\n",
      "Number of dublicated data: 0\n"
     ]
    }
   ],
   "source": [
    "item_categories.df_dqc.statistic()"
   ],
   "metadata": {
    "collapsed": false,
    "ExecuteTime": {
     "end_time": "2024-01-22T16:46:34.190046748Z",
     "start_time": "2024-01-22T16:46:34.165308968Z"
    }
   },
   "id": "12779f60720c9df8",
   "execution_count": 327
  },
  {
   "cell_type": "code",
   "outputs": [],
   "source": [
    "item_categories_df = item_categories.df_dqc.get_data()"
   ],
   "metadata": {
    "collapsed": false,
    "ExecuteTime": {
     "end_time": "2024-01-22T16:46:34.204727699Z",
     "start_time": "2024-01-22T16:46:34.165538501Z"
    }
   },
   "id": "ad63126357caa9d1",
   "execution_count": 328
  },
  {
   "cell_type": "code",
   "outputs": [
    {
     "data": {
      "text/plain": "                      item_category_name  item_category_id\n33                  Карты оплаты - Live!                33\n34          Карты оплаты - Live! (Цифра)                34\n43                    Книги - Аудиокниги                43\n44            Книги - Аудиокниги (Цифра)                44\n69                    Подарки - Сувениры                69\n70        Подарки - Сувениры (в навеску)                70\n75          Программы - Для дома и офиса                75\n76  Программы - Для дома и офиса (Цифра)                76\n77                 Программы - Обучающие                77\n78         Программы - Обучающие (Цифра)                78",
      "text/html": "<div>\n<style scoped>\n    .dataframe tbody tr th:only-of-type {\n        vertical-align: middle;\n    }\n\n    .dataframe tbody tr th {\n        vertical-align: top;\n    }\n\n    .dataframe thead th {\n        text-align: right;\n    }\n</style>\n<table border=\"1\" class=\"dataframe\">\n  <thead>\n    <tr style=\"text-align: right;\">\n      <th></th>\n      <th>item_category_name</th>\n      <th>item_category_id</th>\n    </tr>\n  </thead>\n  <tbody>\n    <tr>\n      <th>33</th>\n      <td>Карты оплаты - Live!</td>\n      <td>33</td>\n    </tr>\n    <tr>\n      <th>34</th>\n      <td>Карты оплаты - Live! (Цифра)</td>\n      <td>34</td>\n    </tr>\n    <tr>\n      <th>43</th>\n      <td>Книги - Аудиокниги</td>\n      <td>43</td>\n    </tr>\n    <tr>\n      <th>44</th>\n      <td>Книги - Аудиокниги (Цифра)</td>\n      <td>44</td>\n    </tr>\n    <tr>\n      <th>69</th>\n      <td>Подарки - Сувениры</td>\n      <td>69</td>\n    </tr>\n    <tr>\n      <th>70</th>\n      <td>Подарки - Сувениры (в навеску)</td>\n      <td>70</td>\n    </tr>\n    <tr>\n      <th>75</th>\n      <td>Программы - Для дома и офиса</td>\n      <td>75</td>\n    </tr>\n    <tr>\n      <th>76</th>\n      <td>Программы - Для дома и офиса (Цифра)</td>\n      <td>76</td>\n    </tr>\n    <tr>\n      <th>77</th>\n      <td>Программы - Обучающие</td>\n      <td>77</td>\n    </tr>\n    <tr>\n      <th>78</th>\n      <td>Программы - Обучающие (Цифра)</td>\n      <td>78</td>\n    </tr>\n  </tbody>\n</table>\n</div>"
     },
     "execution_count": 329,
     "metadata": {},
     "output_type": "execute_result"
    }
   ],
   "source": [
    "item_categories_df.loc[item_categories_df['item_category_id'].isin([33, 34, 43, 44, 69, 70, 75, 76, 77, 78])]"
   ],
   "metadata": {
    "collapsed": false,
    "ExecuteTime": {
     "end_time": "2024-01-22T16:46:34.223377523Z",
     "start_time": "2024-01-22T16:46:34.165644842Z"
    }
   },
   "id": "9ffb082bf798eddf",
   "execution_count": 329
  },
  {
   "cell_type": "markdown",
   "source": [
    "<font size = 5>\n",
    "\n",
    "<b>'Цифра' means that this item sold in digital format\n",
    "'В навестку' means that this item goes as a gift or at a discount to the main product</b>\n",
    "\n",
    "\n",
    "</font>"
   ],
   "metadata": {
    "collapsed": false
   },
   "id": "14be1721faaace50"
  },
  {
   "cell_type": "markdown",
   "source": [
    "<font size = 8>\n",
    "\n",
    "**Items**:\n",
    "\n",
    "</font>"
   ],
   "metadata": {
    "collapsed": false
   },
   "id": "ae98dc66d509dd70"
  },
  {
   "cell_type": "code",
   "outputs": [
    {
     "name": "stdout",
     "output_type": "stream",
     "text": [
      "Information about data:\n",
      "\n",
      "<class 'pandas.core.frame.DataFrame'>\n",
      "RangeIndex: 22170 entries, 0 to 22169\n",
      "Data columns (total 3 columns):\n",
      " #   Column            Non-Null Count  Dtype \n",
      "---  ------            --------------  ----- \n",
      " 0   item_name         22170 non-null  object\n",
      " 1   item_id           22170 non-null  int64 \n",
      " 2   item_category_id  22170 non-null  int64 \n",
      "dtypes: int64(2), object(1)\n",
      "memory usage: 519.7+ KB\n",
      "None\n",
      "\n",
      "==================================================\n",
      "\n",
      "Some examples of data:\n",
      "\n",
      "                                           item_name  item_id  \\\n",
      "0          ! ВО ВЛАСТИ НАВАЖДЕНИЯ (ПЛАСТ.)         D        0   \n",
      "1  !ABBYY FineReader 12 Professional Edition Full...        1   \n",
      "2      ***В ЛУЧАХ СЛАВЫ   (UNV)                    D        2   \n",
      "3    ***ГОЛУБАЯ ВОЛНА  (Univ)                      D        3   \n",
      "4        ***КОРОБКА (СТЕКЛО)                       D        4   \n",
      "5  ***НОВЫЕ АМЕРИКАНСКИЕ ГРАФФИТИ  (UNI)         ...        5   \n",
      "6           ***УДАР ПО ВОРОТАМ (UNI)               D        6   \n",
      "7         ***УДАР ПО ВОРОТАМ-2 (UNI)               D        7   \n",
      "8           ***ЧАЙ С МУССОЛИНИ                     D        8   \n",
      "9      ***ШУГАРЛЭНДСКИЙ ЭКСПРЕСС (UNI)             D        9   \n",
      "\n",
      "   item_category_id  \n",
      "0                40  \n",
      "1                76  \n",
      "2                40  \n",
      "3                40  \n",
      "4                40  \n",
      "5                40  \n",
      "6                40  \n",
      "7                40  \n",
      "8                40  \n",
      "9                40  \n",
      "\n",
      "==================================================\n",
      "\n",
      "Number of unique data:\n",
      "\n",
      "item_name           22170\n",
      "item_id             22170\n",
      "item_category_id       84\n",
      "dtype: int64\n",
      "\n",
      "==================================================\n",
      "\n",
      "Number of dublicated data: 0\n"
     ]
    }
   ],
   "source": [
    "items.df_dqc.statistic()"
   ],
   "metadata": {
    "collapsed": false,
    "ExecuteTime": {
     "end_time": "2024-01-22T16:46:34.314075040Z",
     "start_time": "2024-01-22T16:46:34.188978511Z"
    }
   },
   "id": "be3e364252db0450",
   "execution_count": 330
  },
  {
   "cell_type": "markdown",
   "source": [
    "<font size = 8>\n",
    "\n",
    "**Sales_train**:\n",
    "\n",
    "</font>"
   ],
   "metadata": {
    "collapsed": false
   },
   "id": "32ab1372091f053b"
  },
  {
   "cell_type": "code",
   "outputs": [
    {
     "name": "stdout",
     "output_type": "stream",
     "text": [
      "Information about data:\n",
      "\n",
      "<class 'pandas.core.frame.DataFrame'>\n",
      "RangeIndex: 2935849 entries, 0 to 2935848\n",
      "Data columns (total 6 columns):\n",
      " #   Column          Dtype  \n",
      "---  ------          -----  \n",
      " 0   date            object \n",
      " 1   date_block_num  int64  \n",
      " 2   shop_id         int64  \n",
      " 3   item_id         int64  \n",
      " 4   item_price      float64\n",
      " 5   item_cnt_day    float64\n",
      "dtypes: float64(2), int64(3), object(1)\n",
      "memory usage: 134.4+ MB\n",
      "None\n",
      "\n",
      "==================================================\n",
      "\n",
      "Some examples of data:\n",
      "\n",
      "         date  date_block_num  shop_id  item_id  item_price  item_cnt_day\n",
      "0  02.01.2013               0       59    22154      999.00           1.0\n",
      "1  03.01.2013               0       25     2552      899.00           1.0\n",
      "2  05.01.2013               0       25     2552      899.00          -1.0\n",
      "3  06.01.2013               0       25     2554     1709.05           1.0\n",
      "4  15.01.2013               0       25     2555     1099.00           1.0\n",
      "5  10.01.2013               0       25     2564      349.00           1.0\n",
      "6  02.01.2013               0       25     2565      549.00           1.0\n",
      "7  04.01.2013               0       25     2572      239.00           1.0\n",
      "8  11.01.2013               0       25     2572      299.00           1.0\n",
      "9  03.01.2013               0       25     2573      299.00           3.0\n",
      "\n",
      "==================================================\n",
      "\n",
      "Number of unique data:\n",
      "\n",
      "date               1034\n",
      "date_block_num       34\n",
      "shop_id              60\n",
      "item_id           21807\n",
      "item_price        19993\n",
      "item_cnt_day        198\n",
      "dtype: int64\n",
      "\n",
      "==================================================\n",
      "Number of dublicated data: 6\n"
     ]
    }
   ],
   "source": [
    "sales.df_dqc.statistic()"
   ],
   "metadata": {
    "collapsed": false,
    "ExecuteTime": {
     "end_time": "2024-01-22T16:46:34.867768133Z",
     "start_time": "2024-01-22T16:46:34.267425035Z"
    }
   },
   "id": "6c4dbbf13e2c8666",
   "execution_count": 331
  },
  {
   "cell_type": "code",
   "outputs": [
    {
     "name": "stdout",
     "output_type": "stream",
     "text": [
      "                  count        mean          std   min    25%    50%    75%  \\\n",
      "item_price    2935849.0  890.853233  1729.799631  -1.0  249.0  399.0  999.0   \n",
      "item_cnt_day  2935849.0    1.242641     2.618834 -22.0    1.0    1.0    1.0   \n",
      "\n",
      "                   max  \n",
      "item_price    307980.0  \n",
      "item_cnt_day    2169.0  \n"
     ]
    }
   ],
   "source": [
    "sales.df_dqc.describe_matrix(column_list=['date', 'item_price', 'item_cnt_day'])"
   ],
   "metadata": {
    "collapsed": false,
    "ExecuteTime": {
     "end_time": "2024-01-22T16:46:35.011811758Z",
     "start_time": "2024-01-22T16:46:34.867613852Z"
    }
   },
   "id": "8820332bd09662bf",
   "execution_count": 332
  },
  {
   "cell_type": "code",
   "outputs": [
    {
     "data": {
      "text/plain": "<Figure size 640x480 with 1 Axes>",
      "image/png": "[encoded data removed]"
     },
     "metadata": {},
     "output_type": "display_data"
    }
   ],
   "source": [
    "sales.df_dqc.boxplot(column_name='item_price')"
   ],
   "metadata": {
    "collapsed": false,
    "ExecuteTime": {
     "end_time": "2024-01-22T16:46:38.046811606Z",
     "start_time": "2024-01-22T16:46:35.004324821Z"
    }
   },
   "id": "bb526b385adc3c25",
   "execution_count": 333
  },
  {
   "cell_type": "code",
   "outputs": [
    {
     "data": {
      "text/plain": "<Figure size 640x480 with 1 Axes>",
      "image/png": "[encoded data removed]"
     },
     "metadata": {},
     "output_type": "display_data"
    }
   ],
   "source": [
    "sales.df_dqc.boxplot(column_name='item_cnt_day')"
   ],
   "metadata": {
    "collapsed": false,
    "ExecuteTime": {
     "end_time": "2024-01-22T16:46:41.131902807Z",
     "start_time": "2024-01-22T16:46:38.044081411Z"
    }
   },
   "id": "53717a5ae38ef6a5",
   "execution_count": 334
  },
  {
   "cell_type": "code",
   "outputs": [],
   "source": [
    "sales_df = sales.df_dqc.get_data()"
   ],
   "metadata": {
    "collapsed": false,
    "ExecuteTime": {
     "end_time": "2024-01-22T16:46:41.137649879Z",
     "start_time": "2024-01-22T16:46:41.133332006Z"
    }
   },
   "id": "54dd011a2e29f3fa",
   "execution_count": 335
  },
  {
   "cell_type": "code",
   "outputs": [
    {
     "data": {
      "text/plain": "               date  date_block_num  shop_id  item_id  item_price  \\\n484683   15.05.2013               4       32     2973   -1.000000   \n531561   16.06.2013               5       30    11859    0.100000   \n531564   13.06.2013               5       30    11855    0.100000   \n531566   06.06.2013               5       30    11858    0.100000   \n531567   09.06.2013               5       30    11858    0.100000   \n...             ...             ...      ...      ...         ...   \n2898267  02.10.2015              33       58    15334    0.990000   \n2898268  11.10.2015              33       58    15334    0.990000   \n2898269  01.10.2015              33       58    15344    0.990000   \n2909818  28.10.2015              33       12    11373    0.908714   \n2931312  04.10.2015              33       22    15345    0.990000   \n\n         item_cnt_day  \n484683            1.0  \n531561            1.0  \n531564            1.0  \n531566            1.0  \n531567            1.0  \n...               ...  \n2898267           1.0  \n2898268           1.0  \n2898269           2.0  \n2909818        2169.0  \n2931312           1.0  \n\n[4658 rows x 6 columns]",
      "text/html": "<div>\n<style scoped>\n    .dataframe tbody tr th:only-of-type {\n        vertical-align: middle;\n    }\n\n    .dataframe tbody tr th {\n        vertical-align: top;\n    }\n\n    .dataframe thead th {\n        text-align: right;\n    }\n</style>\n<table border=\"1\" class=\"dataframe\">\n  <thead>\n    <tr style=\"text-align: right;\">\n      <th></th>\n      <th>date</th>\n      <th>date_block_num</th>\n      <th>shop_id</th>\n      <th>item_id</th>\n      <th>item_price</th>\n      <th>item_cnt_day</th>\n    </tr>\n  </thead>\n  <tbody>\n    <tr>\n      <th>484683</th>\n      <td>15.05.2013</td>\n      <td>4</td>\n      <td>32</td>\n      <td>2973</td>\n      <td>-1.000000</td>\n      <td>1.0</td>\n    </tr>\n    <tr>\n      <th>531561</th>\n      <td>16.06.2013</td>\n      <td>5</td>\n      <td>30</td>\n      <td>11859</td>\n      <td>0.100000</td>\n      <td>1.0</td>\n    </tr>\n    <tr>\n      <th>531564</th>\n      <td>13.06.2013</td>\n      <td>5</td>\n      <td>30</td>\n      <td>11855</td>\n      <td>0.100000</td>\n      <td>1.0</td>\n    </tr>\n    <tr>\n      <th>531566</th>\n      <td>06.06.2013</td>\n      <td>5</td>\n      <td>30</td>\n      <td>11858</td>\n      <td>0.100000</td>\n      <td>1.0</td>\n    </tr>\n    <tr>\n      <th>531567</th>\n      <td>09.06.2013</td>\n      <td>5</td>\n      <td>30</td>\n      <td>11858</td>\n      <td>0.100000</td>\n      <td>1.0</td>\n    </tr>\n    <tr>\n      <th>...</th>\n      <td>...</td>\n      <td>...</td>\n      <td>...</td>\n      <td>...</td>\n      <td>...</td>\n      <td>...</td>\n    </tr>\n    <tr>\n      <th>2898267</th>\n      <td>02.10.2015</td>\n      <td>33</td>\n      <td>58</td>\n      <td>15334</td>\n      <td>0.990000</td>\n      <td>1.0</td>\n    </tr>\n    <tr>\n      <th>2898268</th>\n      <td>11.10.2015</td>\n      <td>33</td>\n      <td>58</td>\n      <td>15334</td>\n      <td>0.990000</td>\n      <td>1.0</td>\n    </tr>\n    <tr>\n      <th>2898269</th>\n      <td>01.10.2015</td>\n      <td>33</td>\n      <td>58</td>\n      <td>15344</td>\n      <td>0.990000</td>\n      <td>2.0</td>\n    </tr>\n    <tr>\n      <th>2909818</th>\n      <td>28.10.2015</td>\n      <td>33</td>\n      <td>12</td>\n      <td>11373</td>\n      <td>0.908714</td>\n      <td>2169.0</td>\n    </tr>\n    <tr>\n      <th>2931312</th>\n      <td>04.10.2015</td>\n      <td>33</td>\n      <td>22</td>\n      <td>15345</td>\n      <td>0.990000</td>\n      <td>1.0</td>\n    </tr>\n  </tbody>\n</table>\n<p>4658 rows × 6 columns</p>\n</div>"
     },
     "execution_count": 336,
     "metadata": {},
     "output_type": "execute_result"
    }
   ],
   "source": [
    "sales_df[sales_df['item_price'] < 1]"
   ],
   "metadata": {
    "collapsed": false,
    "ExecuteTime": {
     "end_time": "2024-01-22T16:46:41.215370022Z",
     "start_time": "2024-01-22T16:46:41.137183739Z"
    }
   },
   "id": "af8c2edb591ca3aa",
   "execution_count": 336
  },
  {
   "cell_type": "markdown",
   "source": [
    "<font size = 5>\n",
    "\n",
    "<b> One negative value, and a lot of not realistic price as 0.1</b>\n",
    "\n",
    "</font>"
   ],
   "metadata": {
    "collapsed": false
   },
   "id": "9a7efc8cfe2d2920"
  },
  {
   "cell_type": "code",
   "outputs": [
    {
     "data": {
      "text/plain": "               date  date_block_num  shop_id  item_id  item_price  \\\n2        05.01.2013               0       25     2552       899.0   \n148      23.01.2013               0       25     2321       999.0   \n175      07.01.2013               0       25     2199      1449.0   \n807      02.01.2013               0       25     2330       599.0   \n1041     13.01.2013               0       25     5034      1989.0   \n...             ...             ...      ...      ...         ...   \n2934243  26.10.2015              33       25     3917       449.0   \n2934462  18.10.2015              33       25     4896      6398.0   \n2935263  05.10.2015              33       25    10039       249.0   \n2935643  16.10.2015              33       25     7893      2990.0   \n2935779  07.10.2015              33       25     7087       999.0   \n\n         item_cnt_day  \n2                -1.0  \n148              -1.0  \n175              -1.0  \n807              -1.0  \n1041             -1.0  \n...               ...  \n2934243          -1.0  \n2934462          -1.0  \n2935263          -1.0  \n2935643          -1.0  \n2935779          -1.0  \n\n[7356 rows x 6 columns]",
      "text/html": "<div>\n<style scoped>\n    .dataframe tbody tr th:only-of-type {\n        vertical-align: middle;\n    }\n\n    .dataframe tbody tr th {\n        vertical-align: top;\n    }\n\n    .dataframe thead th {\n        text-align: right;\n    }\n</style>\n<table border=\"1\" class=\"dataframe\">\n  <thead>\n    <tr style=\"text-align: right;\">\n      <th></th>\n      <th>date</th>\n      <th>date_block_num</th>\n      <th>shop_id</th>\n      <th>item_id</th>\n      <th>item_price</th>\n      <th>item_cnt_day</th>\n    </tr>\n  </thead>\n  <tbody>\n    <tr>\n      <th>2</th>\n      <td>05.01.2013</td>\n      <td>0</td>\n      <td>25</td>\n      <td>2552</td>\n      <td>899.0</td>\n      <td>-1.0</td>\n    </tr>\n    <tr>\n      <th>148</th>\n      <td>23.01.2013</td>\n      <td>0</td>\n      <td>25</td>\n      <td>2321</td>\n      <td>999.0</td>\n      <td>-1.0</td>\n    </tr>\n    <tr>\n      <th>175</th>\n      <td>07.01.2013</td>\n      <td>0</td>\n      <td>25</td>\n      <td>2199</td>\n      <td>1449.0</td>\n      <td>-1.0</td>\n    </tr>\n    <tr>\n      <th>807</th>\n      <td>02.01.2013</td>\n      <td>0</td>\n      <td>25</td>\n      <td>2330</td>\n      <td>599.0</td>\n      <td>-1.0</td>\n    </tr>\n    <tr>\n      <th>1041</th>\n      <td>13.01.2013</td>\n      <td>0</td>\n      <td>25</td>\n      <td>5034</td>\n      <td>1989.0</td>\n      <td>-1.0</td>\n    </tr>\n    <tr>\n      <th>...</th>\n      <td>...</td>\n      <td>...</td>\n      <td>...</td>\n      <td>...</td>\n      <td>...</td>\n      <td>...</td>\n    </tr>\n    <tr>\n      <th>2934243</th>\n      <td>26.10.2015</td>\n      <td>33</td>\n      <td>25</td>\n      <td>3917</td>\n      <td>449.0</td>\n      <td>-1.0</td>\n    </tr>\n    <tr>\n      <th>2934462</th>\n      <td>18.10.2015</td>\n      <td>33</td>\n      <td>25</td>\n      <td>4896</td>\n      <td>6398.0</td>\n      <td>-1.0</td>\n    </tr>\n    <tr>\n      <th>2935263</th>\n      <td>05.10.2015</td>\n      <td>33</td>\n      <td>25</td>\n      <td>10039</td>\n      <td>249.0</td>\n      <td>-1.0</td>\n    </tr>\n    <tr>\n      <th>2935643</th>\n      <td>16.10.2015</td>\n      <td>33</td>\n      <td>25</td>\n      <td>7893</td>\n      <td>2990.0</td>\n      <td>-1.0</td>\n    </tr>\n    <tr>\n      <th>2935779</th>\n      <td>07.10.2015</td>\n      <td>33</td>\n      <td>25</td>\n      <td>7087</td>\n      <td>999.0</td>\n      <td>-1.0</td>\n    </tr>\n  </tbody>\n</table>\n<p>7356 rows × 6 columns</p>\n</div>"
     },
     "execution_count": 337,
     "metadata": {},
     "output_type": "execute_result"
    }
   ],
   "source": [
    "sales_df[sales_df['item_cnt_day'] < 0]"
   ],
   "metadata": {
    "collapsed": false,
    "ExecuteTime": {
     "end_time": "2024-01-22T16:46:41.217887876Z",
     "start_time": "2024-01-22T16:46:41.154428320Z"
    }
   },
   "id": "ea36b05666dfa892",
   "execution_count": 337
  },
  {
   "cell_type": "markdown",
   "source": [
    "<font size = 5>\n",
    "\n",
    "<b> A log of negative values in the item_cnt_day column</b>\n",
    "\n",
    "</font>"
   ],
   "metadata": {
    "collapsed": false
   },
   "id": "b767f9d90c70a6b2"
  },
  {
   "cell_type": "markdown",
   "source": [
    "<font size = 8>\n",
    "\n",
    "**Shops**:\n",
    "\n",
    "</font>"
   ],
   "metadata": {
    "collapsed": false
   },
   "id": "76647f24dc7d0485"
  },
  {
   "cell_type": "code",
   "outputs": [
    {
     "name": "stdout",
     "output_type": "stream",
     "text": [
      "Information about data:\n",
      "\n",
      "<class 'pandas.core.frame.DataFrame'>\n",
      "RangeIndex: 60 entries, 0 to 59\n",
      "Data columns (total 2 columns):\n",
      " #   Column     Non-Null Count  Dtype \n",
      "---  ------     --------------  ----- \n",
      " 0   shop_name  60 non-null     object\n",
      " 1   shop_id    60 non-null     int64 \n",
      "dtypes: int64(1), object(1)\n",
      "memory usage: 1.1+ KB\n",
      "None\n",
      "\n",
      "==================================================\n",
      "\n",
      "Some examples of data:\n",
      "\n",
      "                        shop_name  shop_id\n",
      "0   !Якутск Орджоникидзе, 56 фран        0\n",
      "1   !Якутск ТЦ \"Центральный\" фран        1\n",
      "2                Адыгея ТЦ \"Мега\"        2\n",
      "3  Балашиха ТРК \"Октябрь-Киномир\"        3\n",
      "4        Волжский ТЦ \"Волга Молл\"        4\n",
      "5          Вологда ТРЦ \"Мармелад\"        5\n",
      "6      Воронеж (Плехановская, 13)        6\n",
      "7          Воронеж ТРЦ \"Максимир\"        7\n",
      "8    Воронеж ТРЦ Сити-Парк \"Град\"        8\n",
      "9               Выездная Торговля        9\n",
      "\n",
      "==================================================\n",
      "\n",
      "Number of unique data:\n",
      "\n",
      "shop_name    60\n",
      "shop_id      60\n",
      "dtype: int64\n",
      "\n",
      "==================================================\n",
      "\n",
      "Number of dublicated data: 0\n"
     ]
    }
   ],
   "source": [
    "shops.df_dqc.statistic()"
   ],
   "metadata": {
    "collapsed": false,
    "ExecuteTime": {
     "end_time": "2024-01-22T16:46:41.283428180Z",
     "start_time": "2024-01-22T16:46:41.174743640Z"
    }
   },
   "id": "82bcddec21108412",
   "execution_count": 338
  },
  {
   "cell_type": "code",
   "outputs": [],
   "source": [
    "shops_df = shops.df_dqc.get_data()"
   ],
   "metadata": {
    "collapsed": false,
    "ExecuteTime": {
     "end_time": "2024-01-22T16:46:41.298886649Z",
     "start_time": "2024-01-22T16:46:41.219758267Z"
    }
   },
   "id": "30d043101459485d",
   "execution_count": 339
  },
  {
   "cell_type": "code",
   "outputs": [
    {
     "data": {
      "text/plain": "                                          shop_name  shop_id\n0                     !Якутск Орджоникидзе, 56 фран        0\n1                     !Якутск ТЦ \"Центральный\" фран        1\n10                       Жуковский ул. Чкалова 39м?       10\n11                       Жуковский ул. Чкалова 39м²       11\n39            РостовНаДону ТРК \"Мегацентр Горизонт\"       39\n40  РостовНаДону ТРК \"Мегацентр Горизонт\" Островной       40\n57                          Якутск Орджоникидзе, 56       57\n58                          Якутск ТЦ \"Центральный\"       58",
      "text/html": "<div>\n<style scoped>\n    .dataframe tbody tr th:only-of-type {\n        vertical-align: middle;\n    }\n\n    .dataframe tbody tr th {\n        vertical-align: top;\n    }\n\n    .dataframe thead th {\n        text-align: right;\n    }\n</style>\n<table border=\"1\" class=\"dataframe\">\n  <thead>\n    <tr style=\"text-align: right;\">\n      <th></th>\n      <th>shop_name</th>\n      <th>shop_id</th>\n    </tr>\n  </thead>\n  <tbody>\n    <tr>\n      <th>0</th>\n      <td>!Якутск Орджоникидзе, 56 фран</td>\n      <td>0</td>\n    </tr>\n    <tr>\n      <th>1</th>\n      <td>!Якутск ТЦ \"Центральный\" фран</td>\n      <td>1</td>\n    </tr>\n    <tr>\n      <th>10</th>\n      <td>Жуковский ул. Чкалова 39м?</td>\n      <td>10</td>\n    </tr>\n    <tr>\n      <th>11</th>\n      <td>Жуковский ул. Чкалова 39м²</td>\n      <td>11</td>\n    </tr>\n    <tr>\n      <th>39</th>\n      <td>РостовНаДону ТРК \"Мегацентр Горизонт\"</td>\n      <td>39</td>\n    </tr>\n    <tr>\n      <th>40</th>\n      <td>РостовНаДону ТРК \"Мегацентр Горизонт\" Островной</td>\n      <td>40</td>\n    </tr>\n    <tr>\n      <th>57</th>\n      <td>Якутск Орджоникидзе, 56</td>\n      <td>57</td>\n    </tr>\n    <tr>\n      <th>58</th>\n      <td>Якутск ТЦ \"Центральный\"</td>\n      <td>58</td>\n    </tr>\n  </tbody>\n</table>\n</div>"
     },
     "execution_count": 340,
     "metadata": {},
     "output_type": "execute_result"
    }
   ],
   "source": [
    "shops_df[shops_df['shop_id'].isin([0, 1, 10, 11, 39, 40, 57, 58])]"
   ],
   "metadata": {
    "collapsed": false,
    "ExecuteTime": {
     "end_time": "2024-01-22T16:46:41.301250964Z",
     "start_time": "2024-01-22T16:46:41.220133416Z"
    }
   },
   "id": "6fef792e9479e490",
   "execution_count": 340
  },
  {
   "cell_type": "markdown",
   "source": [
    "<font size = 5>\n",
    "\n",
    "<b> Duplicates in store names , need to change and delete these duplicates</b>\n",
    "\n",
    "</font>"
   ],
   "metadata": {
    "collapsed": false
   },
   "id": "791a00f0b6b91fd7"
  },
  {
   "cell_type": "markdown",
   "source": [
    "<font size = 8>\n",
    "\n",
    "**Test**:\n",
    "\n",
    "</font>"
   ],
   "metadata": {
    "collapsed": false
   },
   "id": "57247c6d094f3df8"
  },
  {
   "cell_type": "code",
   "outputs": [
    {
     "name": "stdout",
     "output_type": "stream",
     "text": [
      "Information about data:\n",
      "\n",
      "<class 'pandas.core.frame.DataFrame'>\n",
      "RangeIndex: 214200 entries, 0 to 214199\n",
      "Data columns (total 3 columns):\n",
      " #   Column   Non-Null Count   Dtype\n",
      "---  ------   --------------   -----\n",
      " 0   ID       214200 non-null  int64\n",
      " 1   shop_id  214200 non-null  int64\n",
      " 2   item_id  214200 non-null  int64\n",
      "dtypes: int64(3)\n",
      "memory usage: 4.9 MB\n",
      "None\n",
      "\n",
      "==================================================\n",
      "\n",
      "Some examples of data:\n",
      "\n",
      "   ID  shop_id  item_id\n",
      "0   0        5     5037\n",
      "1   1        5     5320\n",
      "2   2        5     5233\n",
      "3   3        5     5232\n",
      "4   4        5     5268\n",
      "5   5        5     5039\n",
      "6   6        5     5041\n",
      "7   7        5     5046\n",
      "8   8        5     5319\n",
      "9   9        5     5003\n",
      "\n",
      "==================================================\n",
      "\n",
      "Number of unique data:\n",
      "\n",
      "ID         214200\n",
      "shop_id        42\n",
      "item_id      5100\n",
      "dtype: int64\n",
      "\n",
      "==================================================\n",
      "\n",
      "Number of dublicated data: 0\n"
     ]
    }
   ],
   "source": [
    "test.df_dqc.statistic()"
   ],
   "metadata": {
    "collapsed": false,
    "ExecuteTime": {
     "end_time": "2024-01-22T16:46:41.341804677Z",
     "start_time": "2024-01-22T16:46:41.220347520Z"
    }
   },
   "id": "d2fdba76cf3b8f75",
   "execution_count": 341
  },
  {
   "cell_type": "code",
   "outputs": [],
   "source": [
    "test_df = test.df_dqc.get_data()\n",
    "sales_df = sales.df_dqc.get_data()"
   ],
   "metadata": {
    "collapsed": false,
    "ExecuteTime": {
     "end_time": "2024-01-22T16:46:41.343772423Z",
     "start_time": "2024-01-22T16:46:41.263722792Z"
    }
   },
   "id": "a83b87af8e7809af",
   "execution_count": 342
  },
  {
   "cell_type": "code",
   "outputs": [],
   "source": [
    "unique_test_items = test_df['item_id'][~test_df['item_id'].isin(sales_df['item_id'].unique())].unique()\n",
    "unique_test_shops = test_df['shop_id'][~test_df['shop_id'].isin(sales_df['shop_id'].unique())].unique()"
   ],
   "metadata": {
    "collapsed": false,
    "ExecuteTime": {
     "end_time": "2024-01-22T16:46:41.345609221Z",
     "start_time": "2024-01-22T16:46:41.264117628Z"
    }
   },
   "id": "e9d66106fec3c690",
   "execution_count": 343
  },
  {
   "cell_type": "code",
   "outputs": [
    {
     "name": "stdout",
     "output_type": "stream",
     "text": [
      "Unique items in test: 363\n",
      "Unique shops in test: 0\n"
     ]
    }
   ],
   "source": [
    "print('Unique items in test: {}\\nUnique shops in test: {}'.format(len(unique_test_items), len(unique_test_shops)))"
   ],
   "metadata": {
    "collapsed": false,
    "ExecuteTime": {
     "end_time": "2024-01-22T16:46:41.372715133Z",
     "start_time": "2024-01-22T16:46:41.266612599Z"
    }
   },
   "id": "b63512caa1a560b6",
   "execution_count": 344
  },
  {
   "cell_type": "code",
   "outputs": [],
   "source": [
    "unique_train_items = sales_df['item_id'][~sales_df['item_id'].isin(test_df['item_id'].unique())].unique()\n",
    "unique_train_shops = sales_df['shop_id'][~sales_df['shop_id'].isin(test_df['shop_id'].unique())].unique()"
   ],
   "metadata": {
    "collapsed": false,
    "ExecuteTime": {
     "end_time": "2024-01-22T16:46:41.524520695Z",
     "start_time": "2024-01-22T16:46:41.271768564Z"
    }
   },
   "id": "b1c02ed2ad9313",
   "execution_count": 345
  },
  {
   "cell_type": "code",
   "outputs": [
    {
     "name": "stdout",
     "output_type": "stream",
     "text": [
      "Unique items in train: 17070\n",
      "Unique shops in train: 18\n"
     ]
    }
   ],
   "source": [
    "print('Unique items in train: {}\\nUnique shops in train: {}'.format(len(unique_train_items), len(unique_train_shops)))"
   ],
   "metadata": {
    "collapsed": false,
    "ExecuteTime": {
     "end_time": "2024-01-22T16:46:41.526304313Z",
     "start_time": "2024-01-22T16:46:41.359646877Z"
    }
   },
   "id": "88e36bd803fb266a",
   "execution_count": 346
  },
  {
   "cell_type": "markdown",
   "source": [
    "<font size = 8>\n",
    "\n",
    "**Cleaning**:\n",
    "\n",
    "</font>"
   ],
   "metadata": {
    "collapsed": false
   },
   "id": "986cd9d38f965f04"
  },
  {
   "cell_type": "code",
   "outputs": [
    {
     "name": "stdout",
     "output_type": "stream",
     "text": [
      "2935849 rows and 6 columns has been read from sales_train.csv\n"
     ]
    }
   ],
   "source": [
    "sales_1 = ETL('/home/avocad00/InnowiseTrainee/FutureSales/data/sales_train.csv')"
   ],
   "metadata": {
    "collapsed": false,
    "ExecuteTime": {
     "end_time": "2024-01-22T16:46:42.180799742Z",
     "start_time": "2024-01-22T16:46:41.360046031Z"
    }
   },
   "id": "818d859fdaac9c0",
   "execution_count": 347
  },
  {
   "cell_type": "code",
   "outputs": [
    {
     "data": {
      "text/plain": "              date  date_block_num  shop_id  item_id  item_price  item_cnt_day\n0       2013-01-02               0       59    22154      999.00           1.0\n1       2013-01-03               0       25     2552      899.00           1.0\n3       2013-01-06               0       25     2554     1709.05           1.0\n4       2013-01-15               0       25     2555     1099.00           1.0\n5       2013-01-10               0       25     2564      349.00           1.0\n...            ...             ...      ...      ...         ...           ...\n2935844 2015-10-10              33       25     7409      299.00           1.0\n2935845 2015-10-09              33       25     7460      299.00           1.0\n2935846 2015-10-14              33       25     7459      349.00           1.0\n2935847 2015-10-22              33       25     7440      299.00           1.0\n2935848 2015-10-03              33       25     7460      299.00           1.0\n\n[2928481 rows x 6 columns]",
      "text/html": "<div>\n<style scoped>\n    .dataframe tbody tr th:only-of-type {\n        vertical-align: middle;\n    }\n\n    .dataframe tbody tr th {\n        vertical-align: top;\n    }\n\n    .dataframe thead th {\n        text-align: right;\n    }\n</style>\n<table border=\"1\" class=\"dataframe\">\n  <thead>\n    <tr style=\"text-align: right;\">\n      <th></th>\n      <th>date</th>\n      <th>date_block_num</th>\n      <th>shop_id</th>\n      <th>item_id</th>\n      <th>item_price</th>\n      <th>item_cnt_day</th>\n    </tr>\n  </thead>\n  <tbody>\n    <tr>\n      <th>0</th>\n      <td>2013-01-02</td>\n      <td>0</td>\n      <td>59</td>\n      <td>22154</td>\n      <td>999.00</td>\n      <td>1.0</td>\n    </tr>\n    <tr>\n      <th>1</th>\n      <td>2013-01-03</td>\n      <td>0</td>\n      <td>25</td>\n      <td>2552</td>\n      <td>899.00</td>\n      <td>1.0</td>\n    </tr>\n    <tr>\n      <th>3</th>\n      <td>2013-01-06</td>\n      <td>0</td>\n      <td>25</td>\n      <td>2554</td>\n      <td>1709.05</td>\n      <td>1.0</td>\n    </tr>\n    <tr>\n      <th>4</th>\n      <td>2013-01-15</td>\n      <td>0</td>\n      <td>25</td>\n      <td>2555</td>\n      <td>1099.00</td>\n      <td>1.0</td>\n    </tr>\n    <tr>\n      <th>5</th>\n      <td>2013-01-10</td>\n      <td>0</td>\n      <td>25</td>\n      <td>2564</td>\n      <td>349.00</td>\n      <td>1.0</td>\n    </tr>\n    <tr>\n      <th>...</th>\n      <td>...</td>\n      <td>...</td>\n      <td>...</td>\n      <td>...</td>\n      <td>...</td>\n      <td>...</td>\n    </tr>\n    <tr>\n      <th>2935844</th>\n      <td>2015-10-10</td>\n      <td>33</td>\n      <td>25</td>\n      <td>7409</td>\n      <td>299.00</td>\n      <td>1.0</td>\n    </tr>\n    <tr>\n      <th>2935845</th>\n      <td>2015-10-09</td>\n      <td>33</td>\n      <td>25</td>\n      <td>7460</td>\n      <td>299.00</td>\n      <td>1.0</td>\n    </tr>\n    <tr>\n      <th>2935846</th>\n      <td>2015-10-14</td>\n      <td>33</td>\n      <td>25</td>\n      <td>7459</td>\n      <td>349.00</td>\n      <td>1.0</td>\n    </tr>\n    <tr>\n      <th>2935847</th>\n      <td>2015-10-22</td>\n      <td>33</td>\n      <td>25</td>\n      <td>7440</td>\n      <td>299.00</td>\n      <td>1.0</td>\n    </tr>\n    <tr>\n      <th>2935848</th>\n      <td>2015-10-03</td>\n      <td>33</td>\n      <td>25</td>\n      <td>7460</td>\n      <td>299.00</td>\n      <td>1.0</td>\n    </tr>\n  </tbody>\n</table>\n<p>2928481 rows × 6 columns</p>\n</div>"
     },
     "execution_count": 348,
     "metadata": {},
     "output_type": "execute_result"
    }
   ],
   "source": [
    "sales_1.df_dqc.train_fix()"
   ],
   "metadata": {
    "collapsed": false,
    "ExecuteTime": {
     "end_time": "2024-01-22T16:46:43.253135885Z",
     "start_time": "2024-01-22T16:46:42.179317403Z"
    }
   },
   "id": "e27ba9e370120006",
   "execution_count": 348
  },
  {
   "cell_type": "code",
   "outputs": [
    {
     "name": "stdout",
     "output_type": "stream",
     "text": [
      "Number of outliers: 28512\n",
      "Number of outliers: 28512\n"
     ]
    },
    {
     "data": {
      "text/plain": "              date  date_block_num  shop_id  item_id  item_price  \\\n0       2013-01-02               0       59    22154      999.00   \n1       2013-01-03               0       25     2552      899.00   \n3       2013-01-06               0       25     2554     1709.05   \n4       2013-01-15               0       25     2555     1099.00   \n5       2013-01-10               0       25     2564      349.00   \n...            ...             ...      ...      ...         ...   \n2935844 2015-10-10              33       25     7409      299.00   \n2935845 2015-10-09              33       25     7460      299.00   \n2935846 2015-10-14              33       25     7459      349.00   \n2935847 2015-10-22              33       25     7440      299.00   \n2935848 2015-10-03              33       25     7460      299.00   \n\n         item_cnt_day   z_score  \n0                 1.0  0.063854  \n1                 1.0  0.005633  \n3                 1.0  0.477259  \n4                 1.0  0.122076  \n5                 1.0 -0.314588  \n...               ...       ...  \n2935844           1.0 -0.343699  \n2935845           1.0 -0.343699  \n2935846           1.0 -0.314588  \n2935847           1.0 -0.343699  \n2935848           1.0 -0.343699  \n\n[2928481 rows x 7 columns]",
      "text/html": "<div>\n<style scoped>\n    .dataframe tbody tr th:only-of-type {\n        vertical-align: middle;\n    }\n\n    .dataframe tbody tr th {\n        vertical-align: top;\n    }\n\n    .dataframe thead th {\n        text-align: right;\n    }\n</style>\n<table border=\"1\" class=\"dataframe\">\n  <thead>\n    <tr style=\"text-align: right;\">\n      <th></th>\n      <th>date</th>\n      <th>date_block_num</th>\n      <th>shop_id</th>\n      <th>item_id</th>\n      <th>item_price</th>\n      <th>item_cnt_day</th>\n      <th>z_score</th>\n    </tr>\n  </thead>\n  <tbody>\n    <tr>\n      <th>0</th>\n      <td>2013-01-02</td>\n      <td>0</td>\n      <td>59</td>\n      <td>22154</td>\n      <td>999.00</td>\n      <td>1.0</td>\n      <td>0.063854</td>\n    </tr>\n    <tr>\n      <th>1</th>\n      <td>2013-01-03</td>\n      <td>0</td>\n      <td>25</td>\n      <td>2552</td>\n      <td>899.00</td>\n      <td>1.0</td>\n      <td>0.005633</td>\n    </tr>\n    <tr>\n      <th>3</th>\n      <td>2013-01-06</td>\n      <td>0</td>\n      <td>25</td>\n      <td>2554</td>\n      <td>1709.05</td>\n      <td>1.0</td>\n      <td>0.477259</td>\n    </tr>\n    <tr>\n      <th>4</th>\n      <td>2013-01-15</td>\n      <td>0</td>\n      <td>25</td>\n      <td>2555</td>\n      <td>1099.00</td>\n      <td>1.0</td>\n      <td>0.122076</td>\n    </tr>\n    <tr>\n      <th>5</th>\n      <td>2013-01-10</td>\n      <td>0</td>\n      <td>25</td>\n      <td>2564</td>\n      <td>349.00</td>\n      <td>1.0</td>\n      <td>-0.314588</td>\n    </tr>\n    <tr>\n      <th>...</th>\n      <td>...</td>\n      <td>...</td>\n      <td>...</td>\n      <td>...</td>\n      <td>...</td>\n      <td>...</td>\n      <td>...</td>\n    </tr>\n    <tr>\n      <th>2935844</th>\n      <td>2015-10-10</td>\n      <td>33</td>\n      <td>25</td>\n      <td>7409</td>\n      <td>299.00</td>\n      <td>1.0</td>\n      <td>-0.343699</td>\n    </tr>\n    <tr>\n      <th>2935845</th>\n      <td>2015-10-09</td>\n      <td>33</td>\n      <td>25</td>\n      <td>7460</td>\n      <td>299.00</td>\n      <td>1.0</td>\n      <td>-0.343699</td>\n    </tr>\n    <tr>\n      <th>2935846</th>\n      <td>2015-10-14</td>\n      <td>33</td>\n      <td>25</td>\n      <td>7459</td>\n      <td>349.00</td>\n      <td>1.0</td>\n      <td>-0.314588</td>\n    </tr>\n    <tr>\n      <th>2935847</th>\n      <td>2015-10-22</td>\n      <td>33</td>\n      <td>25</td>\n      <td>7440</td>\n      <td>299.00</td>\n      <td>1.0</td>\n      <td>-0.343699</td>\n    </tr>\n    <tr>\n      <th>2935848</th>\n      <td>2015-10-03</td>\n      <td>33</td>\n      <td>25</td>\n      <td>7460</td>\n      <td>299.00</td>\n      <td>1.0</td>\n      <td>-0.343699</td>\n    </tr>\n  </tbody>\n</table>\n<p>2928481 rows × 7 columns</p>\n</div>"
     },
     "execution_count": 349,
     "metadata": {},
     "output_type": "execute_result"
    }
   ],
   "source": [
    "sales_1.df_dqc.z_score(column_name='item_price')\n",
    "sales_1.df_dqc.standard_deviation(column_name='item_price')\n",
    "sales_1.df_dqc.isolation_forest(column_name_list=['item_price', 'item_cnt_day'])"
   ],
   "metadata": {
    "collapsed": false,
    "ExecuteTime": {
     "end_time": "2024-01-22T16:46:52.176044148Z",
     "start_time": "2024-01-22T16:46:43.248516853Z"
    }
   },
   "id": "78087730717dbac2",
   "execution_count": 349
  },
  {
   "cell_type": "code",
   "outputs": [
    {
     "name": "stdout",
     "output_type": "stream",
     "text": [
      "Number of outliers: 28512\n"
     ]
    }
   ],
   "source": [
    "sales_1.df_dqc.standard_deviation(column_name='item_price', change=True)"
   ],
   "metadata": {
    "collapsed": false,
    "ExecuteTime": {
     "end_time": "2024-01-22T16:46:52.316502715Z",
     "start_time": "2024-01-22T16:46:52.176819372Z"
    }
   },
   "id": "e466448e4b153eab",
   "execution_count": 350
  },
  {
   "cell_type": "code",
   "outputs": [],
   "source": [
    "sales_df = sales.df_dqc.get_data()"
   ],
   "metadata": {
    "collapsed": false,
    "ExecuteTime": {
     "end_time": "2024-01-22T16:46:52.338956382Z",
     "start_time": "2024-01-22T16:46:52.312996614Z"
    }
   },
   "id": "445792bcad7ebf9f",
   "execution_count": 351
  },
  {
   "cell_type": "code",
   "outputs": [
    {
     "data": {
      "text/plain": "<Figure size 640x480 with 1 Axes>",
      "image/png": "[encoded data removed]"
     },
     "metadata": {},
     "output_type": "display_data"
    }
   ],
   "source": [
    "sales_1.df_dqc.boxplot('item_price')"
   ],
   "metadata": {
    "collapsed": false,
    "ExecuteTime": {
     "end_time": "2024-01-22T16:46:55.488181571Z",
     "start_time": "2024-01-22T16:46:52.320534227Z"
    }
   },
   "id": "76bfa22d110f9f49",
   "execution_count": 352
  },
  {
   "cell_type": "code",
   "outputs": [
    {
     "data": {
      "text/plain": "<Figure size 640x480 with 1 Axes>",
      "image/png": "[encoded data removed]"
     },
     "metadata": {},
     "output_type": "display_data"
    }
   ],
   "source": [
    "sales_1.df_dqc.boxplot('item_cnt_day')"
   ],
   "metadata": {
    "collapsed": false,
    "ExecuteTime": {
     "end_time": "2024-01-22T16:46:58.707639323Z",
     "start_time": "2024-01-22T16:46:55.485659168Z"
    }
   },
   "id": "889e4765dacb2379",
   "execution_count": 353
  },
  {
   "cell_type": "code",
   "outputs": [
    {
     "data": {
      "text/plain": "               date  date_block_num  shop_id  item_id  item_price  \\\n484683   15.05.2013               4       32     2973   -1.000000   \n531561   16.06.2013               5       30    11859    0.100000   \n531564   13.06.2013               5       30    11855    0.100000   \n531566   06.06.2013               5       30    11858    0.100000   \n531567   09.06.2013               5       30    11858    0.100000   \n...             ...             ...      ...      ...         ...   \n2898267  02.10.2015              33       58    15334    0.990000   \n2898268  11.10.2015              33       58    15334    0.990000   \n2898269  01.10.2015              33       58    15344    0.990000   \n2909818  28.10.2015              33       12    11373    0.908714   \n2931312  04.10.2015              33       22    15345    0.990000   \n\n         item_cnt_day  \n484683            1.0  \n531561            1.0  \n531564            1.0  \n531566            1.0  \n531567            1.0  \n...               ...  \n2898267           1.0  \n2898268           1.0  \n2898269           2.0  \n2909818        2169.0  \n2931312           1.0  \n\n[4658 rows x 6 columns]",
      "text/html": "<div>\n<style scoped>\n    .dataframe tbody tr th:only-of-type {\n        vertical-align: middle;\n    }\n\n    .dataframe tbody tr th {\n        vertical-align: top;\n    }\n\n    .dataframe thead th {\n        text-align: right;\n    }\n</style>\n<table border=\"1\" class=\"dataframe\">\n  <thead>\n    <tr style=\"text-align: right;\">\n      <th></th>\n      <th>date</th>\n      <th>date_block_num</th>\n      <th>shop_id</th>\n      <th>item_id</th>\n      <th>item_price</th>\n      <th>item_cnt_day</th>\n    </tr>\n  </thead>\n  <tbody>\n    <tr>\n      <th>484683</th>\n      <td>15.05.2013</td>\n      <td>4</td>\n      <td>32</td>\n      <td>2973</td>\n      <td>-1.000000</td>\n      <td>1.0</td>\n    </tr>\n    <tr>\n      <th>531561</th>\n      <td>16.06.2013</td>\n      <td>5</td>\n      <td>30</td>\n      <td>11859</td>\n      <td>0.100000</td>\n      <td>1.0</td>\n    </tr>\n    <tr>\n      <th>531564</th>\n      <td>13.06.2013</td>\n      <td>5</td>\n      <td>30</td>\n      <td>11855</td>\n      <td>0.100000</td>\n      <td>1.0</td>\n    </tr>\n    <tr>\n      <th>531566</th>\n      <td>06.06.2013</td>\n      <td>5</td>\n      <td>30</td>\n      <td>11858</td>\n      <td>0.100000</td>\n      <td>1.0</td>\n    </tr>\n    <tr>\n      <th>531567</th>\n      <td>09.06.2013</td>\n      <td>5</td>\n      <td>30</td>\n      <td>11858</td>\n      <td>0.100000</td>\n      <td>1.0</td>\n    </tr>\n    <tr>\n      <th>...</th>\n      <td>...</td>\n      <td>...</td>\n      <td>...</td>\n      <td>...</td>\n      <td>...</td>\n      <td>...</td>\n    </tr>\n    <tr>\n      <th>2898267</th>\n      <td>02.10.2015</td>\n      <td>33</td>\n      <td>58</td>\n      <td>15334</td>\n      <td>0.990000</td>\n      <td>1.0</td>\n    </tr>\n    <tr>\n      <th>2898268</th>\n      <td>11.10.2015</td>\n      <td>33</td>\n      <td>58</td>\n      <td>15334</td>\n      <td>0.990000</td>\n      <td>1.0</td>\n    </tr>\n    <tr>\n      <th>2898269</th>\n      <td>01.10.2015</td>\n      <td>33</td>\n      <td>58</td>\n      <td>15344</td>\n      <td>0.990000</td>\n      <td>2.0</td>\n    </tr>\n    <tr>\n      <th>2909818</th>\n      <td>28.10.2015</td>\n      <td>33</td>\n      <td>12</td>\n      <td>11373</td>\n      <td>0.908714</td>\n      <td>2169.0</td>\n    </tr>\n    <tr>\n      <th>2931312</th>\n      <td>04.10.2015</td>\n      <td>33</td>\n      <td>22</td>\n      <td>15345</td>\n      <td>0.990000</td>\n      <td>1.0</td>\n    </tr>\n  </tbody>\n</table>\n<p>4658 rows × 6 columns</p>\n</div>"
     },
     "execution_count": 354,
     "metadata": {},
     "output_type": "execute_result"
    }
   ],
   "source": [
    "sales_df[sales_df['item_price'] < 1]"
   ],
   "metadata": {
    "collapsed": false,
    "ExecuteTime": {
     "end_time": "2024-01-22T16:46:58.723631761Z",
     "start_time": "2024-01-22T16:46:58.705890832Z"
    }
   },
   "id": "62720ba98fe33dd3",
   "execution_count": 354
  },
  {
   "cell_type": "code",
   "outputs": [
    {
     "name": "stdout",
     "output_type": "stream",
     "text": [
      "2935849 rows and 6 columns has been read from sales_train.csv\n"
     ]
    }
   ],
   "source": [
    "sales_1 = ETL('/home/avocad00/InnowiseTrainee/FutureSales/data/sales_train.csv')"
   ],
   "metadata": {
    "collapsed": false,
    "ExecuteTime": {
     "end_time": "2024-01-22T16:46:59.650249345Z",
     "start_time": "2024-01-22T16:46:58.717911359Z"
    }
   },
   "id": "c1845b38fab95dea",
   "execution_count": 355
  },
  {
   "cell_type": "code",
   "outputs": [
    {
     "data": {
      "text/plain": "              date  date_block_num  shop_id  item_id  item_price  item_cnt_day\n0       2013-01-02               0       59    22154      999.00           1.0\n1       2013-01-03               0       25     2552      899.00           1.0\n3       2013-01-06               0       25     2554     1709.05           1.0\n4       2013-01-15               0       25     2555     1099.00           1.0\n5       2013-01-10               0       25     2564      349.00           1.0\n...            ...             ...      ...      ...         ...           ...\n2935844 2015-10-10              33       25     7409      299.00           1.0\n2935845 2015-10-09              33       25     7460      299.00           1.0\n2935846 2015-10-14              33       25     7459      349.00           1.0\n2935847 2015-10-22              33       25     7440      299.00           1.0\n2935848 2015-10-03              33       25     7460      299.00           1.0\n\n[2928481 rows x 6 columns]",
      "text/html": "<div>\n<style scoped>\n    .dataframe tbody tr th:only-of-type {\n        vertical-align: middle;\n    }\n\n    .dataframe tbody tr th {\n        vertical-align: top;\n    }\n\n    .dataframe thead th {\n        text-align: right;\n    }\n</style>\n<table border=\"1\" class=\"dataframe\">\n  <thead>\n    <tr style=\"text-align: right;\">\n      <th></th>\n      <th>date</th>\n      <th>date_block_num</th>\n      <th>shop_id</th>\n      <th>item_id</th>\n      <th>item_price</th>\n      <th>item_cnt_day</th>\n    </tr>\n  </thead>\n  <tbody>\n    <tr>\n      <th>0</th>\n      <td>2013-01-02</td>\n      <td>0</td>\n      <td>59</td>\n      <td>22154</td>\n      <td>999.00</td>\n      <td>1.0</td>\n    </tr>\n    <tr>\n      <th>1</th>\n      <td>2013-01-03</td>\n      <td>0</td>\n      <td>25</td>\n      <td>2552</td>\n      <td>899.00</td>\n      <td>1.0</td>\n    </tr>\n    <tr>\n      <th>3</th>\n      <td>2013-01-06</td>\n      <td>0</td>\n      <td>25</td>\n      <td>2554</td>\n      <td>1709.05</td>\n      <td>1.0</td>\n    </tr>\n    <tr>\n      <th>4</th>\n      <td>2013-01-15</td>\n      <td>0</td>\n      <td>25</td>\n      <td>2555</td>\n      <td>1099.00</td>\n      <td>1.0</td>\n    </tr>\n    <tr>\n      <th>5</th>\n      <td>2013-01-10</td>\n      <td>0</td>\n      <td>25</td>\n      <td>2564</td>\n      <td>349.00</td>\n      <td>1.0</td>\n    </tr>\n    <tr>\n      <th>...</th>\n      <td>...</td>\n      <td>...</td>\n      <td>...</td>\n      <td>...</td>\n      <td>...</td>\n      <td>...</td>\n    </tr>\n    <tr>\n      <th>2935844</th>\n      <td>2015-10-10</td>\n      <td>33</td>\n      <td>25</td>\n      <td>7409</td>\n      <td>299.00</td>\n      <td>1.0</td>\n    </tr>\n    <tr>\n      <th>2935845</th>\n      <td>2015-10-09</td>\n      <td>33</td>\n      <td>25</td>\n      <td>7460</td>\n      <td>299.00</td>\n      <td>1.0</td>\n    </tr>\n    <tr>\n      <th>2935846</th>\n      <td>2015-10-14</td>\n      <td>33</td>\n      <td>25</td>\n      <td>7459</td>\n      <td>349.00</td>\n      <td>1.0</td>\n    </tr>\n    <tr>\n      <th>2935847</th>\n      <td>2015-10-22</td>\n      <td>33</td>\n      <td>25</td>\n      <td>7440</td>\n      <td>299.00</td>\n      <td>1.0</td>\n    </tr>\n    <tr>\n      <th>2935848</th>\n      <td>2015-10-03</td>\n      <td>33</td>\n      <td>25</td>\n      <td>7460</td>\n      <td>299.00</td>\n      <td>1.0</td>\n    </tr>\n  </tbody>\n</table>\n<p>2928481 rows × 6 columns</p>\n</div>"
     },
     "execution_count": 356,
     "metadata": {},
     "output_type": "execute_result"
    }
   ],
   "source": [
    "sales_1.df_dqc.train_fix()"
   ],
   "metadata": {
    "collapsed": false,
    "ExecuteTime": {
     "end_time": "2024-01-22T16:47:00.538807194Z",
     "start_time": "2024-01-22T16:46:59.663093157Z"
    }
   },
   "id": "6b7b0479059e9896",
   "execution_count": 356
  },
  {
   "cell_type": "code",
   "outputs": [
    {
     "data": {
      "text/plain": "              date  date_block_num  shop_id  item_id  item_price  item_cnt_day\n0       2013-01-02               0       59    22154      999.00           1.0\n1       2013-01-03               0       25     2552      899.00           1.0\n3       2013-01-06               0       25     2554     1709.05           1.0\n4       2013-01-15               0       25     2555     1099.00           1.0\n5       2013-01-10               0       25     2564      349.00           1.0\n...            ...             ...      ...      ...         ...           ...\n2935844 2015-10-10              33       25     7409      299.00           1.0\n2935845 2015-10-09              33       25     7460      299.00           1.0\n2935846 2015-10-14              33       25     7459      349.00           1.0\n2935847 2015-10-22              33       25     7440      299.00           1.0\n2935848 2015-10-03              33       25     7460      299.00           1.0\n\n[2604160 rows x 6 columns]",
      "text/html": "<div>\n<style scoped>\n    .dataframe tbody tr th:only-of-type {\n        vertical-align: middle;\n    }\n\n    .dataframe tbody tr th {\n        vertical-align: top;\n    }\n\n    .dataframe thead th {\n        text-align: right;\n    }\n</style>\n<table border=\"1\" class=\"dataframe\">\n  <thead>\n    <tr style=\"text-align: right;\">\n      <th></th>\n      <th>date</th>\n      <th>date_block_num</th>\n      <th>shop_id</th>\n      <th>item_id</th>\n      <th>item_price</th>\n      <th>item_cnt_day</th>\n    </tr>\n  </thead>\n  <tbody>\n    <tr>\n      <th>0</th>\n      <td>2013-01-02</td>\n      <td>0</td>\n      <td>59</td>\n      <td>22154</td>\n      <td>999.00</td>\n      <td>1.0</td>\n    </tr>\n    <tr>\n      <th>1</th>\n      <td>2013-01-03</td>\n      <td>0</td>\n      <td>25</td>\n      <td>2552</td>\n      <td>899.00</td>\n      <td>1.0</td>\n    </tr>\n    <tr>\n      <th>3</th>\n      <td>2013-01-06</td>\n      <td>0</td>\n      <td>25</td>\n      <td>2554</td>\n      <td>1709.05</td>\n      <td>1.0</td>\n    </tr>\n    <tr>\n      <th>4</th>\n      <td>2013-01-15</td>\n      <td>0</td>\n      <td>25</td>\n      <td>2555</td>\n      <td>1099.00</td>\n      <td>1.0</td>\n    </tr>\n    <tr>\n      <th>5</th>\n      <td>2013-01-10</td>\n      <td>0</td>\n      <td>25</td>\n      <td>2564</td>\n      <td>349.00</td>\n      <td>1.0</td>\n    </tr>\n    <tr>\n      <th>...</th>\n      <td>...</td>\n      <td>...</td>\n      <td>...</td>\n      <td>...</td>\n      <td>...</td>\n      <td>...</td>\n    </tr>\n    <tr>\n      <th>2935844</th>\n      <td>2015-10-10</td>\n      <td>33</td>\n      <td>25</td>\n      <td>7409</td>\n      <td>299.00</td>\n      <td>1.0</td>\n    </tr>\n    <tr>\n      <th>2935845</th>\n      <td>2015-10-09</td>\n      <td>33</td>\n      <td>25</td>\n      <td>7460</td>\n      <td>299.00</td>\n      <td>1.0</td>\n    </tr>\n    <tr>\n      <th>2935846</th>\n      <td>2015-10-14</td>\n      <td>33</td>\n      <td>25</td>\n      <td>7459</td>\n      <td>349.00</td>\n      <td>1.0</td>\n    </tr>\n    <tr>\n      <th>2935847</th>\n      <td>2015-10-22</td>\n      <td>33</td>\n      <td>25</td>\n      <td>7440</td>\n      <td>299.00</td>\n      <td>1.0</td>\n    </tr>\n    <tr>\n      <th>2935848</th>\n      <td>2015-10-03</td>\n      <td>33</td>\n      <td>25</td>\n      <td>7460</td>\n      <td>299.00</td>\n      <td>1.0</td>\n    </tr>\n  </tbody>\n</table>\n<p>2604160 rows × 6 columns</p>\n</div>"
     },
     "execution_count": 357,
     "metadata": {},
     "output_type": "execute_result"
    }
   ],
   "source": [
    "sales_1.df_dqc.isolation_forest(column_name_list=['item_price', 'item_cnt_day'], change=True)"
   ],
   "metadata": {
    "collapsed": false,
    "ExecuteTime": {
     "end_time": "2024-01-22T16:47:11.115702569Z",
     "start_time": "2024-01-22T16:47:00.534561908Z"
    }
   },
   "id": "46993d633fe28867",
   "execution_count": 357
  },
  {
   "cell_type": "code",
   "outputs": [
    {
     "data": {
      "text/plain": "<Figure size 640x480 with 1 Axes>",
      "image/png": "[encoded data removed]"
     },
     "metadata": {},
     "output_type": "display_data"
    }
   ],
   "source": [
    "sales_1.df_dqc.boxplot('item_price')"
   ],
   "metadata": {
    "collapsed": false,
    "ExecuteTime": {
     "end_time": "2024-01-22T16:47:13.909714107Z",
     "start_time": "2024-01-22T16:47:11.111360100Z"
    }
   },
   "id": "10aea65df76a7fda",
   "execution_count": 358
  },
  {
   "cell_type": "code",
   "outputs": [],
   "source": [
    "sales_1_df = sales_1.df_dqc.get_data()"
   ],
   "metadata": {
    "collapsed": false,
    "ExecuteTime": {
     "end_time": "2024-01-22T16:47:13.913507700Z",
     "start_time": "2024-01-22T16:47:13.910286859Z"
    }
   },
   "id": "2d10cdf1f53f8713",
   "execution_count": 359
  },
  {
   "cell_type": "code",
   "outputs": [
    {
     "data": {
      "text/plain": "              date  date_block_num  shop_id  item_id  item_price  item_cnt_day\n531561  2013-06-16               5       30    11859        0.10           1.0\n531564  2013-06-13               5       30    11855        0.10           1.0\n531566  2013-06-06               5       30    11858        0.10           1.0\n531567  2013-06-09               5       30    11858        0.10           1.0\n531568  2013-06-14               5       30    11858        0.10           1.0\n...            ...             ...      ...      ...         ...           ...\n2885073 2015-10-01              33       44    15345        0.99           1.0\n2898266 2015-10-01              33       58    15334        0.99           1.0\n2898267 2015-10-02              33       58    15334        0.99           1.0\n2898268 2015-10-11              33       58    15334        0.99           1.0\n2931312 2015-10-04              33       22    15345        0.99           1.0\n\n[3731 rows x 6 columns]",
      "text/html": "<div>\n<style scoped>\n    .dataframe tbody tr th:only-of-type {\n        vertical-align: middle;\n    }\n\n    .dataframe tbody tr th {\n        vertical-align: top;\n    }\n\n    .dataframe thead th {\n        text-align: right;\n    }\n</style>\n<table border=\"1\" class=\"dataframe\">\n  <thead>\n    <tr style=\"text-align: right;\">\n      <th></th>\n      <th>date</th>\n      <th>date_block_num</th>\n      <th>shop_id</th>\n      <th>item_id</th>\n      <th>item_price</th>\n      <th>item_cnt_day</th>\n    </tr>\n  </thead>\n  <tbody>\n    <tr>\n      <th>531561</th>\n      <td>2013-06-16</td>\n      <td>5</td>\n      <td>30</td>\n      <td>11859</td>\n      <td>0.10</td>\n      <td>1.0</td>\n    </tr>\n    <tr>\n      <th>531564</th>\n      <td>2013-06-13</td>\n      <td>5</td>\n      <td>30</td>\n      <td>11855</td>\n      <td>0.10</td>\n      <td>1.0</td>\n    </tr>\n    <tr>\n      <th>531566</th>\n      <td>2013-06-06</td>\n      <td>5</td>\n      <td>30</td>\n      <td>11858</td>\n      <td>0.10</td>\n      <td>1.0</td>\n    </tr>\n    <tr>\n      <th>531567</th>\n      <td>2013-06-09</td>\n      <td>5</td>\n      <td>30</td>\n      <td>11858</td>\n      <td>0.10</td>\n      <td>1.0</td>\n    </tr>\n    <tr>\n      <th>531568</th>\n      <td>2013-06-14</td>\n      <td>5</td>\n      <td>30</td>\n      <td>11858</td>\n      <td>0.10</td>\n      <td>1.0</td>\n    </tr>\n    <tr>\n      <th>...</th>\n      <td>...</td>\n      <td>...</td>\n      <td>...</td>\n      <td>...</td>\n      <td>...</td>\n      <td>...</td>\n    </tr>\n    <tr>\n      <th>2885073</th>\n      <td>2015-10-01</td>\n      <td>33</td>\n      <td>44</td>\n      <td>15345</td>\n      <td>0.99</td>\n      <td>1.0</td>\n    </tr>\n    <tr>\n      <th>2898266</th>\n      <td>2015-10-01</td>\n      <td>33</td>\n      <td>58</td>\n      <td>15334</td>\n      <td>0.99</td>\n      <td>1.0</td>\n    </tr>\n    <tr>\n      <th>2898267</th>\n      <td>2015-10-02</td>\n      <td>33</td>\n      <td>58</td>\n      <td>15334</td>\n      <td>0.99</td>\n      <td>1.0</td>\n    </tr>\n    <tr>\n      <th>2898268</th>\n      <td>2015-10-11</td>\n      <td>33</td>\n      <td>58</td>\n      <td>15334</td>\n      <td>0.99</td>\n      <td>1.0</td>\n    </tr>\n    <tr>\n      <th>2931312</th>\n      <td>2015-10-04</td>\n      <td>33</td>\n      <td>22</td>\n      <td>15345</td>\n      <td>0.99</td>\n      <td>1.0</td>\n    </tr>\n  </tbody>\n</table>\n<p>3731 rows × 6 columns</p>\n</div>"
     },
     "execution_count": 360,
     "metadata": {},
     "output_type": "execute_result"
    }
   ],
   "source": [
    "sales_1_df[sales_1_df['item_price'] < 1]"
   ],
   "metadata": {
    "collapsed": false,
    "ExecuteTime": {
     "end_time": "2024-01-22T16:47:14.011039641Z",
     "start_time": "2024-01-22T16:47:13.915163757Z"
    }
   },
   "id": "c22f46830b241750",
   "execution_count": 360
  },
  {
   "cell_type": "code",
   "outputs": [
    {
     "name": "stdout",
     "output_type": "stream",
     "text": [
      "60 rows and 2 columns has been read from shops.csv\n"
     ]
    }
   ],
   "source": [
    "shops_1 = ETL('/home/avocad00/InnowiseTrainee/FutureSales/data/shops.csv')"
   ],
   "metadata": {
    "collapsed": false,
    "ExecuteTime": {
     "end_time": "2024-01-22T16:47:14.013235628Z",
     "start_time": "2024-01-22T16:47:13.962006626Z"
    }
   },
   "id": "e73e4a92568d92c",
   "execution_count": 361
  },
  {
   "cell_type": "code",
   "outputs": [
    {
     "data": {
      "text/plain": "                                shop_name  shop_id              city\n2                        Адыгея ТЦ \"Мега\"        2            Адыгея\n3          Балашиха ТРК \"Октябрь-Киномир\"        3          Балашиха\n4                Волжский ТЦ \"Волга Молл\"        4          Волжский\n5                  Вологда ТРЦ \"Мармелад\"        5           Вологда\n6              Воронеж (Плехановская, 13)        6           Воронеж\n7                  Воронеж ТРЦ \"Максимир\"        7           Воронеж\n8            Воронеж ТРЦ Сити-Парк \"Град\"        8           Воронеж\n9                       Выездная Торговля        9          Выездная\n11             Жуковский ул. Чкалова 39м²       11         Жуковский\n12                    Интернет-магазин ЧС       12  Интернет-магазин\n13                    Казань ТЦ \"Бехетле\"       13            Казань\n14                Казань ТЦ \"ПаркХаус\" II       14            Казань\n15                   Калуга ТРЦ \"XXI век\"       15            Калуга\n16                       Коломна ТЦ \"Рио\"       16           Коломна\n17          Красноярск ТЦ \"Взлетка Плаза\"       17        Красноярск\n18                   Красноярск ТЦ \"Июнь\"       18        Красноярск\n19                  Курск ТЦ \"Пушкинский\"       19             Курск\n20                    Москва \"Распродажа\"       20            Москва\n21                 Москва МТРЦ \"Афи Молл\"       21            Москва\n22                     Москва Магазин С21       22            Москва\n23       Москва ТК \"Буденовский\" (пав.А2)       23            Москва\n24       Москва ТК \"Буденовский\" (пав.К7)       24            Москва\n25                    Москва ТРК \"Атриум\"       25            Москва\n26            Москва ТЦ \"Ареал\" (Беляево)       26            Москва\n27         Москва ТЦ \"МЕГА Белая Дача II\"       27            Москва\n28        Москва ТЦ \"МЕГА Теплый Стан\" II       28            Москва\n29     Москва ТЦ \"Новый век\" (Новокосино)       29            Москва\n30                 Москва ТЦ \"Перловский\"       30            Москва\n31                Москва ТЦ \"Семеновский\"       31            Москва\n32             Москва ТЦ \"Серебряный Дом\"       32            Москва\n33                      Мытищи ТРК \"XL-3\"       33            Мытищи\n34                   Н.Новгород ТРЦ \"РИО\"       34        Н.Новгород\n35            Н.Новгород ТРЦ \"Фантастика\"       35        Н.Новгород\n36  Новосибирск ТРЦ \"Галерея Новосибирск\"       36       Новосибирск\n37                  Новосибирск ТЦ \"Мега\"       37       Новосибирск\n38                         Омск ТЦ \"Мега\"       38              Омск\n39  РостовНаДону ТРК \"Мегацентр Горизонт\"       39      РостовНаДону\n41                 РостовНаДону ТЦ \"Мега\"       41      РостовНаДону\n42                 СПб ТК \"Невский Центр\"       42               СПб\n43                        СПб ТК \"Сенная\"       43               СПб\n44                    Самара ТЦ \"Мелодия\"       44            Самара\n45                   Самара ТЦ \"ПаркХаус\"       45            Самара\n46                   СергиевПосад ТЦ \"7Я\"       46      СергиевПосад\n47                 Сургут ТРЦ \"Сити Молл\"       47            Сургут\n48           Томск ТРЦ \"Изумрудный Город\"       48             Томск\n49                  Тюмень ТРЦ \"Кристалл\"       49            Тюмень\n50                     Тюмень ТЦ \"Гудвин\"       50            Тюмень\n51              Тюмень ТЦ \"Зеленый Берег\"       51            Тюмень\n52                   Уфа ТК \"Центральный\"       52               Уфа\n53                       Уфа ТЦ \"Семья\" 2       53               Уфа\n54                        Химки ТЦ \"Мега\"       54             Химки\n55               Цифровой склад 1С-Онлайн       55          Цифровой\n56                   Чехов ТРЦ \"Карнавал\"       56             Чехов\n57                Якутск Орджоникидзе, 56       57            Якутск\n58                Якутск ТЦ \"Центральный\"       58            Якутск\n59                 Ярославль ТЦ \"Альтаир\"       59         Ярославль",
      "text/html": "<div>\n<style scoped>\n    .dataframe tbody tr th:only-of-type {\n        vertical-align: middle;\n    }\n\n    .dataframe tbody tr th {\n        vertical-align: top;\n    }\n\n    .dataframe thead th {\n        text-align: right;\n    }\n</style>\n<table border=\"1\" class=\"dataframe\">\n  <thead>\n    <tr style=\"text-align: right;\">\n      <th></th>\n      <th>shop_name</th>\n      <th>shop_id</th>\n      <th>city</th>\n    </tr>\n  </thead>\n  <tbody>\n    <tr>\n      <th>2</th>\n      <td>Адыгея ТЦ \"Мега\"</td>\n      <td>2</td>\n      <td>Адыгея</td>\n    </tr>\n    <tr>\n      <th>3</th>\n      <td>Балашиха ТРК \"Октябрь-Киномир\"</td>\n      <td>3</td>\n      <td>Балашиха</td>\n    </tr>\n    <tr>\n      <th>4</th>\n      <td>Волжский ТЦ \"Волга Молл\"</td>\n      <td>4</td>\n      <td>Волжский</td>\n    </tr>\n    <tr>\n      <th>5</th>\n      <td>Вологда ТРЦ \"Мармелад\"</td>\n      <td>5</td>\n      <td>Вологда</td>\n    </tr>\n    <tr>\n      <th>6</th>\n      <td>Воронеж (Плехановская, 13)</td>\n      <td>6</td>\n      <td>Воронеж</td>\n    </tr>\n    <tr>\n      <th>7</th>\n      <td>Воронеж ТРЦ \"Максимир\"</td>\n      <td>7</td>\n      <td>Воронеж</td>\n    </tr>\n    <tr>\n      <th>8</th>\n      <td>Воронеж ТРЦ Сити-Парк \"Град\"</td>\n      <td>8</td>\n      <td>Воронеж</td>\n    </tr>\n    <tr>\n      <th>9</th>\n      <td>Выездная Торговля</td>\n      <td>9</td>\n      <td>Выездная</td>\n    </tr>\n    <tr>\n      <th>11</th>\n      <td>Жуковский ул. Чкалова 39м²</td>\n      <td>11</td>\n      <td>Жуковский</td>\n    </tr>\n    <tr>\n      <th>12</th>\n      <td>Интернет-магазин ЧС</td>\n      <td>12</td>\n      <td>Интернет-магазин</td>\n    </tr>\n    <tr>\n      <th>13</th>\n      <td>Казань ТЦ \"Бехетле\"</td>\n      <td>13</td>\n      <td>Казань</td>\n    </tr>\n    <tr>\n      <th>14</th>\n      <td>Казань ТЦ \"ПаркХаус\" II</td>\n      <td>14</td>\n      <td>Казань</td>\n    </tr>\n    <tr>\n      <th>15</th>\n      <td>Калуга ТРЦ \"XXI век\"</td>\n      <td>15</td>\n      <td>Калуга</td>\n    </tr>\n    <tr>\n      <th>16</th>\n      <td>Коломна ТЦ \"Рио\"</td>\n      <td>16</td>\n      <td>Коломна</td>\n    </tr>\n    <tr>\n      <th>17</th>\n      <td>Красноярск ТЦ \"Взлетка Плаза\"</td>\n      <td>17</td>\n      <td>Красноярск</td>\n    </tr>\n    <tr>\n      <th>18</th>\n      <td>Красноярск ТЦ \"Июнь\"</td>\n      <td>18</td>\n      <td>Красноярск</td>\n    </tr>\n    <tr>\n      <th>19</th>\n      <td>Курск ТЦ \"Пушкинский\"</td>\n      <td>19</td>\n      <td>Курск</td>\n    </tr>\n    <tr>\n      <th>20</th>\n      <td>Москва \"Распродажа\"</td>\n      <td>20</td>\n      <td>Москва</td>\n    </tr>\n    <tr>\n      <th>21</th>\n      <td>Москва МТРЦ \"Афи Молл\"</td>\n      <td>21</td>\n      <td>Москва</td>\n    </tr>\n    <tr>\n      <th>22</th>\n      <td>Москва Магазин С21</td>\n      <td>22</td>\n      <td>Москва</td>\n    </tr>\n    <tr>\n      <th>23</th>\n      <td>Москва ТК \"Буденовский\" (пав.А2)</td>\n      <td>23</td>\n      <td>Москва</td>\n    </tr>\n    <tr>\n      <th>24</th>\n      <td>Москва ТК \"Буденовский\" (пав.К7)</td>\n      <td>24</td>\n      <td>Москва</td>\n    </tr>\n    <tr>\n      <th>25</th>\n      <td>Москва ТРК \"Атриум\"</td>\n      <td>25</td>\n      <td>Москва</td>\n    </tr>\n    <tr>\n      <th>26</th>\n      <td>Москва ТЦ \"Ареал\" (Беляево)</td>\n      <td>26</td>\n      <td>Москва</td>\n    </tr>\n    <tr>\n      <th>27</th>\n      <td>Москва ТЦ \"МЕГА Белая Дача II\"</td>\n      <td>27</td>\n      <td>Москва</td>\n    </tr>\n    <tr>\n      <th>28</th>\n      <td>Москва ТЦ \"МЕГА Теплый Стан\" II</td>\n      <td>28</td>\n      <td>Москва</td>\n    </tr>\n    <tr>\n      <th>29</th>\n      <td>Москва ТЦ \"Новый век\" (Новокосино)</td>\n      <td>29</td>\n      <td>Москва</td>\n    </tr>\n    <tr>\n      <th>30</th>\n      <td>Москва ТЦ \"Перловский\"</td>\n      <td>30</td>\n      <td>Москва</td>\n    </tr>\n    <tr>\n      <th>31</th>\n      <td>Москва ТЦ \"Семеновский\"</td>\n      <td>31</td>\n      <td>Москва</td>\n    </tr>\n    <tr>\n      <th>32</th>\n      <td>Москва ТЦ \"Серебряный Дом\"</td>\n      <td>32</td>\n      <td>Москва</td>\n    </tr>\n    <tr>\n      <th>33</th>\n      <td>Мытищи ТРК \"XL-3\"</td>\n      <td>33</td>\n      <td>Мытищи</td>\n    </tr>\n    <tr>\n      <th>34</th>\n      <td>Н.Новгород ТРЦ \"РИО\"</td>\n      <td>34</td>\n      <td>Н.Новгород</td>\n    </tr>\n    <tr>\n      <th>35</th>\n      <td>Н.Новгород ТРЦ \"Фантастика\"</td>\n      <td>35</td>\n      <td>Н.Новгород</td>\n    </tr>\n    <tr>\n      <th>36</th>\n      <td>Новосибирск ТРЦ \"Галерея Новосибирск\"</td>\n      <td>36</td>\n      <td>Новосибирск</td>\n    </tr>\n    <tr>\n      <th>37</th>\n      <td>Новосибирск ТЦ \"Мега\"</td>\n      <td>37</td>\n      <td>Новосибирск</td>\n    </tr>\n    <tr>\n      <th>38</th>\n      <td>Омск ТЦ \"Мега\"</td>\n      <td>38</td>\n      <td>Омск</td>\n    </tr>\n    <tr>\n      <th>39</th>\n      <td>РостовНаДону ТРК \"Мегацентр Горизонт\"</td>\n      <td>39</td>\n      <td>РостовНаДону</td>\n    </tr>\n    <tr>\n      <th>41</th>\n      <td>РостовНаДону ТЦ \"Мега\"</td>\n      <td>41</td>\n      <td>РостовНаДону</td>\n    </tr>\n    <tr>\n      <th>42</th>\n      <td>СПб ТК \"Невский Центр\"</td>\n      <td>42</td>\n      <td>СПб</td>\n    </tr>\n    <tr>\n      <th>43</th>\n      <td>СПб ТК \"Сенная\"</td>\n      <td>43</td>\n      <td>СПб</td>\n    </tr>\n    <tr>\n      <th>44</th>\n      <td>Самара ТЦ \"Мелодия\"</td>\n      <td>44</td>\n      <td>Самара</td>\n    </tr>\n    <tr>\n      <th>45</th>\n      <td>Самара ТЦ \"ПаркХаус\"</td>\n      <td>45</td>\n      <td>Самара</td>\n    </tr>\n    <tr>\n      <th>46</th>\n      <td>СергиевПосад ТЦ \"7Я\"</td>\n      <td>46</td>\n      <td>СергиевПосад</td>\n    </tr>\n    <tr>\n      <th>47</th>\n      <td>Сургут ТРЦ \"Сити Молл\"</td>\n      <td>47</td>\n      <td>Сургут</td>\n    </tr>\n    <tr>\n      <th>48</th>\n      <td>Томск ТРЦ \"Изумрудный Город\"</td>\n      <td>48</td>\n      <td>Томск</td>\n    </tr>\n    <tr>\n      <th>49</th>\n      <td>Тюмень ТРЦ \"Кристалл\"</td>\n      <td>49</td>\n      <td>Тюмень</td>\n    </tr>\n    <tr>\n      <th>50</th>\n      <td>Тюмень ТЦ \"Гудвин\"</td>\n      <td>50</td>\n      <td>Тюмень</td>\n    </tr>\n    <tr>\n      <th>51</th>\n      <td>Тюмень ТЦ \"Зеленый Берег\"</td>\n      <td>51</td>\n      <td>Тюмень</td>\n    </tr>\n    <tr>\n      <th>52</th>\n      <td>Уфа ТК \"Центральный\"</td>\n      <td>52</td>\n      <td>Уфа</td>\n    </tr>\n    <tr>\n      <th>53</th>\n      <td>Уфа ТЦ \"Семья\" 2</td>\n      <td>53</td>\n      <td>Уфа</td>\n    </tr>\n    <tr>\n      <th>54</th>\n      <td>Химки ТЦ \"Мега\"</td>\n      <td>54</td>\n      <td>Химки</td>\n    </tr>\n    <tr>\n      <th>55</th>\n      <td>Цифровой склад 1С-Онлайн</td>\n      <td>55</td>\n      <td>Цифровой</td>\n    </tr>\n    <tr>\n      <th>56</th>\n      <td>Чехов ТРЦ \"Карнавал\"</td>\n      <td>56</td>\n      <td>Чехов</td>\n    </tr>\n    <tr>\n      <th>57</th>\n      <td>Якутск Орджоникидзе, 56</td>\n      <td>57</td>\n      <td>Якутск</td>\n    </tr>\n    <tr>\n      <th>58</th>\n      <td>Якутск ТЦ \"Центральный\"</td>\n      <td>58</td>\n      <td>Якутск</td>\n    </tr>\n    <tr>\n      <th>59</th>\n      <td>Ярославль ТЦ \"Альтаир\"</td>\n      <td>59</td>\n      <td>Ярославль</td>\n    </tr>\n  </tbody>\n</table>\n</div>"
     },
     "execution_count": 362,
     "metadata": {},
     "output_type": "execute_result"
    }
   ],
   "source": [
    "shops_1.df_dqc.shop_fix()"
   ],
   "metadata": {
    "collapsed": false,
    "ExecuteTime": {
     "end_time": "2024-01-22T16:47:14.049049532Z",
     "start_time": "2024-01-22T16:47:13.970001793Z"
    }
   },
   "id": "e442284199286b23",
   "execution_count": 362
  },
  {
   "cell_type": "code",
   "outputs": [
    {
     "data": {
      "text/plain": "                                shop_name  shop_id              city\n2                        Адыгея ТЦ \"Мега\"        2            Адыгея\n3          Балашиха ТРК \"Октябрь-Киномир\"        3          Балашиха\n4                Волжский ТЦ \"Волга Молл\"        4          Волжский\n5                  Вологда ТРЦ \"Мармелад\"        5           Вологда\n6              Воронеж (Плехановская, 13)        6           Воронеж\n7                  Воронеж ТРЦ \"Максимир\"        7           Воронеж\n8            Воронеж ТРЦ Сити-Парк \"Град\"        8           Воронеж\n9                       Выездная Торговля        9          Выездная\n11             Жуковский ул. Чкалова 39м²       11         Жуковский\n12                    Интернет-магазин ЧС       12  Интернет-магазин\n13                    Казань ТЦ \"Бехетле\"       13            Казань\n14                Казань ТЦ \"ПаркХаус\" II       14            Казань\n15                   Калуга ТРЦ \"XXI век\"       15            Калуга\n16                       Коломна ТЦ \"Рио\"       16           Коломна\n17          Красноярск ТЦ \"Взлетка Плаза\"       17        Красноярск\n18                   Красноярск ТЦ \"Июнь\"       18        Красноярск\n19                  Курск ТЦ \"Пушкинский\"       19             Курск\n20                    Москва \"Распродажа\"       20            Москва\n21                 Москва МТРЦ \"Афи Молл\"       21            Москва\n22                     Москва Магазин С21       22            Москва\n23       Москва ТК \"Буденовский\" (пав.А2)       23            Москва\n24       Москва ТК \"Буденовский\" (пав.К7)       24            Москва\n25                    Москва ТРК \"Атриум\"       25            Москва\n26            Москва ТЦ \"Ареал\" (Беляево)       26            Москва\n27         Москва ТЦ \"МЕГА Белая Дача II\"       27            Москва\n28        Москва ТЦ \"МЕГА Теплый Стан\" II       28            Москва\n29     Москва ТЦ \"Новый век\" (Новокосино)       29            Москва\n30                 Москва ТЦ \"Перловский\"       30            Москва\n31                Москва ТЦ \"Семеновский\"       31            Москва\n32             Москва ТЦ \"Серебряный Дом\"       32            Москва\n33                      Мытищи ТРК \"XL-3\"       33            Мытищи\n34                   Н.Новгород ТРЦ \"РИО\"       34        Н.Новгород\n35            Н.Новгород ТРЦ \"Фантастика\"       35        Н.Новгород\n36  Новосибирск ТРЦ \"Галерея Новосибирск\"       36       Новосибирск\n37                  Новосибирск ТЦ \"Мега\"       37       Новосибирск\n38                         Омск ТЦ \"Мега\"       38              Омск\n39  РостовНаДону ТРК \"Мегацентр Горизонт\"       39      РостовНаДону\n41                 РостовНаДону ТЦ \"Мега\"       41      РостовНаДону\n42                 СПб ТК \"Невский Центр\"       42               СПб\n43                        СПб ТК \"Сенная\"       43               СПб\n44                    Самара ТЦ \"Мелодия\"       44            Самара\n45                   Самара ТЦ \"ПаркХаус\"       45            Самара\n46                   СергиевПосад ТЦ \"7Я\"       46      СергиевПосад\n47                 Сургут ТРЦ \"Сити Молл\"       47            Сургут\n48           Томск ТРЦ \"Изумрудный Город\"       48             Томск\n49                  Тюмень ТРЦ \"Кристалл\"       49            Тюмень\n50                     Тюмень ТЦ \"Гудвин\"       50            Тюмень\n51              Тюмень ТЦ \"Зеленый Берег\"       51            Тюмень\n52                   Уфа ТК \"Центральный\"       52               Уфа\n53                       Уфа ТЦ \"Семья\" 2       53               Уфа\n54                        Химки ТЦ \"Мега\"       54             Химки\n55               Цифровой склад 1С-Онлайн       55          Цифровой\n56                   Чехов ТРЦ \"Карнавал\"       56             Чехов\n57                Якутск Орджоникидзе, 56       57            Якутск\n58                Якутск ТЦ \"Центральный\"       58            Якутск\n59                 Ярославль ТЦ \"Альтаир\"       59         Ярославль",
      "text/html": "<div>\n<style scoped>\n    .dataframe tbody tr th:only-of-type {\n        vertical-align: middle;\n    }\n\n    .dataframe tbody tr th {\n        vertical-align: top;\n    }\n\n    .dataframe thead th {\n        text-align: right;\n    }\n</style>\n<table border=\"1\" class=\"dataframe\">\n  <thead>\n    <tr style=\"text-align: right;\">\n      <th></th>\n      <th>shop_name</th>\n      <th>shop_id</th>\n      <th>city</th>\n    </tr>\n  </thead>\n  <tbody>\n    <tr>\n      <th>2</th>\n      <td>Адыгея ТЦ \"Мега\"</td>\n      <td>2</td>\n      <td>Адыгея</td>\n    </tr>\n    <tr>\n      <th>3</th>\n      <td>Балашиха ТРК \"Октябрь-Киномир\"</td>\n      <td>3</td>\n      <td>Балашиха</td>\n    </tr>\n    <tr>\n      <th>4</th>\n      <td>Волжский ТЦ \"Волга Молл\"</td>\n      <td>4</td>\n      <td>Волжский</td>\n    </tr>\n    <tr>\n      <th>5</th>\n      <td>Вологда ТРЦ \"Мармелад\"</td>\n      <td>5</td>\n      <td>Вологда</td>\n    </tr>\n    <tr>\n      <th>6</th>\n      <td>Воронеж (Плехановская, 13)</td>\n      <td>6</td>\n      <td>Воронеж</td>\n    </tr>\n    <tr>\n      <th>7</th>\n      <td>Воронеж ТРЦ \"Максимир\"</td>\n      <td>7</td>\n      <td>Воронеж</td>\n    </tr>\n    <tr>\n      <th>8</th>\n      <td>Воронеж ТРЦ Сити-Парк \"Град\"</td>\n      <td>8</td>\n      <td>Воронеж</td>\n    </tr>\n    <tr>\n      <th>9</th>\n      <td>Выездная Торговля</td>\n      <td>9</td>\n      <td>Выездная</td>\n    </tr>\n    <tr>\n      <th>11</th>\n      <td>Жуковский ул. Чкалова 39м²</td>\n      <td>11</td>\n      <td>Жуковский</td>\n    </tr>\n    <tr>\n      <th>12</th>\n      <td>Интернет-магазин ЧС</td>\n      <td>12</td>\n      <td>Интернет-магазин</td>\n    </tr>\n    <tr>\n      <th>13</th>\n      <td>Казань ТЦ \"Бехетле\"</td>\n      <td>13</td>\n      <td>Казань</td>\n    </tr>\n    <tr>\n      <th>14</th>\n      <td>Казань ТЦ \"ПаркХаус\" II</td>\n      <td>14</td>\n      <td>Казань</td>\n    </tr>\n    <tr>\n      <th>15</th>\n      <td>Калуга ТРЦ \"XXI век\"</td>\n      <td>15</td>\n      <td>Калуга</td>\n    </tr>\n    <tr>\n      <th>16</th>\n      <td>Коломна ТЦ \"Рио\"</td>\n      <td>16</td>\n      <td>Коломна</td>\n    </tr>\n    <tr>\n      <th>17</th>\n      <td>Красноярск ТЦ \"Взлетка Плаза\"</td>\n      <td>17</td>\n      <td>Красноярск</td>\n    </tr>\n    <tr>\n      <th>18</th>\n      <td>Красноярск ТЦ \"Июнь\"</td>\n      <td>18</td>\n      <td>Красноярск</td>\n    </tr>\n    <tr>\n      <th>19</th>\n      <td>Курск ТЦ \"Пушкинский\"</td>\n      <td>19</td>\n      <td>Курск</td>\n    </tr>\n    <tr>\n      <th>20</th>\n      <td>Москва \"Распродажа\"</td>\n      <td>20</td>\n      <td>Москва</td>\n    </tr>\n    <tr>\n      <th>21</th>\n      <td>Москва МТРЦ \"Афи Молл\"</td>\n      <td>21</td>\n      <td>Москва</td>\n    </tr>\n    <tr>\n      <th>22</th>\n      <td>Москва Магазин С21</td>\n      <td>22</td>\n      <td>Москва</td>\n    </tr>\n    <tr>\n      <th>23</th>\n      <td>Москва ТК \"Буденовский\" (пав.А2)</td>\n      <td>23</td>\n      <td>Москва</td>\n    </tr>\n    <tr>\n      <th>24</th>\n      <td>Москва ТК \"Буденовский\" (пав.К7)</td>\n      <td>24</td>\n      <td>Москва</td>\n    </tr>\n    <tr>\n      <th>25</th>\n      <td>Москва ТРК \"Атриум\"</td>\n      <td>25</td>\n      <td>Москва</td>\n    </tr>\n    <tr>\n      <th>26</th>\n      <td>Москва ТЦ \"Ареал\" (Беляево)</td>\n      <td>26</td>\n      <td>Москва</td>\n    </tr>\n    <tr>\n      <th>27</th>\n      <td>Москва ТЦ \"МЕГА Белая Дача II\"</td>\n      <td>27</td>\n      <td>Москва</td>\n    </tr>\n    <tr>\n      <th>28</th>\n      <td>Москва ТЦ \"МЕГА Теплый Стан\" II</td>\n      <td>28</td>\n      <td>Москва</td>\n    </tr>\n    <tr>\n      <th>29</th>\n      <td>Москва ТЦ \"Новый век\" (Новокосино)</td>\n      <td>29</td>\n      <td>Москва</td>\n    </tr>\n    <tr>\n      <th>30</th>\n      <td>Москва ТЦ \"Перловский\"</td>\n      <td>30</td>\n      <td>Москва</td>\n    </tr>\n    <tr>\n      <th>31</th>\n      <td>Москва ТЦ \"Семеновский\"</td>\n      <td>31</td>\n      <td>Москва</td>\n    </tr>\n    <tr>\n      <th>32</th>\n      <td>Москва ТЦ \"Серебряный Дом\"</td>\n      <td>32</td>\n      <td>Москва</td>\n    </tr>\n    <tr>\n      <th>33</th>\n      <td>Мытищи ТРК \"XL-3\"</td>\n      <td>33</td>\n      <td>Мытищи</td>\n    </tr>\n    <tr>\n      <th>34</th>\n      <td>Н.Новгород ТРЦ \"РИО\"</td>\n      <td>34</td>\n      <td>Н.Новгород</td>\n    </tr>\n    <tr>\n      <th>35</th>\n      <td>Н.Новгород ТРЦ \"Фантастика\"</td>\n      <td>35</td>\n      <td>Н.Новгород</td>\n    </tr>\n    <tr>\n      <th>36</th>\n      <td>Новосибирск ТРЦ \"Галерея Новосибирск\"</td>\n      <td>36</td>\n      <td>Новосибирск</td>\n    </tr>\n    <tr>\n      <th>37</th>\n      <td>Новосибирск ТЦ \"Мега\"</td>\n      <td>37</td>\n      <td>Новосибирск</td>\n    </tr>\n    <tr>\n      <th>38</th>\n      <td>Омск ТЦ \"Мега\"</td>\n      <td>38</td>\n      <td>Омск</td>\n    </tr>\n    <tr>\n      <th>39</th>\n      <td>РостовНаДону ТРК \"Мегацентр Горизонт\"</td>\n      <td>39</td>\n      <td>РостовНаДону</td>\n    </tr>\n    <tr>\n      <th>41</th>\n      <td>РостовНаДону ТЦ \"Мега\"</td>\n      <td>41</td>\n      <td>РостовНаДону</td>\n    </tr>\n    <tr>\n      <th>42</th>\n      <td>СПб ТК \"Невский Центр\"</td>\n      <td>42</td>\n      <td>СПб</td>\n    </tr>\n    <tr>\n      <th>43</th>\n      <td>СПб ТК \"Сенная\"</td>\n      <td>43</td>\n      <td>СПб</td>\n    </tr>\n    <tr>\n      <th>44</th>\n      <td>Самара ТЦ \"Мелодия\"</td>\n      <td>44</td>\n      <td>Самара</td>\n    </tr>\n    <tr>\n      <th>45</th>\n      <td>Самара ТЦ \"ПаркХаус\"</td>\n      <td>45</td>\n      <td>Самара</td>\n    </tr>\n    <tr>\n      <th>46</th>\n      <td>СергиевПосад ТЦ \"7Я\"</td>\n      <td>46</td>\n      <td>СергиевПосад</td>\n    </tr>\n    <tr>\n      <th>47</th>\n      <td>Сургут ТРЦ \"Сити Молл\"</td>\n      <td>47</td>\n      <td>Сургут</td>\n    </tr>\n    <tr>\n      <th>48</th>\n      <td>Томск ТРЦ \"Изумрудный Город\"</td>\n      <td>48</td>\n      <td>Томск</td>\n    </tr>\n    <tr>\n      <th>49</th>\n      <td>Тюмень ТРЦ \"Кристалл\"</td>\n      <td>49</td>\n      <td>Тюмень</td>\n    </tr>\n    <tr>\n      <th>50</th>\n      <td>Тюмень ТЦ \"Гудвин\"</td>\n      <td>50</td>\n      <td>Тюмень</td>\n    </tr>\n    <tr>\n      <th>51</th>\n      <td>Тюмень ТЦ \"Зеленый Берег\"</td>\n      <td>51</td>\n      <td>Тюмень</td>\n    </tr>\n    <tr>\n      <th>52</th>\n      <td>Уфа ТК \"Центральный\"</td>\n      <td>52</td>\n      <td>Уфа</td>\n    </tr>\n    <tr>\n      <th>53</th>\n      <td>Уфа ТЦ \"Семья\" 2</td>\n      <td>53</td>\n      <td>Уфа</td>\n    </tr>\n    <tr>\n      <th>54</th>\n      <td>Химки ТЦ \"Мега\"</td>\n      <td>54</td>\n      <td>Химки</td>\n    </tr>\n    <tr>\n      <th>55</th>\n      <td>Цифровой склад 1С-Онлайн</td>\n      <td>55</td>\n      <td>Цифровой</td>\n    </tr>\n    <tr>\n      <th>56</th>\n      <td>Чехов ТРЦ \"Карнавал\"</td>\n      <td>56</td>\n      <td>Чехов</td>\n    </tr>\n    <tr>\n      <th>57</th>\n      <td>Якутск Орджоникидзе, 56</td>\n      <td>57</td>\n      <td>Якутск</td>\n    </tr>\n    <tr>\n      <th>58</th>\n      <td>Якутск ТЦ \"Центральный\"</td>\n      <td>58</td>\n      <td>Якутск</td>\n    </tr>\n    <tr>\n      <th>59</th>\n      <td>Ярославль ТЦ \"Альтаир\"</td>\n      <td>59</td>\n      <td>Ярославль</td>\n    </tr>\n  </tbody>\n</table>\n</div>"
     },
     "execution_count": 363,
     "metadata": {},
     "output_type": "execute_result"
    }
   ],
   "source": [
    "shops_1.df_dqc.get_data()"
   ],
   "metadata": {
    "collapsed": false,
    "ExecuteTime": {
     "end_time": "2024-01-22T16:47:14.071467633Z",
     "start_time": "2024-01-22T16:47:14.011845613Z"
    }
   },
   "id": "bdfd0633b6708b61",
   "execution_count": 363
  },
  {
   "cell_type": "code",
   "outputs": [
    {
     "name": "stdout",
     "output_type": "stream",
     "text": [
      "22170 rows and 3 columns has been read from items.csv\n"
     ]
    }
   ],
   "source": [
    "items_1 = ETL('/home/avocad00/InnowiseTrainee/FutureSales/data/items.csv')"
   ],
   "metadata": {
    "collapsed": false,
    "ExecuteTime": {
     "end_time": "2024-01-22T16:47:14.089846255Z",
     "start_time": "2024-01-22T16:47:14.012350436Z"
    }
   },
   "id": "30fe60d5f38a46ed",
   "execution_count": 364
  },
  {
   "cell_type": "code",
   "outputs": [
    {
     "data": {
      "text/plain": "                                               item_name  item_id  \\\n0              ! ВО ВЛАСТИ НАВАЖДЕНИЯ (ПЛАСТ.)         D        0   \n1      !ABBYY FineReader 12 Professional Edition Full...        1   \n2          ***В ЛУЧАХ СЛАВЫ   (UNV)                    D        2   \n3        ***ГОЛУБАЯ ВОЛНА  (Univ)                      D        3   \n4            ***КОРОБКА (СТЕКЛО)                       D        4   \n...                                                  ...      ...   \n22165             Ядерный титбит 2 [PC, Цифровая версия]    22165   \n22166    Язык запросов 1С:Предприятия  [Цифровая версия]    22166   \n22167  Язык запросов 1С:Предприятия 8 (+CD). Хрустале...    22167   \n22168                                Яйцо для Little Inu    22168   \n22169                      Яйцо дракона (Игра престолов)    22169   \n\n       item_category_id                                    cleaned_name  \n0                    40                          во власти наваждения d  \n1                    76  abbyy finereader 12 professional edition full   \n2                    40                                 в лучах славы d  \n3                    40                                 голубая волна d  \n4                    40                                       коробка d  \n...                 ...                                             ...  \n22165                31                               ядерный титбит 2   \n22166                54                    язык запросов 1спредприятия   \n22167                49     язык запросов 1спредприятия 8 хрусталева ею  \n22168                62                             яйцо для little inu  \n22169                69                                   яйцо дракона   \n\n[22170 rows x 4 columns]",
      "text/html": "<div>\n<style scoped>\n    .dataframe tbody tr th:only-of-type {\n        vertical-align: middle;\n    }\n\n    .dataframe tbody tr th {\n        vertical-align: top;\n    }\n\n    .dataframe thead th {\n        text-align: right;\n    }\n</style>\n<table border=\"1\" class=\"dataframe\">\n  <thead>\n    <tr style=\"text-align: right;\">\n      <th></th>\n      <th>item_name</th>\n      <th>item_id</th>\n      <th>item_category_id</th>\n      <th>cleaned_name</th>\n    </tr>\n  </thead>\n  <tbody>\n    <tr>\n      <th>0</th>\n      <td>! ВО ВЛАСТИ НАВАЖДЕНИЯ (ПЛАСТ.)         D</td>\n      <td>0</td>\n      <td>40</td>\n      <td>во власти наваждения d</td>\n    </tr>\n    <tr>\n      <th>1</th>\n      <td>!ABBYY FineReader 12 Professional Edition Full...</td>\n      <td>1</td>\n      <td>76</td>\n      <td>abbyy finereader 12 professional edition full</td>\n    </tr>\n    <tr>\n      <th>2</th>\n      <td>***В ЛУЧАХ СЛАВЫ   (UNV)                    D</td>\n      <td>2</td>\n      <td>40</td>\n      <td>в лучах славы d</td>\n    </tr>\n    <tr>\n      <th>3</th>\n      <td>***ГОЛУБАЯ ВОЛНА  (Univ)                      D</td>\n      <td>3</td>\n      <td>40</td>\n      <td>голубая волна d</td>\n    </tr>\n    <tr>\n      <th>4</th>\n      <td>***КОРОБКА (СТЕКЛО)                       D</td>\n      <td>4</td>\n      <td>40</td>\n      <td>коробка d</td>\n    </tr>\n    <tr>\n      <th>...</th>\n      <td>...</td>\n      <td>...</td>\n      <td>...</td>\n      <td>...</td>\n    </tr>\n    <tr>\n      <th>22165</th>\n      <td>Ядерный титбит 2 [PC, Цифровая версия]</td>\n      <td>22165</td>\n      <td>31</td>\n      <td>ядерный титбит 2</td>\n    </tr>\n    <tr>\n      <th>22166</th>\n      <td>Язык запросов 1С:Предприятия  [Цифровая версия]</td>\n      <td>22166</td>\n      <td>54</td>\n      <td>язык запросов 1спредприятия</td>\n    </tr>\n    <tr>\n      <th>22167</th>\n      <td>Язык запросов 1С:Предприятия 8 (+CD). Хрустале...</td>\n      <td>22167</td>\n      <td>49</td>\n      <td>язык запросов 1спредприятия 8 хрусталева ею</td>\n    </tr>\n    <tr>\n      <th>22168</th>\n      <td>Яйцо для Little Inu</td>\n      <td>22168</td>\n      <td>62</td>\n      <td>яйцо для little inu</td>\n    </tr>\n    <tr>\n      <th>22169</th>\n      <td>Яйцо дракона (Игра престолов)</td>\n      <td>22169</td>\n      <td>69</td>\n      <td>яйцо дракона</td>\n    </tr>\n  </tbody>\n</table>\n<p>22170 rows × 4 columns</p>\n</div>"
     },
     "execution_count": 365,
     "metadata": {},
     "output_type": "execute_result"
    }
   ],
   "source": [
    "items_1.df_dqc.item_fix()"
   ],
   "metadata": {
    "collapsed": false,
    "ExecuteTime": {
     "end_time": "2024-01-22T16:47:14.216581759Z",
     "start_time": "2024-01-22T16:47:14.055581296Z"
    }
   },
   "id": "c19dfa9e8b6f3edc",
   "execution_count": 365
  },
  {
   "cell_type": "code",
   "outputs": [],
   "source": [
    "items_df = items_1.df_dqc.get_data()"
   ],
   "metadata": {
    "collapsed": false,
    "ExecuteTime": {
     "end_time": "2024-01-22T16:47:14.218036807Z",
     "start_time": "2024-01-22T16:47:14.110371502Z"
    }
   },
   "id": "4928d0d49c819353",
   "execution_count": 366
  },
  {
   "cell_type": "code",
   "outputs": [
    {
     "data": {
      "text/plain": "2690"
     },
     "execution_count": 367,
     "metadata": {},
     "output_type": "execute_result"
    }
   ],
   "source": [
    "items_df['cleaned_name'].duplicated().sum()"
   ],
   "metadata": {
    "collapsed": false,
    "ExecuteTime": {
     "end_time": "2024-01-22T16:47:14.295997534Z",
     "start_time": "2024-01-22T16:47:14.115907374Z"
    }
   },
   "id": "74570698b14bd506",
   "execution_count": 367
  },
  {
   "cell_type": "code",
   "outputs": [
    {
     "name": "stdout",
     "output_type": "stream",
     "text": [
      "84 rows and 2 columns has been read from item_categories.csv\n"
     ]
    }
   ],
   "source": [
    "item_categories_1 = ETL('/home/avocad00/InnowiseTrainee/FutureSales/data/item_categories.csv')"
   ],
   "metadata": {
    "collapsed": false,
    "ExecuteTime": {
     "end_time": "2024-01-22T16:47:14.299382475Z",
     "start_time": "2024-01-22T16:47:14.159690226Z"
    }
   },
   "id": "ee6facb62806ddee",
   "execution_count": 368
  },
  {
   "cell_type": "code",
   "outputs": [
    {
     "data": {
      "text/plain": "           item_category_name  item_category_id    category\n0     PC - Гарнитуры/Наушники                 0          PC\n1            Аксессуары - PS2                 1  Аксессуары\n2            Аксессуары - PS3                 2  Аксессуары\n3            Аксессуары - PS4                 3  Аксессуары\n4            Аксессуары - PSP                 4  Аксессуары\n..                        ...               ...         ...\n79                  Служебные                79   Служебные\n80         Служебные - Билеты                80   Служебные\n81    Чистые носители (шпиль)                81      Чистые\n82  Чистые носители (штучные)                82      Чистые\n83           Элементы питания                83    Элементы\n\n[84 rows x 3 columns]",
      "text/html": "<div>\n<style scoped>\n    .dataframe tbody tr th:only-of-type {\n        vertical-align: middle;\n    }\n\n    .dataframe tbody tr th {\n        vertical-align: top;\n    }\n\n    .dataframe thead th {\n        text-align: right;\n    }\n</style>\n<table border=\"1\" class=\"dataframe\">\n  <thead>\n    <tr style=\"text-align: right;\">\n      <th></th>\n      <th>item_category_name</th>\n      <th>item_category_id</th>\n      <th>category</th>\n    </tr>\n  </thead>\n  <tbody>\n    <tr>\n      <th>0</th>\n      <td>PC - Гарнитуры/Наушники</td>\n      <td>0</td>\n      <td>PC</td>\n    </tr>\n    <tr>\n      <th>1</th>\n      <td>Аксессуары - PS2</td>\n      <td>1</td>\n      <td>Аксессуары</td>\n    </tr>\n    <tr>\n      <th>2</th>\n      <td>Аксессуары - PS3</td>\n      <td>2</td>\n      <td>Аксессуары</td>\n    </tr>\n    <tr>\n      <th>3</th>\n      <td>Аксессуары - PS4</td>\n      <td>3</td>\n      <td>Аксессуары</td>\n    </tr>\n    <tr>\n      <th>4</th>\n      <td>Аксессуары - PSP</td>\n      <td>4</td>\n      <td>Аксессуары</td>\n    </tr>\n    <tr>\n      <th>...</th>\n      <td>...</td>\n      <td>...</td>\n      <td>...</td>\n    </tr>\n    <tr>\n      <th>79</th>\n      <td>Служебные</td>\n      <td>79</td>\n      <td>Служебные</td>\n    </tr>\n    <tr>\n      <th>80</th>\n      <td>Служебные - Билеты</td>\n      <td>80</td>\n      <td>Служебные</td>\n    </tr>\n    <tr>\n      <th>81</th>\n      <td>Чистые носители (шпиль)</td>\n      <td>81</td>\n      <td>Чистые</td>\n    </tr>\n    <tr>\n      <th>82</th>\n      <td>Чистые носители (штучные)</td>\n      <td>82</td>\n      <td>Чистые</td>\n    </tr>\n    <tr>\n      <th>83</th>\n      <td>Элементы питания</td>\n      <td>83</td>\n      <td>Элементы</td>\n    </tr>\n  </tbody>\n</table>\n<p>84 rows × 3 columns</p>\n</div>"
     },
     "execution_count": 369,
     "metadata": {},
     "output_type": "execute_result"
    }
   ],
   "source": [
    "item_categories_1.df_dqc.item_category_fix()"
   ],
   "metadata": {
    "collapsed": false,
    "ExecuteTime": {
     "end_time": "2024-01-22T16:47:14.317887987Z",
     "start_time": "2024-01-22T16:47:14.159922033Z"
    }
   },
   "id": "ba8a0938b9083c10",
   "execution_count": 369
  },
  {
   "cell_type": "code",
   "outputs": [
    {
     "data": {
      "text/plain": "           item_category_name  item_category_id    category\n0     PC - Гарнитуры/Наушники                 0          PC\n1            Аксессуары - PS2                 1  Аксессуары\n2            Аксессуары - PS3                 2  Аксессуары\n3            Аксессуары - PS4                 3  Аксессуары\n4            Аксессуары - PSP                 4  Аксессуары\n..                        ...               ...         ...\n79                  Служебные                79   Служебные\n80         Служебные - Билеты                80   Служебные\n81    Чистые носители (шпиль)                81      Чистые\n82  Чистые носители (штучные)                82      Чистые\n83           Элементы питания                83    Элементы\n\n[84 rows x 3 columns]",
      "text/html": "<div>\n<style scoped>\n    .dataframe tbody tr th:only-of-type {\n        vertical-align: middle;\n    }\n\n    .dataframe tbody tr th {\n        vertical-align: top;\n    }\n\n    .dataframe thead th {\n        text-align: right;\n    }\n</style>\n<table border=\"1\" class=\"dataframe\">\n  <thead>\n    <tr style=\"text-align: right;\">\n      <th></th>\n      <th>item_category_name</th>\n      <th>item_category_id</th>\n      <th>category</th>\n    </tr>\n  </thead>\n  <tbody>\n    <tr>\n      <th>0</th>\n      <td>PC - Гарнитуры/Наушники</td>\n      <td>0</td>\n      <td>PC</td>\n    </tr>\n    <tr>\n      <th>1</th>\n      <td>Аксессуары - PS2</td>\n      <td>1</td>\n      <td>Аксессуары</td>\n    </tr>\n    <tr>\n      <th>2</th>\n      <td>Аксессуары - PS3</td>\n      <td>2</td>\n      <td>Аксессуары</td>\n    </tr>\n    <tr>\n      <th>3</th>\n      <td>Аксессуары - PS4</td>\n      <td>3</td>\n      <td>Аксессуары</td>\n    </tr>\n    <tr>\n      <th>4</th>\n      <td>Аксессуары - PSP</td>\n      <td>4</td>\n      <td>Аксессуары</td>\n    </tr>\n    <tr>\n      <th>...</th>\n      <td>...</td>\n      <td>...</td>\n      <td>...</td>\n    </tr>\n    <tr>\n      <th>79</th>\n      <td>Служебные</td>\n      <td>79</td>\n      <td>Служебные</td>\n    </tr>\n    <tr>\n      <th>80</th>\n      <td>Служебные - Билеты</td>\n      <td>80</td>\n      <td>Служебные</td>\n    </tr>\n    <tr>\n      <th>81</th>\n      <td>Чистые носители (шпиль)</td>\n      <td>81</td>\n      <td>Чистые</td>\n    </tr>\n    <tr>\n      <th>82</th>\n      <td>Чистые носители (штучные)</td>\n      <td>82</td>\n      <td>Чистые</td>\n    </tr>\n    <tr>\n      <th>83</th>\n      <td>Элементы питания</td>\n      <td>83</td>\n      <td>Элементы</td>\n    </tr>\n  </tbody>\n</table>\n<p>84 rows × 3 columns</p>\n</div>"
     },
     "execution_count": 370,
     "metadata": {},
     "output_type": "execute_result"
    }
   ],
   "source": [
    "item_categories_1.df_dqc.get_data()"
   ],
   "metadata": {
    "collapsed": false,
    "ExecuteTime": {
     "end_time": "2024-01-22T16:47:14.320766532Z",
     "start_time": "2024-01-22T16:47:14.160157428Z"
    }
   },
   "id": "4a65463758fbf73a",
   "execution_count": 370
  },
  {
   "cell_type": "code",
   "outputs": [],
   "source": [
    "categories_df = item_categories.transform_data('category')\n",
    "item_df = items.transform_data('item')\n",
    "sales_df = sales.transform_data('train')\n",
    "shops_df = shops.transform_data('shop')\n",
    "test_df = test.transform_data('test')"
   ],
   "metadata": {
    "collapsed": false,
    "ExecuteTime": {
     "end_time": "2024-01-22T16:47:25.719969799Z",
     "start_time": "2024-01-22T16:47:14.160426436Z"
    }
   },
   "id": "2554e2907f6b98e2",
   "execution_count": 371
  },
  {
   "cell_type": "code",
   "outputs": [
    {
     "data": {
      "text/plain": "           item_category_name  item_category_id    category\n0     PC - Гарнитуры/Наушники                 0          PC\n1            Аксессуары - PS2                 1  Аксессуары\n2            Аксессуары - PS3                 2  Аксессуары\n3            Аксессуары - PS4                 3  Аксессуары\n4            Аксессуары - PSP                 4  Аксессуары\n..                        ...               ...         ...\n79                  Служебные                79   Служебные\n80         Служебные - Билеты                80   Служебные\n81    Чистые носители (шпиль)                81      Чистые\n82  Чистые носители (штучные)                82      Чистые\n83           Элементы питания                83    Элементы\n\n[84 rows x 3 columns]",
      "text/html": "<div>\n<style scoped>\n    .dataframe tbody tr th:only-of-type {\n        vertical-align: middle;\n    }\n\n    .dataframe tbody tr th {\n        vertical-align: top;\n    }\n\n    .dataframe thead th {\n        text-align: right;\n    }\n</style>\n<table border=\"1\" class=\"dataframe\">\n  <thead>\n    <tr style=\"text-align: right;\">\n      <th></th>\n      <th>item_category_name</th>\n      <th>item_category_id</th>\n      <th>category</th>\n    </tr>\n  </thead>\n  <tbody>\n    <tr>\n      <th>0</th>\n      <td>PC - Гарнитуры/Наушники</td>\n      <td>0</td>\n      <td>PC</td>\n    </tr>\n    <tr>\n      <th>1</th>\n      <td>Аксессуары - PS2</td>\n      <td>1</td>\n      <td>Аксессуары</td>\n    </tr>\n    <tr>\n      <th>2</th>\n      <td>Аксессуары - PS3</td>\n      <td>2</td>\n      <td>Аксессуары</td>\n    </tr>\n    <tr>\n      <th>3</th>\n      <td>Аксессуары - PS4</td>\n      <td>3</td>\n      <td>Аксессуары</td>\n    </tr>\n    <tr>\n      <th>4</th>\n      <td>Аксессуары - PSP</td>\n      <td>4</td>\n      <td>Аксессуары</td>\n    </tr>\n    <tr>\n      <th>...</th>\n      <td>...</td>\n      <td>...</td>\n      <td>...</td>\n    </tr>\n    <tr>\n      <th>79</th>\n      <td>Служебные</td>\n      <td>79</td>\n      <td>Служебные</td>\n    </tr>\n    <tr>\n      <th>80</th>\n      <td>Служебные - Билеты</td>\n      <td>80</td>\n      <td>Служебные</td>\n    </tr>\n    <tr>\n      <th>81</th>\n      <td>Чистые носители (шпиль)</td>\n      <td>81</td>\n      <td>Чистые</td>\n    </tr>\n    <tr>\n      <th>82</th>\n      <td>Чистые носители (штучные)</td>\n      <td>82</td>\n      <td>Чистые</td>\n    </tr>\n    <tr>\n      <th>83</th>\n      <td>Элементы питания</td>\n      <td>83</td>\n      <td>Элементы</td>\n    </tr>\n  </tbody>\n</table>\n<p>84 rows × 3 columns</p>\n</div>"
     },
     "execution_count": 372,
     "metadata": {},
     "output_type": "execute_result"
    }
   ],
   "source": [
    "categories_df"
   ],
   "metadata": {
    "collapsed": false,
    "ExecuteTime": {
     "end_time": "2024-01-22T16:47:25.731501884Z",
     "start_time": "2024-01-22T16:47:25.723744827Z"
    }
   },
   "id": "8921ccf2dc1c3c85",
   "execution_count": 372
  },
  {
   "cell_type": "code",
   "outputs": [
    {
     "data": {
      "text/plain": "                                               item_name  item_id  \\\n0              ! ВО ВЛАСТИ НАВАЖДЕНИЯ (ПЛАСТ.)         D        0   \n1      !ABBYY FineReader 12 Professional Edition Full...        1   \n2          ***В ЛУЧАХ СЛАВЫ   (UNV)                    D        2   \n3        ***ГОЛУБАЯ ВОЛНА  (Univ)                      D        3   \n4            ***КОРОБКА (СТЕКЛО)                       D        4   \n...                                                  ...      ...   \n22165             Ядерный титбит 2 [PC, Цифровая версия]    22165   \n22166    Язык запросов 1С:Предприятия  [Цифровая версия]    22166   \n22167  Язык запросов 1С:Предприятия 8 (+CD). Хрустале...    22167   \n22168                                Яйцо для Little Inu    22168   \n22169                      Яйцо дракона (Игра престолов)    22169   \n\n       item_category_id                                    cleaned_name  \n0                    40                          во власти наваждения d  \n1                    76  abbyy finereader 12 professional edition full   \n2                    40                                 в лучах славы d  \n3                    40                                 голубая волна d  \n4                    40                                       коробка d  \n...                 ...                                             ...  \n22165                31                               ядерный титбит 2   \n22166                54                    язык запросов 1спредприятия   \n22167                49     язык запросов 1спредприятия 8 хрусталева ею  \n22168                62                             яйцо для little inu  \n22169                69                                   яйцо дракона   \n\n[22170 rows x 4 columns]",
      "text/html": "<div>\n<style scoped>\n    .dataframe tbody tr th:only-of-type {\n        vertical-align: middle;\n    }\n\n    .dataframe tbody tr th {\n        vertical-align: top;\n    }\n\n    .dataframe thead th {\n        text-align: right;\n    }\n</style>\n<table border=\"1\" class=\"dataframe\">\n  <thead>\n    <tr style=\"text-align: right;\">\n      <th></th>\n      <th>item_name</th>\n      <th>item_id</th>\n      <th>item_category_id</th>\n      <th>cleaned_name</th>\n    </tr>\n  </thead>\n  <tbody>\n    <tr>\n      <th>0</th>\n      <td>! ВО ВЛАСТИ НАВАЖДЕНИЯ (ПЛАСТ.)         D</td>\n      <td>0</td>\n      <td>40</td>\n      <td>во власти наваждения d</td>\n    </tr>\n    <tr>\n      <th>1</th>\n      <td>!ABBYY FineReader 12 Professional Edition Full...</td>\n      <td>1</td>\n      <td>76</td>\n      <td>abbyy finereader 12 professional edition full</td>\n    </tr>\n    <tr>\n      <th>2</th>\n      <td>***В ЛУЧАХ СЛАВЫ   (UNV)                    D</td>\n      <td>2</td>\n      <td>40</td>\n      <td>в лучах славы d</td>\n    </tr>\n    <tr>\n      <th>3</th>\n      <td>***ГОЛУБАЯ ВОЛНА  (Univ)                      D</td>\n      <td>3</td>\n      <td>40</td>\n      <td>голубая волна d</td>\n    </tr>\n    <tr>\n      <th>4</th>\n      <td>***КОРОБКА (СТЕКЛО)                       D</td>\n      <td>4</td>\n      <td>40</td>\n      <td>коробка d</td>\n    </tr>\n    <tr>\n      <th>...</th>\n      <td>...</td>\n      <td>...</td>\n      <td>...</td>\n      <td>...</td>\n    </tr>\n    <tr>\n      <th>22165</th>\n      <td>Ядерный титбит 2 [PC, Цифровая версия]</td>\n      <td>22165</td>\n      <td>31</td>\n      <td>ядерный титбит 2</td>\n    </tr>\n    <tr>\n      <th>22166</th>\n      <td>Язык запросов 1С:Предприятия  [Цифровая версия]</td>\n      <td>22166</td>\n      <td>54</td>\n      <td>язык запросов 1спредприятия</td>\n    </tr>\n    <tr>\n      <th>22167</th>\n      <td>Язык запросов 1С:Предприятия 8 (+CD). Хрустале...</td>\n      <td>22167</td>\n      <td>49</td>\n      <td>язык запросов 1спредприятия 8 хрусталева ею</td>\n    </tr>\n    <tr>\n      <th>22168</th>\n      <td>Яйцо для Little Inu</td>\n      <td>22168</td>\n      <td>62</td>\n      <td>яйцо для little inu</td>\n    </tr>\n    <tr>\n      <th>22169</th>\n      <td>Яйцо дракона (Игра престолов)</td>\n      <td>22169</td>\n      <td>69</td>\n      <td>яйцо дракона</td>\n    </tr>\n  </tbody>\n</table>\n<p>22170 rows × 4 columns</p>\n</div>"
     },
     "execution_count": 373,
     "metadata": {},
     "output_type": "execute_result"
    }
   ],
   "source": [
    "item_df"
   ],
   "metadata": {
    "collapsed": false,
    "ExecuteTime": {
     "end_time": "2024-01-22T16:47:25.799736025Z",
     "start_time": "2024-01-22T16:47:25.730283043Z"
    }
   },
   "id": "1c7391423989b7df",
   "execution_count": 373
  },
  {
   "cell_type": "code",
   "outputs": [
    {
     "data": {
      "text/plain": "              date  date_block_num  shop_id  item_id  item_price  item_cnt_day\n0       2013-01-02               0       59    22154      999.00           1.0\n1       2013-01-03               0       25     2552      899.00           1.0\n3       2013-01-06               0       25     2554     1709.05           1.0\n4       2013-01-15               0       25     2555     1099.00           1.0\n5       2013-01-10               0       25     2564      349.00           1.0\n...            ...             ...      ...      ...         ...           ...\n2935844 2015-10-10              33       25     7409      299.00           1.0\n2935845 2015-10-09              33       25     7460      299.00           1.0\n2935846 2015-10-14              33       25     7459      349.00           1.0\n2935847 2015-10-22              33       25     7440      299.00           1.0\n2935848 2015-10-03              33       25     7460      299.00           1.0\n\n[2589009 rows x 6 columns]",
      "text/html": "<div>\n<style scoped>\n    .dataframe tbody tr th:only-of-type {\n        vertical-align: middle;\n    }\n\n    .dataframe tbody tr th {\n        vertical-align: top;\n    }\n\n    .dataframe thead th {\n        text-align: right;\n    }\n</style>\n<table border=\"1\" class=\"dataframe\">\n  <thead>\n    <tr style=\"text-align: right;\">\n      <th></th>\n      <th>date</th>\n      <th>date_block_num</th>\n      <th>shop_id</th>\n      <th>item_id</th>\n      <th>item_price</th>\n      <th>item_cnt_day</th>\n    </tr>\n  </thead>\n  <tbody>\n    <tr>\n      <th>0</th>\n      <td>2013-01-02</td>\n      <td>0</td>\n      <td>59</td>\n      <td>22154</td>\n      <td>999.00</td>\n      <td>1.0</td>\n    </tr>\n    <tr>\n      <th>1</th>\n      <td>2013-01-03</td>\n      <td>0</td>\n      <td>25</td>\n      <td>2552</td>\n      <td>899.00</td>\n      <td>1.0</td>\n    </tr>\n    <tr>\n      <th>3</th>\n      <td>2013-01-06</td>\n      <td>0</td>\n      <td>25</td>\n      <td>2554</td>\n      <td>1709.05</td>\n      <td>1.0</td>\n    </tr>\n    <tr>\n      <th>4</th>\n      <td>2013-01-15</td>\n      <td>0</td>\n      <td>25</td>\n      <td>2555</td>\n      <td>1099.00</td>\n      <td>1.0</td>\n    </tr>\n    <tr>\n      <th>5</th>\n      <td>2013-01-10</td>\n      <td>0</td>\n      <td>25</td>\n      <td>2564</td>\n      <td>349.00</td>\n      <td>1.0</td>\n    </tr>\n    <tr>\n      <th>...</th>\n      <td>...</td>\n      <td>...</td>\n      <td>...</td>\n      <td>...</td>\n      <td>...</td>\n      <td>...</td>\n    </tr>\n    <tr>\n      <th>2935844</th>\n      <td>2015-10-10</td>\n      <td>33</td>\n      <td>25</td>\n      <td>7409</td>\n      <td>299.00</td>\n      <td>1.0</td>\n    </tr>\n    <tr>\n      <th>2935845</th>\n      <td>2015-10-09</td>\n      <td>33</td>\n      <td>25</td>\n      <td>7460</td>\n      <td>299.00</td>\n      <td>1.0</td>\n    </tr>\n    <tr>\n      <th>2935846</th>\n      <td>2015-10-14</td>\n      <td>33</td>\n      <td>25</td>\n      <td>7459</td>\n      <td>349.00</td>\n      <td>1.0</td>\n    </tr>\n    <tr>\n      <th>2935847</th>\n      <td>2015-10-22</td>\n      <td>33</td>\n      <td>25</td>\n      <td>7440</td>\n      <td>299.00</td>\n      <td>1.0</td>\n    </tr>\n    <tr>\n      <th>2935848</th>\n      <td>2015-10-03</td>\n      <td>33</td>\n      <td>25</td>\n      <td>7460</td>\n      <td>299.00</td>\n      <td>1.0</td>\n    </tr>\n  </tbody>\n</table>\n<p>2589009 rows × 6 columns</p>\n</div>"
     },
     "execution_count": 374,
     "metadata": {},
     "output_type": "execute_result"
    }
   ],
   "source": [
    "sales_df"
   ],
   "metadata": {
    "collapsed": false,
    "ExecuteTime": {
     "end_time": "2024-01-22T16:47:25.802390598Z",
     "start_time": "2024-01-22T16:47:25.745241808Z"
    }
   },
   "id": "c4098402de432bc9",
   "execution_count": 374
  },
  {
   "cell_type": "code",
   "outputs": [
    {
     "data": {
      "text/plain": "                                shop_name  shop_id              city\n2                        Адыгея ТЦ \"Мега\"        2            Адыгея\n3          Балашиха ТРК \"Октябрь-Киномир\"        3          Балашиха\n4                Волжский ТЦ \"Волга Молл\"        4          Волжский\n5                  Вологда ТРЦ \"Мармелад\"        5           Вологда\n6              Воронеж (Плехановская, 13)        6           Воронеж\n7                  Воронеж ТРЦ \"Максимир\"        7           Воронеж\n8            Воронеж ТРЦ Сити-Парк \"Град\"        8           Воронеж\n9                       Выездная Торговля        9          Выездная\n11             Жуковский ул. Чкалова 39м²       11         Жуковский\n12                    Интернет-магазин ЧС       12  Интернет-магазин\n13                    Казань ТЦ \"Бехетле\"       13            Казань\n14                Казань ТЦ \"ПаркХаус\" II       14            Казань\n15                   Калуга ТРЦ \"XXI век\"       15            Калуга\n16                       Коломна ТЦ \"Рио\"       16           Коломна\n17          Красноярск ТЦ \"Взлетка Плаза\"       17        Красноярск\n18                   Красноярск ТЦ \"Июнь\"       18        Красноярск\n19                  Курск ТЦ \"Пушкинский\"       19             Курск\n20                    Москва \"Распродажа\"       20            Москва\n21                 Москва МТРЦ \"Афи Молл\"       21            Москва\n22                     Москва Магазин С21       22            Москва\n23       Москва ТК \"Буденовский\" (пав.А2)       23            Москва\n24       Москва ТК \"Буденовский\" (пав.К7)       24            Москва\n25                    Москва ТРК \"Атриум\"       25            Москва\n26            Москва ТЦ \"Ареал\" (Беляево)       26            Москва\n27         Москва ТЦ \"МЕГА Белая Дача II\"       27            Москва\n28        Москва ТЦ \"МЕГА Теплый Стан\" II       28            Москва\n29     Москва ТЦ \"Новый век\" (Новокосино)       29            Москва\n30                 Москва ТЦ \"Перловский\"       30            Москва\n31                Москва ТЦ \"Семеновский\"       31            Москва\n32             Москва ТЦ \"Серебряный Дом\"       32            Москва\n33                      Мытищи ТРК \"XL-3\"       33            Мытищи\n34                   Н.Новгород ТРЦ \"РИО\"       34        Н.Новгород\n35            Н.Новгород ТРЦ \"Фантастика\"       35        Н.Новгород\n36  Новосибирск ТРЦ \"Галерея Новосибирск\"       36       Новосибирск\n37                  Новосибирск ТЦ \"Мега\"       37       Новосибирск\n38                         Омск ТЦ \"Мега\"       38              Омск\n39  РостовНаДону ТРК \"Мегацентр Горизонт\"       39      РостовНаДону\n41                 РостовНаДону ТЦ \"Мега\"       41      РостовНаДону\n42                 СПб ТК \"Невский Центр\"       42               СПб\n43                        СПб ТК \"Сенная\"       43               СПб\n44                    Самара ТЦ \"Мелодия\"       44            Самара\n45                   Самара ТЦ \"ПаркХаус\"       45            Самара\n46                   СергиевПосад ТЦ \"7Я\"       46      СергиевПосад\n47                 Сургут ТРЦ \"Сити Молл\"       47            Сургут\n48           Томск ТРЦ \"Изумрудный Город\"       48             Томск\n49                  Тюмень ТРЦ \"Кристалл\"       49            Тюмень\n50                     Тюмень ТЦ \"Гудвин\"       50            Тюмень\n51              Тюмень ТЦ \"Зеленый Берег\"       51            Тюмень\n52                   Уфа ТК \"Центральный\"       52               Уфа\n53                       Уфа ТЦ \"Семья\" 2       53               Уфа\n54                        Химки ТЦ \"Мега\"       54             Химки\n55               Цифровой склад 1С-Онлайн       55          Цифровой\n56                   Чехов ТРЦ \"Карнавал\"       56             Чехов\n57                Якутск Орджоникидзе, 56       57            Якутск\n58                Якутск ТЦ \"Центральный\"       58            Якутск\n59                 Ярославль ТЦ \"Альтаир\"       59         Ярославль",
      "text/html": "<div>\n<style scoped>\n    .dataframe tbody tr th:only-of-type {\n        vertical-align: middle;\n    }\n\n    .dataframe tbody tr th {\n        vertical-align: top;\n    }\n\n    .dataframe thead th {\n        text-align: right;\n    }\n</style>\n<table border=\"1\" class=\"dataframe\">\n  <thead>\n    <tr style=\"text-align: right;\">\n      <th></th>\n      <th>shop_name</th>\n      <th>shop_id</th>\n      <th>city</th>\n    </tr>\n  </thead>\n  <tbody>\n    <tr>\n      <th>2</th>\n      <td>Адыгея ТЦ \"Мега\"</td>\n      <td>2</td>\n      <td>Адыгея</td>\n    </tr>\n    <tr>\n      <th>3</th>\n      <td>Балашиха ТРК \"Октябрь-Киномир\"</td>\n      <td>3</td>\n      <td>Балашиха</td>\n    </tr>\n    <tr>\n      <th>4</th>\n      <td>Волжский ТЦ \"Волга Молл\"</td>\n      <td>4</td>\n      <td>Волжский</td>\n    </tr>\n    <tr>\n      <th>5</th>\n      <td>Вологда ТРЦ \"Мармелад\"</td>\n      <td>5</td>\n      <td>Вологда</td>\n    </tr>\n    <tr>\n      <th>6</th>\n      <td>Воронеж (Плехановская, 13)</td>\n      <td>6</td>\n      <td>Воронеж</td>\n    </tr>\n    <tr>\n      <th>7</th>\n      <td>Воронеж ТРЦ \"Максимир\"</td>\n      <td>7</td>\n      <td>Воронеж</td>\n    </tr>\n    <tr>\n      <th>8</th>\n      <td>Воронеж ТРЦ Сити-Парк \"Град\"</td>\n      <td>8</td>\n      <td>Воронеж</td>\n    </tr>\n    <tr>\n      <th>9</th>\n      <td>Выездная Торговля</td>\n      <td>9</td>\n      <td>Выездная</td>\n    </tr>\n    <tr>\n      <th>11</th>\n      <td>Жуковский ул. Чкалова 39м²</td>\n      <td>11</td>\n      <td>Жуковский</td>\n    </tr>\n    <tr>\n      <th>12</th>\n      <td>Интернет-магазин ЧС</td>\n      <td>12</td>\n      <td>Интернет-магазин</td>\n    </tr>\n    <tr>\n      <th>13</th>\n      <td>Казань ТЦ \"Бехетле\"</td>\n      <td>13</td>\n      <td>Казань</td>\n    </tr>\n    <tr>\n      <th>14</th>\n      <td>Казань ТЦ \"ПаркХаус\" II</td>\n      <td>14</td>\n      <td>Казань</td>\n    </tr>\n    <tr>\n      <th>15</th>\n      <td>Калуга ТРЦ \"XXI век\"</td>\n      <td>15</td>\n      <td>Калуга</td>\n    </tr>\n    <tr>\n      <th>16</th>\n      <td>Коломна ТЦ \"Рио\"</td>\n      <td>16</td>\n      <td>Коломна</td>\n    </tr>\n    <tr>\n      <th>17</th>\n      <td>Красноярск ТЦ \"Взлетка Плаза\"</td>\n      <td>17</td>\n      <td>Красноярск</td>\n    </tr>\n    <tr>\n      <th>18</th>\n      <td>Красноярск ТЦ \"Июнь\"</td>\n      <td>18</td>\n      <td>Красноярск</td>\n    </tr>\n    <tr>\n      <th>19</th>\n      <td>Курск ТЦ \"Пушкинский\"</td>\n      <td>19</td>\n      <td>Курск</td>\n    </tr>\n    <tr>\n      <th>20</th>\n      <td>Москва \"Распродажа\"</td>\n      <td>20</td>\n      <td>Москва</td>\n    </tr>\n    <tr>\n      <th>21</th>\n      <td>Москва МТРЦ \"Афи Молл\"</td>\n      <td>21</td>\n      <td>Москва</td>\n    </tr>\n    <tr>\n      <th>22</th>\n      <td>Москва Магазин С21</td>\n      <td>22</td>\n      <td>Москва</td>\n    </tr>\n    <tr>\n      <th>23</th>\n      <td>Москва ТК \"Буденовский\" (пав.А2)</td>\n      <td>23</td>\n      <td>Москва</td>\n    </tr>\n    <tr>\n      <th>24</th>\n      <td>Москва ТК \"Буденовский\" (пав.К7)</td>\n      <td>24</td>\n      <td>Москва</td>\n    </tr>\n    <tr>\n      <th>25</th>\n      <td>Москва ТРК \"Атриум\"</td>\n      <td>25</td>\n      <td>Москва</td>\n    </tr>\n    <tr>\n      <th>26</th>\n      <td>Москва ТЦ \"Ареал\" (Беляево)</td>\n      <td>26</td>\n      <td>Москва</td>\n    </tr>\n    <tr>\n      <th>27</th>\n      <td>Москва ТЦ \"МЕГА Белая Дача II\"</td>\n      <td>27</td>\n      <td>Москва</td>\n    </tr>\n    <tr>\n      <th>28</th>\n      <td>Москва ТЦ \"МЕГА Теплый Стан\" II</td>\n      <td>28</td>\n      <td>Москва</td>\n    </tr>\n    <tr>\n      <th>29</th>\n      <td>Москва ТЦ \"Новый век\" (Новокосино)</td>\n      <td>29</td>\n      <td>Москва</td>\n    </tr>\n    <tr>\n      <th>30</th>\n      <td>Москва ТЦ \"Перловский\"</td>\n      <td>30</td>\n      <td>Москва</td>\n    </tr>\n    <tr>\n      <th>31</th>\n      <td>Москва ТЦ \"Семеновский\"</td>\n      <td>31</td>\n      <td>Москва</td>\n    </tr>\n    <tr>\n      <th>32</th>\n      <td>Москва ТЦ \"Серебряный Дом\"</td>\n      <td>32</td>\n      <td>Москва</td>\n    </tr>\n    <tr>\n      <th>33</th>\n      <td>Мытищи ТРК \"XL-3\"</td>\n      <td>33</td>\n      <td>Мытищи</td>\n    </tr>\n    <tr>\n      <th>34</th>\n      <td>Н.Новгород ТРЦ \"РИО\"</td>\n      <td>34</td>\n      <td>Н.Новгород</td>\n    </tr>\n    <tr>\n      <th>35</th>\n      <td>Н.Новгород ТРЦ \"Фантастика\"</td>\n      <td>35</td>\n      <td>Н.Новгород</td>\n    </tr>\n    <tr>\n      <th>36</th>\n      <td>Новосибирск ТРЦ \"Галерея Новосибирск\"</td>\n      <td>36</td>\n      <td>Новосибирск</td>\n    </tr>\n    <tr>\n      <th>37</th>\n      <td>Новосибирск ТЦ \"Мега\"</td>\n      <td>37</td>\n      <td>Новосибирск</td>\n    </tr>\n    <tr>\n      <th>38</th>\n      <td>Омск ТЦ \"Мега\"</td>\n      <td>38</td>\n      <td>Омск</td>\n    </tr>\n    <tr>\n      <th>39</th>\n      <td>РостовНаДону ТРК \"Мегацентр Горизонт\"</td>\n      <td>39</td>\n      <td>РостовНаДону</td>\n    </tr>\n    <tr>\n      <th>41</th>\n      <td>РостовНаДону ТЦ \"Мега\"</td>\n      <td>41</td>\n      <td>РостовНаДону</td>\n    </tr>\n    <tr>\n      <th>42</th>\n      <td>СПб ТК \"Невский Центр\"</td>\n      <td>42</td>\n      <td>СПб</td>\n    </tr>\n    <tr>\n      <th>43</th>\n      <td>СПб ТК \"Сенная\"</td>\n      <td>43</td>\n      <td>СПб</td>\n    </tr>\n    <tr>\n      <th>44</th>\n      <td>Самара ТЦ \"Мелодия\"</td>\n      <td>44</td>\n      <td>Самара</td>\n    </tr>\n    <tr>\n      <th>45</th>\n      <td>Самара ТЦ \"ПаркХаус\"</td>\n      <td>45</td>\n      <td>Самара</td>\n    </tr>\n    <tr>\n      <th>46</th>\n      <td>СергиевПосад ТЦ \"7Я\"</td>\n      <td>46</td>\n      <td>СергиевПосад</td>\n    </tr>\n    <tr>\n      <th>47</th>\n      <td>Сургут ТРЦ \"Сити Молл\"</td>\n      <td>47</td>\n      <td>Сургут</td>\n    </tr>\n    <tr>\n      <th>48</th>\n      <td>Томск ТРЦ \"Изумрудный Город\"</td>\n      <td>48</td>\n      <td>Томск</td>\n    </tr>\n    <tr>\n      <th>49</th>\n      <td>Тюмень ТРЦ \"Кристалл\"</td>\n      <td>49</td>\n      <td>Тюмень</td>\n    </tr>\n    <tr>\n      <th>50</th>\n      <td>Тюмень ТЦ \"Гудвин\"</td>\n      <td>50</td>\n      <td>Тюмень</td>\n    </tr>\n    <tr>\n      <th>51</th>\n      <td>Тюмень ТЦ \"Зеленый Берег\"</td>\n      <td>51</td>\n      <td>Тюмень</td>\n    </tr>\n    <tr>\n      <th>52</th>\n      <td>Уфа ТК \"Центральный\"</td>\n      <td>52</td>\n      <td>Уфа</td>\n    </tr>\n    <tr>\n      <th>53</th>\n      <td>Уфа ТЦ \"Семья\" 2</td>\n      <td>53</td>\n      <td>Уфа</td>\n    </tr>\n    <tr>\n      <th>54</th>\n      <td>Химки ТЦ \"Мега\"</td>\n      <td>54</td>\n      <td>Химки</td>\n    </tr>\n    <tr>\n      <th>55</th>\n      <td>Цифровой склад 1С-Онлайн</td>\n      <td>55</td>\n      <td>Цифровой</td>\n    </tr>\n    <tr>\n      <th>56</th>\n      <td>Чехов ТРЦ \"Карнавал\"</td>\n      <td>56</td>\n      <td>Чехов</td>\n    </tr>\n    <tr>\n      <th>57</th>\n      <td>Якутск Орджоникидзе, 56</td>\n      <td>57</td>\n      <td>Якутск</td>\n    </tr>\n    <tr>\n      <th>58</th>\n      <td>Якутск ТЦ \"Центральный\"</td>\n      <td>58</td>\n      <td>Якутск</td>\n    </tr>\n    <tr>\n      <th>59</th>\n      <td>Ярославль ТЦ \"Альтаир\"</td>\n      <td>59</td>\n      <td>Ярославль</td>\n    </tr>\n  </tbody>\n</table>\n</div>"
     },
     "execution_count": 375,
     "metadata": {},
     "output_type": "execute_result"
    }
   ],
   "source": [
    "shops_df"
   ],
   "metadata": {
    "collapsed": false,
    "ExecuteTime": {
     "end_time": "2024-01-22T16:47:25.836050254Z",
     "start_time": "2024-01-22T16:47:25.756262087Z"
    }
   },
   "id": "1410a81450ea0953",
   "execution_count": 375
  },
  {
   "cell_type": "code",
   "outputs": [
    {
     "data": {
      "text/plain": "            ID  shop_id  item_id\n0            0        5     5037\n1            1        5     5320\n2            2        5     5233\n3            3        5     5232\n4            4        5     5268\n...        ...      ...      ...\n214195  214195       45    18454\n214196  214196       45    16188\n214197  214197       45    15757\n214198  214198       45    19648\n214199  214199       45      969\n\n[214200 rows x 3 columns]",
      "text/html": "<div>\n<style scoped>\n    .dataframe tbody tr th:only-of-type {\n        vertical-align: middle;\n    }\n\n    .dataframe tbody tr th {\n        vertical-align: top;\n    }\n\n    .dataframe thead th {\n        text-align: right;\n    }\n</style>\n<table border=\"1\" class=\"dataframe\">\n  <thead>\n    <tr style=\"text-align: right;\">\n      <th></th>\n      <th>ID</th>\n      <th>shop_id</th>\n      <th>item_id</th>\n    </tr>\n  </thead>\n  <tbody>\n    <tr>\n      <th>0</th>\n      <td>0</td>\n      <td>5</td>\n      <td>5037</td>\n    </tr>\n    <tr>\n      <th>1</th>\n      <td>1</td>\n      <td>5</td>\n      <td>5320</td>\n    </tr>\n    <tr>\n      <th>2</th>\n      <td>2</td>\n      <td>5</td>\n      <td>5233</td>\n    </tr>\n    <tr>\n      <th>3</th>\n      <td>3</td>\n      <td>5</td>\n      <td>5232</td>\n    </tr>\n    <tr>\n      <th>4</th>\n      <td>4</td>\n      <td>5</td>\n      <td>5268</td>\n    </tr>\n    <tr>\n      <th>...</th>\n      <td>...</td>\n      <td>...</td>\n      <td>...</td>\n    </tr>\n    <tr>\n      <th>214195</th>\n      <td>214195</td>\n      <td>45</td>\n      <td>18454</td>\n    </tr>\n    <tr>\n      <th>214196</th>\n      <td>214196</td>\n      <td>45</td>\n      <td>16188</td>\n    </tr>\n    <tr>\n      <th>214197</th>\n      <td>214197</td>\n      <td>45</td>\n      <td>15757</td>\n    </tr>\n    <tr>\n      <th>214198</th>\n      <td>214198</td>\n      <td>45</td>\n      <td>19648</td>\n    </tr>\n    <tr>\n      <th>214199</th>\n      <td>214199</td>\n      <td>45</td>\n      <td>969</td>\n    </tr>\n  </tbody>\n</table>\n<p>214200 rows × 3 columns</p>\n</div>"
     },
     "execution_count": 376,
     "metadata": {},
     "output_type": "execute_result"
    }
   ],
   "source": [
    "test_df"
   ],
   "metadata": {
    "collapsed": false,
    "ExecuteTime": {
     "end_time": "2024-01-22T16:47:25.838766754Z",
     "start_time": "2024-01-22T16:47:25.803419761Z"
    }
   },
   "id": "cb4b1074d4fb3b90",
   "execution_count": 376
  },
  {
   "cell_type": "markdown",
   "source": [
    "<font size = 5>\n",
    "\n",
    "TODO:\n",
    "1) Придумать, что сделать со значениями цены, которая ниже 0.1, какойто месяц акции по ощущению произошёл в 2013.06. Сначала лучше всего оставить, посмотреть что по итогу будет на графике.\n",
    "Как идея взять среднюю цену по этому продукту в другие месяца и заменить. ALERT!!! Ни в коем случае не удалять, пропадёт 1-2 месяца из данных.\n",
    "\n",
    "2) Не все шопы , что есть в трейне - есть в тесте, не все товары, что есть в тесте - есть в трейне. Как идея можно просто выбросить эти 363 товара из теста. Трейн с уникальными товарами и шопами можно по идее не трогать, их не так много, обучение не ускорит\n",
    "\n",
    "3) ALERT!!! не забыть после того как сделаю EDA, при соединении таблиц в одну дропнуть дубликаты. 2700 товаров повторяется, пока что не дропал, ведь там уникальные айдишники, пришлось бы менять всё в ручную. \n",
    "\n",
    "4) не забыть создать новых фич цены после EDA для обучения. Может точность модели возрастёт\n",
    "</font>"
   ],
   "metadata": {
    "collapsed": false
   },
   "id": "3588ebb3c48972a4"
  }
 ],
 "metadata": {
  "kernelspec": {
   "display_name": "Python 3",
   "language": "python",
   "name": "python3"
  },
  "language_info": {
   "codemirror_mode": {
    "name": "ipython",
    "version": 2
   },
   "file_extension": ".py",
   "mimetype": "text/x-python",
   "name": "python",
   "nbconvert_exporter": "python",
   "pygments_lexer": "ipython2",
   "version": "2.7.6"
  }
 },
 "nbformat": 4,
 "nbformat_minor": 5
}
